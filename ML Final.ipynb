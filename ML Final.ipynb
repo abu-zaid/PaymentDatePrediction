{
 "cells": [
  {
   "cell_type": "markdown",
   "id": "c4f073ee",
   "metadata": {},
   "source": [
    "# Payment Date Prediction Model"
   ]
  },
  {
   "cell_type": "markdown",
   "id": "6b0967d6",
   "metadata": {},
   "source": [
    "## Import dataset and packages"
   ]
  },
  {
   "cell_type": "code",
   "execution_count": 1,
   "id": "1c822952",
   "metadata": {
    "scrolled": true
   },
   "outputs": [
    {
     "data": {
      "text/html": [
       "<div>\n",
       "<style scoped>\n",
       "    .dataframe tbody tr th:only-of-type {\n",
       "        vertical-align: middle;\n",
       "    }\n",
       "\n",
       "    .dataframe tbody tr th {\n",
       "        vertical-align: top;\n",
       "    }\n",
       "\n",
       "    .dataframe thead th {\n",
       "        text-align: right;\n",
       "    }\n",
       "</style>\n",
       "<table border=\"1\" class=\"dataframe\">\n",
       "  <thead>\n",
       "    <tr style=\"text-align: right;\">\n",
       "      <th></th>\n",
       "      <th>business_code</th>\n",
       "      <th>cust_number</th>\n",
       "      <th>name_customer</th>\n",
       "      <th>clear_date</th>\n",
       "      <th>buisness_year</th>\n",
       "      <th>doc_id</th>\n",
       "      <th>posting_date</th>\n",
       "      <th>document_create_date</th>\n",
       "      <th>document_create_date.1</th>\n",
       "      <th>due_in_date</th>\n",
       "      <th>invoice_currency</th>\n",
       "      <th>document type</th>\n",
       "      <th>posting_id</th>\n",
       "      <th>area_business</th>\n",
       "      <th>total_open_amount</th>\n",
       "      <th>baseline_create_date</th>\n",
       "      <th>cust_payment_terms</th>\n",
       "      <th>invoice_id</th>\n",
       "      <th>isOpen</th>\n",
       "    </tr>\n",
       "  </thead>\n",
       "  <tbody>\n",
       "    <tr>\n",
       "      <th>0</th>\n",
       "      <td>CA02</td>\n",
       "      <td>0100031920</td>\n",
       "      <td>AOF SER in</td>\n",
       "      <td>2019-03-08 00:00:00</td>\n",
       "      <td>2019.0</td>\n",
       "      <td>2.960530e+09</td>\n",
       "      <td>2019-02-19</td>\n",
       "      <td>20190219</td>\n",
       "      <td>20190219</td>\n",
       "      <td>20190303.0</td>\n",
       "      <td>CAD</td>\n",
       "      <td>RV</td>\n",
       "      <td>1.0</td>\n",
       "      <td>NaN</td>\n",
       "      <td>17235.74</td>\n",
       "      <td>20190221.0</td>\n",
       "      <td>CA10</td>\n",
       "      <td>2.960530e+09</td>\n",
       "      <td>0</td>\n",
       "    </tr>\n",
       "    <tr>\n",
       "      <th>1</th>\n",
       "      <td>U001</td>\n",
       "      <td>0100028715</td>\n",
       "      <td>SPECIALT co</td>\n",
       "      <td>2019-03-22 00:00:00</td>\n",
       "      <td>2019.0</td>\n",
       "      <td>1.928914e+09</td>\n",
       "      <td>2019-03-08</td>\n",
       "      <td>20190306</td>\n",
       "      <td>20190308</td>\n",
       "      <td>20190323.0</td>\n",
       "      <td>USD</td>\n",
       "      <td>RV</td>\n",
       "      <td>1.0</td>\n",
       "      <td>NaN</td>\n",
       "      <td>17709.36</td>\n",
       "      <td>20190308.0</td>\n",
       "      <td>NAA8</td>\n",
       "      <td>1.928914e+09</td>\n",
       "      <td>0</td>\n",
       "    </tr>\n",
       "    <tr>\n",
       "      <th>2</th>\n",
       "      <td>CA02</td>\n",
       "      <td>0140106293</td>\n",
       "      <td>ATLANT systems</td>\n",
       "      <td>2019-08-30 00:00:00</td>\n",
       "      <td>2019.0</td>\n",
       "      <td>2.960573e+09</td>\n",
       "      <td>2019-08-14</td>\n",
       "      <td>20190814</td>\n",
       "      <td>20190814</td>\n",
       "      <td>20190902.0</td>\n",
       "      <td>CAD</td>\n",
       "      <td>RV</td>\n",
       "      <td>1.0</td>\n",
       "      <td>NaN</td>\n",
       "      <td>352.42</td>\n",
       "      <td>20190823.0</td>\n",
       "      <td>CA10</td>\n",
       "      <td>2.960573e+09</td>\n",
       "      <td>0</td>\n",
       "    </tr>\n",
       "    <tr>\n",
       "      <th>3</th>\n",
       "      <td>U001</td>\n",
       "      <td>0200769623</td>\n",
       "      <td>WAL-MAR</td>\n",
       "      <td>2020-02-26 00:00:00</td>\n",
       "      <td>2020.0</td>\n",
       "      <td>1.930533e+09</td>\n",
       "      <td>2020-02-16</td>\n",
       "      <td>20200216</td>\n",
       "      <td>20200216</td>\n",
       "      <td>20200302.0</td>\n",
       "      <td>USD</td>\n",
       "      <td>RV</td>\n",
       "      <td>1.0</td>\n",
       "      <td>NaN</td>\n",
       "      <td>71648.51</td>\n",
       "      <td>20200216.0</td>\n",
       "      <td>NAH4</td>\n",
       "      <td>1.930533e+09</td>\n",
       "      <td>0</td>\n",
       "    </tr>\n",
       "    <tr>\n",
       "      <th>4</th>\n",
       "      <td>CA02</td>\n",
       "      <td>0140106408</td>\n",
       "      <td>WAL-M in</td>\n",
       "      <td>2019-02-08 00:00:00</td>\n",
       "      <td>2019.0</td>\n",
       "      <td>2.960524e+09</td>\n",
       "      <td>2019-01-23</td>\n",
       "      <td>20190123</td>\n",
       "      <td>20190123</td>\n",
       "      <td>20190202.0</td>\n",
       "      <td>CAD</td>\n",
       "      <td>RV</td>\n",
       "      <td>1.0</td>\n",
       "      <td>NaN</td>\n",
       "      <td>1518.50</td>\n",
       "      <td>20190123.0</td>\n",
       "      <td>CA10</td>\n",
       "      <td>2.960524e+09</td>\n",
       "      <td>0</td>\n",
       "    </tr>\n",
       "  </tbody>\n",
       "</table>\n",
       "</div>"
      ],
      "text/plain": [
       "  business_code cust_number   name_customer           clear_date  \\\n",
       "0          CA02  0100031920      AOF SER in  2019-03-08 00:00:00   \n",
       "1          U001  0100028715     SPECIALT co  2019-03-22 00:00:00   \n",
       "2          CA02  0140106293  ATLANT systems  2019-08-30 00:00:00   \n",
       "3          U001  0200769623        WAL-MAR   2020-02-26 00:00:00   \n",
       "4          CA02  0140106408        WAL-M in  2019-02-08 00:00:00   \n",
       "\n",
       "   buisness_year        doc_id posting_date  document_create_date  \\\n",
       "0         2019.0  2.960530e+09   2019-02-19              20190219   \n",
       "1         2019.0  1.928914e+09   2019-03-08              20190306   \n",
       "2         2019.0  2.960573e+09   2019-08-14              20190814   \n",
       "3         2020.0  1.930533e+09   2020-02-16              20200216   \n",
       "4         2019.0  2.960524e+09   2019-01-23              20190123   \n",
       "\n",
       "   document_create_date.1  due_in_date invoice_currency document type  \\\n",
       "0                20190219   20190303.0              CAD            RV   \n",
       "1                20190308   20190323.0              USD            RV   \n",
       "2                20190814   20190902.0              CAD            RV   \n",
       "3                20200216   20200302.0              USD            RV   \n",
       "4                20190123   20190202.0              CAD            RV   \n",
       "\n",
       "   posting_id  area_business  total_open_amount  baseline_create_date  \\\n",
       "0         1.0            NaN           17235.74            20190221.0   \n",
       "1         1.0            NaN           17709.36            20190308.0   \n",
       "2         1.0            NaN             352.42            20190823.0   \n",
       "3         1.0            NaN           71648.51            20200216.0   \n",
       "4         1.0            NaN            1518.50            20190123.0   \n",
       "\n",
       "  cust_payment_terms    invoice_id  isOpen  \n",
       "0               CA10  2.960530e+09       0  \n",
       "1               NAA8  1.928914e+09       0  \n",
       "2               CA10  2.960573e+09       0  \n",
       "3               NAH4  1.930533e+09       0  \n",
       "4               CA10  2.960524e+09       0  "
      ]
     },
     "execution_count": 1,
     "metadata": {},
     "output_type": "execute_result"
    }
   ],
   "source": [
    "#import all required packages and dataset and split datatset into training and test according to clear_date\n",
    "\n",
    "from sklearn.preprocessing import LabelEncoder\n",
    "import pandas as pd\n",
    "import numpy as np\n",
    "from sklearn.model_selection import train_test_split\n",
    "from matplotlib import pyplot as plt\n",
    "import seaborn as sns\n",
    "from sklearn.linear_model import LinearRegression\n",
    "from sklearn.datasets import load_boston\n",
    "\n",
    "\n",
    "###read csv and differentiate train and test data according to where create date is null or not\n",
    "df=pd.read_csv('Downloads\\H2HBABBA1586.csv')\n",
    "dft=df[df['clear_date'].notna()]\n",
    "test=df[df['clear_date'].isna()]\n",
    "dft.to_csv('Training.csv')\n",
    "test.to_csv('Testing.csv')\n",
    "\n",
    "dft.head()\n",
    "\n"
   ]
  },
  {
   "cell_type": "markdown",
   "id": "f45e6d1a",
   "metadata": {},
   "source": [
    "# Data Preprocessing"
   ]
  },
  {
   "cell_type": "markdown",
   "id": "b0b63ff6",
   "metadata": {},
   "source": [
    "### Find and drop null values"
   ]
  },
  {
   "cell_type": "code",
   "execution_count": 2,
   "id": "1d2b729b",
   "metadata": {},
   "outputs": [
    {
     "data": {
      "text/plain": [
       "business_code                 0\n",
       "cust_number                   0\n",
       "name_customer                 0\n",
       "clear_date                    0\n",
       "buisness_year                 0\n",
       "doc_id                        0\n",
       "posting_date                  0\n",
       "document_create_date          0\n",
       "document_create_date.1        0\n",
       "due_in_date                   0\n",
       "invoice_currency              0\n",
       "document type                 0\n",
       "posting_id                    0\n",
       "area_business             40000\n",
       "total_open_amount             0\n",
       "baseline_create_date          0\n",
       "cust_payment_terms            0\n",
       "invoice_id                    1\n",
       "isOpen                        0\n",
       "dtype: int64"
      ]
     },
     "execution_count": 2,
     "metadata": {},
     "output_type": "execute_result"
    }
   ],
   "source": [
    "dft.isna().sum()"
   ]
  },
  {
   "cell_type": "code",
   "execution_count": 3,
   "id": "2a864bb3",
   "metadata": {},
   "outputs": [
    {
     "name": "stderr",
     "output_type": "stream",
     "text": [
      "<ipython-input-3-a4a506ff6eed>:2: SettingWithCopyWarning: \n",
      "A value is trying to be set on a copy of a slice from a DataFrame\n",
      "\n",
      "See the caveats in the documentation: https://pandas.pydata.org/pandas-docs/stable/user_guide/indexing.html#returning-a-view-versus-a-copy\n",
      "  dft.dropna(how='all',axis=1,inplace=True)\n",
      "<ipython-input-3-a4a506ff6eed>:5: SettingWithCopyWarning: \n",
      "A value is trying to be set on a copy of a slice from a DataFrame\n",
      "\n",
      "See the caveats in the documentation: https://pandas.pydata.org/pandas-docs/stable/user_guide/indexing.html#returning-a-view-versus-a-copy\n",
      "  dft.dropna(how='any',axis=0,inplace=True)\n"
     ]
    }
   ],
   "source": [
    "###drop any column where all row values are null\n",
    "dft.dropna(how='all',axis=1,inplace=True)\n",
    "\n",
    "###drop any row where primary key value is null\n",
    "dft.dropna(how='any',axis=0,inplace=True)"
   ]
  },
  {
   "cell_type": "code",
   "execution_count": 4,
   "id": "cdc63cfa",
   "metadata": {},
   "outputs": [
    {
     "data": {
      "text/plain": [
       "1"
      ]
     },
     "execution_count": 4,
     "metadata": {},
     "output_type": "execute_result"
    }
   ],
   "source": [
    "###check for duplicated column by transposing rows and columns\n",
    "transpose=dft.T\n",
    "transpose.duplicated().sum()"
   ]
  },
  {
   "cell_type": "code",
   "execution_count": 5,
   "id": "ee8f2685",
   "metadata": {},
   "outputs": [
    {
     "data": {
      "text/html": [
       "<div>\n",
       "<style scoped>\n",
       "    .dataframe tbody tr th:only-of-type {\n",
       "        vertical-align: middle;\n",
       "    }\n",
       "\n",
       "    .dataframe tbody tr th {\n",
       "        vertical-align: top;\n",
       "    }\n",
       "\n",
       "    .dataframe thead th {\n",
       "        text-align: right;\n",
       "    }\n",
       "</style>\n",
       "<table border=\"1\" class=\"dataframe\">\n",
       "  <thead>\n",
       "    <tr style=\"text-align: right;\">\n",
       "      <th></th>\n",
       "      <th>business_code</th>\n",
       "      <th>cust_number</th>\n",
       "      <th>name_customer</th>\n",
       "      <th>clear_date</th>\n",
       "      <th>buisness_year</th>\n",
       "      <th>doc_id</th>\n",
       "      <th>posting_date</th>\n",
       "      <th>document_create_date</th>\n",
       "      <th>document_create_date.1</th>\n",
       "      <th>due_in_date</th>\n",
       "      <th>invoice_currency</th>\n",
       "      <th>document type</th>\n",
       "      <th>posting_id</th>\n",
       "      <th>total_open_amount</th>\n",
       "      <th>baseline_create_date</th>\n",
       "      <th>cust_payment_terms</th>\n",
       "      <th>isOpen</th>\n",
       "    </tr>\n",
       "  </thead>\n",
       "  <tbody>\n",
       "    <tr>\n",
       "      <th>0</th>\n",
       "      <td>CA02</td>\n",
       "      <td>0100031920</td>\n",
       "      <td>AOF SER in</td>\n",
       "      <td>2019-03-08 00:00:00</td>\n",
       "      <td>2019.0</td>\n",
       "      <td>2960529720.0</td>\n",
       "      <td>2019-02-19</td>\n",
       "      <td>20190219</td>\n",
       "      <td>20190219</td>\n",
       "      <td>20190303.0</td>\n",
       "      <td>CAD</td>\n",
       "      <td>RV</td>\n",
       "      <td>1.0</td>\n",
       "      <td>17235.74</td>\n",
       "      <td>20190221.0</td>\n",
       "      <td>CA10</td>\n",
       "      <td>0</td>\n",
       "    </tr>\n",
       "    <tr>\n",
       "      <th>1</th>\n",
       "      <td>U001</td>\n",
       "      <td>0100028715</td>\n",
       "      <td>SPECIALT co</td>\n",
       "      <td>2019-03-22 00:00:00</td>\n",
       "      <td>2019.0</td>\n",
       "      <td>1928913842.0</td>\n",
       "      <td>2019-03-08</td>\n",
       "      <td>20190306</td>\n",
       "      <td>20190308</td>\n",
       "      <td>20190323.0</td>\n",
       "      <td>USD</td>\n",
       "      <td>RV</td>\n",
       "      <td>1.0</td>\n",
       "      <td>17709.36</td>\n",
       "      <td>20190308.0</td>\n",
       "      <td>NAA8</td>\n",
       "      <td>0</td>\n",
       "    </tr>\n",
       "    <tr>\n",
       "      <th>2</th>\n",
       "      <td>CA02</td>\n",
       "      <td>0140106293</td>\n",
       "      <td>ATLANT systems</td>\n",
       "      <td>2019-08-30 00:00:00</td>\n",
       "      <td>2019.0</td>\n",
       "      <td>2960573113.0</td>\n",
       "      <td>2019-08-14</td>\n",
       "      <td>20190814</td>\n",
       "      <td>20190814</td>\n",
       "      <td>20190902.0</td>\n",
       "      <td>CAD</td>\n",
       "      <td>RV</td>\n",
       "      <td>1.0</td>\n",
       "      <td>352.42</td>\n",
       "      <td>20190823.0</td>\n",
       "      <td>CA10</td>\n",
       "      <td>0</td>\n",
       "    </tr>\n",
       "    <tr>\n",
       "      <th>3</th>\n",
       "      <td>U001</td>\n",
       "      <td>0200769623</td>\n",
       "      <td>WAL-MAR</td>\n",
       "      <td>2020-02-26 00:00:00</td>\n",
       "      <td>2020.0</td>\n",
       "      <td>1930532862.0</td>\n",
       "      <td>2020-02-16</td>\n",
       "      <td>20200216</td>\n",
       "      <td>20200216</td>\n",
       "      <td>20200302.0</td>\n",
       "      <td>USD</td>\n",
       "      <td>RV</td>\n",
       "      <td>1.0</td>\n",
       "      <td>71648.51</td>\n",
       "      <td>20200216.0</td>\n",
       "      <td>NAH4</td>\n",
       "      <td>0</td>\n",
       "    </tr>\n",
       "    <tr>\n",
       "      <th>4</th>\n",
       "      <td>CA02</td>\n",
       "      <td>0140106408</td>\n",
       "      <td>WAL-M in</td>\n",
       "      <td>2019-02-08 00:00:00</td>\n",
       "      <td>2019.0</td>\n",
       "      <td>2960523898.0</td>\n",
       "      <td>2019-01-23</td>\n",
       "      <td>20190123</td>\n",
       "      <td>20190123</td>\n",
       "      <td>20190202.0</td>\n",
       "      <td>CAD</td>\n",
       "      <td>RV</td>\n",
       "      <td>1.0</td>\n",
       "      <td>1518.5</td>\n",
       "      <td>20190123.0</td>\n",
       "      <td>CA10</td>\n",
       "      <td>0</td>\n",
       "    </tr>\n",
       "  </tbody>\n",
       "</table>\n",
       "</div>"
      ],
      "text/plain": [
       "  business_code cust_number   name_customer           clear_date  \\\n",
       "0          CA02  0100031920      AOF SER in  2019-03-08 00:00:00   \n",
       "1          U001  0100028715     SPECIALT co  2019-03-22 00:00:00   \n",
       "2          CA02  0140106293  ATLANT systems  2019-08-30 00:00:00   \n",
       "3          U001  0200769623        WAL-MAR   2020-02-26 00:00:00   \n",
       "4          CA02  0140106408        WAL-M in  2019-02-08 00:00:00   \n",
       "\n",
       "  buisness_year        doc_id posting_date document_create_date  \\\n",
       "0        2019.0  2960529720.0   2019-02-19             20190219   \n",
       "1        2019.0  1928913842.0   2019-03-08             20190306   \n",
       "2        2019.0  2960573113.0   2019-08-14             20190814   \n",
       "3        2020.0  1930532862.0   2020-02-16             20200216   \n",
       "4        2019.0  2960523898.0   2019-01-23             20190123   \n",
       "\n",
       "  document_create_date.1 due_in_date invoice_currency document type  \\\n",
       "0               20190219  20190303.0              CAD            RV   \n",
       "1               20190308  20190323.0              USD            RV   \n",
       "2               20190814  20190902.0              CAD            RV   \n",
       "3               20200216  20200302.0              USD            RV   \n",
       "4               20190123  20190202.0              CAD            RV   \n",
       "\n",
       "  posting_id total_open_amount baseline_create_date cust_payment_terms isOpen  \n",
       "0        1.0          17235.74           20190221.0               CA10      0  \n",
       "1        1.0          17709.36           20190308.0               NAA8      0  \n",
       "2        1.0            352.42           20190823.0               CA10      0  \n",
       "3        1.0          71648.51           20200216.0               NAH4      0  \n",
       "4        1.0            1518.5           20190123.0               CA10      0  "
      ]
     },
     "execution_count": 5,
     "metadata": {},
     "output_type": "execute_result"
    }
   ],
   "source": [
    "#drop duplicated columns\n",
    "dft=transpose.drop_duplicates(keep='first').T\n",
    "dft.head()"
   ]
  },
  {
   "cell_type": "markdown",
   "id": "c732d292",
   "metadata": {},
   "source": [
    "### Convert CAD into USD"
   ]
  },
  {
   "cell_type": "code",
   "execution_count": 6,
   "id": "cae36e4d",
   "metadata": {},
   "outputs": [],
   "source": [
    "dft.loc[dft['invoice_currency']=='CAD','total_open_amount']=dft['total_open_amount']*1.23"
   ]
  },
  {
   "cell_type": "markdown",
   "id": "29002cb0",
   "metadata": {},
   "source": [
    "### Find our target variable"
   ]
  },
  {
   "cell_type": "code",
   "execution_count": 7,
   "id": "4bf63d85",
   "metadata": {},
   "outputs": [
    {
     "data": {
      "text/html": [
       "<div>\n",
       "<style scoped>\n",
       "    .dataframe tbody tr th:only-of-type {\n",
       "        vertical-align: middle;\n",
       "    }\n",
       "\n",
       "    .dataframe tbody tr th {\n",
       "        vertical-align: top;\n",
       "    }\n",
       "\n",
       "    .dataframe thead th {\n",
       "        text-align: right;\n",
       "    }\n",
       "</style>\n",
       "<table border=\"1\" class=\"dataframe\">\n",
       "  <thead>\n",
       "    <tr style=\"text-align: right;\">\n",
       "      <th></th>\n",
       "      <th>business_code</th>\n",
       "      <th>cust_number</th>\n",
       "      <th>name_customer</th>\n",
       "      <th>clear_date</th>\n",
       "      <th>buisness_year</th>\n",
       "      <th>doc_id</th>\n",
       "      <th>posting_date</th>\n",
       "      <th>document_create_date</th>\n",
       "      <th>document_create_date.1</th>\n",
       "      <th>due_in_date</th>\n",
       "      <th>invoice_currency</th>\n",
       "      <th>document type</th>\n",
       "      <th>posting_id</th>\n",
       "      <th>total_open_amount</th>\n",
       "      <th>baseline_create_date</th>\n",
       "      <th>cust_payment_terms</th>\n",
       "      <th>isOpen</th>\n",
       "      <th>target</th>\n",
       "    </tr>\n",
       "  </thead>\n",
       "  <tbody>\n",
       "    <tr>\n",
       "      <th>0</th>\n",
       "      <td>CA02</td>\n",
       "      <td>0100031920</td>\n",
       "      <td>AOF SER in</td>\n",
       "      <td>2019-03-08</td>\n",
       "      <td>2019.0</td>\n",
       "      <td>2960529720.0</td>\n",
       "      <td>2019-02-19</td>\n",
       "      <td>20190219</td>\n",
       "      <td>20190219</td>\n",
       "      <td>2019-03-03</td>\n",
       "      <td>CAD</td>\n",
       "      <td>RV</td>\n",
       "      <td>1.0</td>\n",
       "      <td>21199.9602</td>\n",
       "      <td>20190221.0</td>\n",
       "      <td>CA10</td>\n",
       "      <td>0</td>\n",
       "      <td>5</td>\n",
       "    </tr>\n",
       "    <tr>\n",
       "      <th>1</th>\n",
       "      <td>U001</td>\n",
       "      <td>0100028715</td>\n",
       "      <td>SPECIALT co</td>\n",
       "      <td>2019-03-22</td>\n",
       "      <td>2019.0</td>\n",
       "      <td>1928913842.0</td>\n",
       "      <td>2019-03-08</td>\n",
       "      <td>20190306</td>\n",
       "      <td>20190308</td>\n",
       "      <td>2019-03-23</td>\n",
       "      <td>USD</td>\n",
       "      <td>RV</td>\n",
       "      <td>1.0</td>\n",
       "      <td>17709.36</td>\n",
       "      <td>20190308.0</td>\n",
       "      <td>NAA8</td>\n",
       "      <td>0</td>\n",
       "      <td>-1</td>\n",
       "    </tr>\n",
       "    <tr>\n",
       "      <th>2</th>\n",
       "      <td>CA02</td>\n",
       "      <td>0140106293</td>\n",
       "      <td>ATLANT systems</td>\n",
       "      <td>2019-08-30</td>\n",
       "      <td>2019.0</td>\n",
       "      <td>2960573113.0</td>\n",
       "      <td>2019-08-14</td>\n",
       "      <td>20190814</td>\n",
       "      <td>20190814</td>\n",
       "      <td>2019-09-02</td>\n",
       "      <td>CAD</td>\n",
       "      <td>RV</td>\n",
       "      <td>1.0</td>\n",
       "      <td>433.4766</td>\n",
       "      <td>20190823.0</td>\n",
       "      <td>CA10</td>\n",
       "      <td>0</td>\n",
       "      <td>-3</td>\n",
       "    </tr>\n",
       "    <tr>\n",
       "      <th>3</th>\n",
       "      <td>U001</td>\n",
       "      <td>0200769623</td>\n",
       "      <td>WAL-MAR</td>\n",
       "      <td>2020-02-26</td>\n",
       "      <td>2020.0</td>\n",
       "      <td>1930532862.0</td>\n",
       "      <td>2020-02-16</td>\n",
       "      <td>20200216</td>\n",
       "      <td>20200216</td>\n",
       "      <td>2020-03-02</td>\n",
       "      <td>USD</td>\n",
       "      <td>RV</td>\n",
       "      <td>1.0</td>\n",
       "      <td>71648.51</td>\n",
       "      <td>20200216.0</td>\n",
       "      <td>NAH4</td>\n",
       "      <td>0</td>\n",
       "      <td>-5</td>\n",
       "    </tr>\n",
       "    <tr>\n",
       "      <th>4</th>\n",
       "      <td>CA02</td>\n",
       "      <td>0140106408</td>\n",
       "      <td>WAL-M in</td>\n",
       "      <td>2019-02-08</td>\n",
       "      <td>2019.0</td>\n",
       "      <td>2960523898.0</td>\n",
       "      <td>2019-01-23</td>\n",
       "      <td>20190123</td>\n",
       "      <td>20190123</td>\n",
       "      <td>2019-02-02</td>\n",
       "      <td>CAD</td>\n",
       "      <td>RV</td>\n",
       "      <td>1.0</td>\n",
       "      <td>1867.755</td>\n",
       "      <td>20190123.0</td>\n",
       "      <td>CA10</td>\n",
       "      <td>0</td>\n",
       "      <td>6</td>\n",
       "    </tr>\n",
       "  </tbody>\n",
       "</table>\n",
       "</div>"
      ],
      "text/plain": [
       "  business_code cust_number   name_customer clear_date buisness_year  \\\n",
       "0          CA02  0100031920      AOF SER in 2019-03-08        2019.0   \n",
       "1          U001  0100028715     SPECIALT co 2019-03-22        2019.0   \n",
       "2          CA02  0140106293  ATLANT systems 2019-08-30        2019.0   \n",
       "3          U001  0200769623        WAL-MAR  2020-02-26        2020.0   \n",
       "4          CA02  0140106408        WAL-M in 2019-02-08        2019.0   \n",
       "\n",
       "         doc_id posting_date document_create_date document_create_date.1  \\\n",
       "0  2960529720.0   2019-02-19             20190219               20190219   \n",
       "1  1928913842.0   2019-03-08             20190306               20190308   \n",
       "2  2960573113.0   2019-08-14             20190814               20190814   \n",
       "3  1930532862.0   2020-02-16             20200216               20200216   \n",
       "4  2960523898.0   2019-01-23             20190123               20190123   \n",
       "\n",
       "  due_in_date invoice_currency document type posting_id total_open_amount  \\\n",
       "0  2019-03-03              CAD            RV        1.0        21199.9602   \n",
       "1  2019-03-23              USD            RV        1.0          17709.36   \n",
       "2  2019-09-02              CAD            RV        1.0          433.4766   \n",
       "3  2020-03-02              USD            RV        1.0          71648.51   \n",
       "4  2019-02-02              CAD            RV        1.0          1867.755   \n",
       "\n",
       "  baseline_create_date cust_payment_terms isOpen  target  \n",
       "0           20190221.0               CA10      0       5  \n",
       "1           20190308.0               NAA8      0      -1  \n",
       "2           20190823.0               CA10      0      -3  \n",
       "3           20200216.0               NAH4      0      -5  \n",
       "4           20190123.0               CA10      0       6  "
      ]
     },
     "execution_count": 7,
     "metadata": {},
     "output_type": "execute_result"
    }
   ],
   "source": [
    "### find delay i.e. the target value for our dataset\n",
    "### by finding difference between clear date and due date\n",
    "dft['clear_date']= pd.to_datetime(dft['clear_date']) \n",
    "dft['due_in_date']= pd.to_datetime(dft['due_in_date'],format='%Y%m%d')\n",
    "delay=dft['clear_date']-dft['due_in_date']\n",
    "dft['target']=delay\n",
    "dft.target=dft.target.dt.days.astype(int)\n",
    "dft.head()"
   ]
  },
  {
   "cell_type": "code",
   "execution_count": 8,
   "id": "d75d1d70",
   "metadata": {},
   "outputs": [
    {
     "data": {
      "text/html": [
       "<div>\n",
       "<style scoped>\n",
       "    .dataframe tbody tr th:only-of-type {\n",
       "        vertical-align: middle;\n",
       "    }\n",
       "\n",
       "    .dataframe tbody tr th {\n",
       "        vertical-align: top;\n",
       "    }\n",
       "\n",
       "    .dataframe thead th {\n",
       "        text-align: right;\n",
       "    }\n",
       "</style>\n",
       "<table border=\"1\" class=\"dataframe\">\n",
       "  <thead>\n",
       "    <tr style=\"text-align: right;\">\n",
       "      <th></th>\n",
       "      <th>business_code</th>\n",
       "      <th>cust_number</th>\n",
       "      <th>name_customer</th>\n",
       "      <th>buisness_year</th>\n",
       "      <th>doc_id</th>\n",
       "      <th>posting_date</th>\n",
       "      <th>document_create_date</th>\n",
       "      <th>document_create_date.1</th>\n",
       "      <th>due_in_date</th>\n",
       "      <th>invoice_currency</th>\n",
       "      <th>document type</th>\n",
       "      <th>posting_id</th>\n",
       "      <th>total_open_amount</th>\n",
       "      <th>baseline_create_date</th>\n",
       "      <th>cust_payment_terms</th>\n",
       "      <th>isOpen</th>\n",
       "      <th>target</th>\n",
       "    </tr>\n",
       "  </thead>\n",
       "  <tbody>\n",
       "    <tr>\n",
       "      <th>0</th>\n",
       "      <td>CA02</td>\n",
       "      <td>0100031920</td>\n",
       "      <td>AOF SER in</td>\n",
       "      <td>2019.0</td>\n",
       "      <td>2960529720.0</td>\n",
       "      <td>2019-02-19</td>\n",
       "      <td>20190219</td>\n",
       "      <td>20190219</td>\n",
       "      <td>2019-03-03</td>\n",
       "      <td>CAD</td>\n",
       "      <td>RV</td>\n",
       "      <td>1.0</td>\n",
       "      <td>21199.9602</td>\n",
       "      <td>20190221.0</td>\n",
       "      <td>CA10</td>\n",
       "      <td>0</td>\n",
       "      <td>5</td>\n",
       "    </tr>\n",
       "    <tr>\n",
       "      <th>1</th>\n",
       "      <td>U001</td>\n",
       "      <td>0100028715</td>\n",
       "      <td>SPECIALT co</td>\n",
       "      <td>2019.0</td>\n",
       "      <td>1928913842.0</td>\n",
       "      <td>2019-03-08</td>\n",
       "      <td>20190306</td>\n",
       "      <td>20190308</td>\n",
       "      <td>2019-03-23</td>\n",
       "      <td>USD</td>\n",
       "      <td>RV</td>\n",
       "      <td>1.0</td>\n",
       "      <td>17709.36</td>\n",
       "      <td>20190308.0</td>\n",
       "      <td>NAA8</td>\n",
       "      <td>0</td>\n",
       "      <td>-1</td>\n",
       "    </tr>\n",
       "    <tr>\n",
       "      <th>2</th>\n",
       "      <td>CA02</td>\n",
       "      <td>0140106293</td>\n",
       "      <td>ATLANT systems</td>\n",
       "      <td>2019.0</td>\n",
       "      <td>2960573113.0</td>\n",
       "      <td>2019-08-14</td>\n",
       "      <td>20190814</td>\n",
       "      <td>20190814</td>\n",
       "      <td>2019-09-02</td>\n",
       "      <td>CAD</td>\n",
       "      <td>RV</td>\n",
       "      <td>1.0</td>\n",
       "      <td>433.4766</td>\n",
       "      <td>20190823.0</td>\n",
       "      <td>CA10</td>\n",
       "      <td>0</td>\n",
       "      <td>-3</td>\n",
       "    </tr>\n",
       "    <tr>\n",
       "      <th>3</th>\n",
       "      <td>U001</td>\n",
       "      <td>0200769623</td>\n",
       "      <td>WAL-MAR</td>\n",
       "      <td>2020.0</td>\n",
       "      <td>1930532862.0</td>\n",
       "      <td>2020-02-16</td>\n",
       "      <td>20200216</td>\n",
       "      <td>20200216</td>\n",
       "      <td>2020-03-02</td>\n",
       "      <td>USD</td>\n",
       "      <td>RV</td>\n",
       "      <td>1.0</td>\n",
       "      <td>71648.51</td>\n",
       "      <td>20200216.0</td>\n",
       "      <td>NAH4</td>\n",
       "      <td>0</td>\n",
       "      <td>-5</td>\n",
       "    </tr>\n",
       "    <tr>\n",
       "      <th>4</th>\n",
       "      <td>CA02</td>\n",
       "      <td>0140106408</td>\n",
       "      <td>WAL-M in</td>\n",
       "      <td>2019.0</td>\n",
       "      <td>2960523898.0</td>\n",
       "      <td>2019-01-23</td>\n",
       "      <td>20190123</td>\n",
       "      <td>20190123</td>\n",
       "      <td>2019-02-02</td>\n",
       "      <td>CAD</td>\n",
       "      <td>RV</td>\n",
       "      <td>1.0</td>\n",
       "      <td>1867.755</td>\n",
       "      <td>20190123.0</td>\n",
       "      <td>CA10</td>\n",
       "      <td>0</td>\n",
       "      <td>6</td>\n",
       "    </tr>\n",
       "    <tr>\n",
       "      <th>...</th>\n",
       "      <td>...</td>\n",
       "      <td>...</td>\n",
       "      <td>...</td>\n",
       "      <td>...</td>\n",
       "      <td>...</td>\n",
       "      <td>...</td>\n",
       "      <td>...</td>\n",
       "      <td>...</td>\n",
       "      <td>...</td>\n",
       "      <td>...</td>\n",
       "      <td>...</td>\n",
       "      <td>...</td>\n",
       "      <td>...</td>\n",
       "      <td>...</td>\n",
       "      <td>...</td>\n",
       "      <td>...</td>\n",
       "      <td>...</td>\n",
       "    </tr>\n",
       "    <tr>\n",
       "      <th>49994</th>\n",
       "      <td>U001</td>\n",
       "      <td>0100000222</td>\n",
       "      <td>SMITHFIE foundation</td>\n",
       "      <td>2019.0</td>\n",
       "      <td>1928988398.0</td>\n",
       "      <td>2019-03-21</td>\n",
       "      <td>20190319</td>\n",
       "      <td>20190321</td>\n",
       "      <td>2019-04-05</td>\n",
       "      <td>USD</td>\n",
       "      <td>RV</td>\n",
       "      <td>1.0</td>\n",
       "      <td>9485.43</td>\n",
       "      <td>20190321.0</td>\n",
       "      <td>NAA8</td>\n",
       "      <td>0</td>\n",
       "      <td>10</td>\n",
       "    </tr>\n",
       "    <tr>\n",
       "      <th>49995</th>\n",
       "      <td>U001</td>\n",
       "      <td>0200769623</td>\n",
       "      <td>WAL-MAR corp</td>\n",
       "      <td>2019.0</td>\n",
       "      <td>1928996791.0</td>\n",
       "      <td>2019-03-21</td>\n",
       "      <td>20190320</td>\n",
       "      <td>20190321</td>\n",
       "      <td>2019-04-05</td>\n",
       "      <td>USD</td>\n",
       "      <td>RV</td>\n",
       "      <td>1.0</td>\n",
       "      <td>25359.34</td>\n",
       "      <td>20190321.0</td>\n",
       "      <td>NAH4</td>\n",
       "      <td>0</td>\n",
       "      <td>-4</td>\n",
       "    </tr>\n",
       "    <tr>\n",
       "      <th>49997</th>\n",
       "      <td>U001</td>\n",
       "      <td>0200418007</td>\n",
       "      <td>AM associates</td>\n",
       "      <td>2019.0</td>\n",
       "      <td>1930027895.0</td>\n",
       "      <td>2019-10-22</td>\n",
       "      <td>20191018</td>\n",
       "      <td>20191022</td>\n",
       "      <td>2019-11-06</td>\n",
       "      <td>USD</td>\n",
       "      <td>RV</td>\n",
       "      <td>1.0</td>\n",
       "      <td>902.63</td>\n",
       "      <td>20191022.0</td>\n",
       "      <td>NAA8</td>\n",
       "      <td>0</td>\n",
       "      <td>6</td>\n",
       "    </tr>\n",
       "    <tr>\n",
       "      <th>49998</th>\n",
       "      <td>U001</td>\n",
       "      <td>0200726979</td>\n",
       "      <td>BJ'S  corp</td>\n",
       "      <td>2020.0</td>\n",
       "      <td>1930485396.0</td>\n",
       "      <td>2020-02-06</td>\n",
       "      <td>20200205</td>\n",
       "      <td>20200206</td>\n",
       "      <td>2020-02-21</td>\n",
       "      <td>USD</td>\n",
       "      <td>RV</td>\n",
       "      <td>1.0</td>\n",
       "      <td>130.75</td>\n",
       "      <td>20200206.0</td>\n",
       "      <td>NAA8</td>\n",
       "      <td>0</td>\n",
       "      <td>0</td>\n",
       "    </tr>\n",
       "    <tr>\n",
       "      <th>49999</th>\n",
       "      <td>U001</td>\n",
       "      <td>0200455322</td>\n",
       "      <td>PEA systems</td>\n",
       "      <td>2019.0</td>\n",
       "      <td>1929944750.0</td>\n",
       "      <td>2019-10-01</td>\n",
       "      <td>20190930</td>\n",
       "      <td>20191001</td>\n",
       "      <td>2019-10-31</td>\n",
       "      <td>USD</td>\n",
       "      <td>RV</td>\n",
       "      <td>1.0</td>\n",
       "      <td>38041.22</td>\n",
       "      <td>20191001.0</td>\n",
       "      <td>NAD5</td>\n",
       "      <td>0</td>\n",
       "      <td>14</td>\n",
       "    </tr>\n",
       "  </tbody>\n",
       "</table>\n",
       "<p>39999 rows × 17 columns</p>\n",
       "</div>"
      ],
      "text/plain": [
       "      business_code cust_number        name_customer buisness_year  \\\n",
       "0              CA02  0100031920           AOF SER in        2019.0   \n",
       "1              U001  0100028715          SPECIALT co        2019.0   \n",
       "2              CA02  0140106293       ATLANT systems        2019.0   \n",
       "3              U001  0200769623             WAL-MAR         2020.0   \n",
       "4              CA02  0140106408             WAL-M in        2019.0   \n",
       "...             ...         ...                  ...           ...   \n",
       "49994          U001  0100000222  SMITHFIE foundation        2019.0   \n",
       "49995          U001  0200769623         WAL-MAR corp        2019.0   \n",
       "49997          U001  0200418007        AM associates        2019.0   \n",
       "49998          U001  0200726979           BJ'S  corp        2020.0   \n",
       "49999          U001  0200455322          PEA systems        2019.0   \n",
       "\n",
       "             doc_id posting_date document_create_date document_create_date.1  \\\n",
       "0      2960529720.0   2019-02-19             20190219               20190219   \n",
       "1      1928913842.0   2019-03-08             20190306               20190308   \n",
       "2      2960573113.0   2019-08-14             20190814               20190814   \n",
       "3      1930532862.0   2020-02-16             20200216               20200216   \n",
       "4      2960523898.0   2019-01-23             20190123               20190123   \n",
       "...             ...          ...                  ...                    ...   \n",
       "49994  1928988398.0   2019-03-21             20190319               20190321   \n",
       "49995  1928996791.0   2019-03-21             20190320               20190321   \n",
       "49997  1930027895.0   2019-10-22             20191018               20191022   \n",
       "49998  1930485396.0   2020-02-06             20200205               20200206   \n",
       "49999  1929944750.0   2019-10-01             20190930               20191001   \n",
       "\n",
       "      due_in_date invoice_currency document type posting_id total_open_amount  \\\n",
       "0      2019-03-03              CAD            RV        1.0        21199.9602   \n",
       "1      2019-03-23              USD            RV        1.0          17709.36   \n",
       "2      2019-09-02              CAD            RV        1.0          433.4766   \n",
       "3      2020-03-02              USD            RV        1.0          71648.51   \n",
       "4      2019-02-02              CAD            RV        1.0          1867.755   \n",
       "...           ...              ...           ...        ...               ...   \n",
       "49994  2019-04-05              USD            RV        1.0           9485.43   \n",
       "49995  2019-04-05              USD            RV        1.0          25359.34   \n",
       "49997  2019-11-06              USD            RV        1.0            902.63   \n",
       "49998  2020-02-21              USD            RV        1.0            130.75   \n",
       "49999  2019-10-31              USD            RV        1.0          38041.22   \n",
       "\n",
       "      baseline_create_date cust_payment_terms isOpen  target  \n",
       "0               20190221.0               CA10      0       5  \n",
       "1               20190308.0               NAA8      0      -1  \n",
       "2               20190823.0               CA10      0      -3  \n",
       "3               20200216.0               NAH4      0      -5  \n",
       "4               20190123.0               CA10      0       6  \n",
       "...                    ...                ...    ...     ...  \n",
       "49994           20190321.0               NAA8      0      10  \n",
       "49995           20190321.0               NAH4      0      -4  \n",
       "49997           20191022.0               NAA8      0       6  \n",
       "49998           20200206.0               NAA8      0       0  \n",
       "49999           20191001.0               NAD5      0      14  \n",
       "\n",
       "[39999 rows x 17 columns]"
      ]
     },
     "execution_count": 8,
     "metadata": {},
     "output_type": "execute_result"
    }
   ],
   "source": [
    "dft.drop(['clear_date'],axis=1)"
   ]
  },
  {
   "cell_type": "code",
   "execution_count": 9,
   "id": "462b6df7",
   "metadata": {},
   "outputs": [
    {
     "name": "stdout",
     "output_type": "stream",
     "text": [
      "<class 'pandas.core.frame.DataFrame'>\n",
      "Int64Index: 39999 entries, 0 to 49999\n",
      "Data columns (total 18 columns):\n",
      " #   Column                  Non-Null Count  Dtype         \n",
      "---  ------                  --------------  -----         \n",
      " 0   business_code           39999 non-null  object        \n",
      " 1   cust_number             39999 non-null  object        \n",
      " 2   name_customer           39999 non-null  object        \n",
      " 3   clear_date              39999 non-null  datetime64[ns]\n",
      " 4   buisness_year           39999 non-null  object        \n",
      " 5   doc_id                  39999 non-null  object        \n",
      " 6   posting_date            39999 non-null  object        \n",
      " 7   document_create_date    39999 non-null  object        \n",
      " 8   document_create_date.1  39999 non-null  object        \n",
      " 9   due_in_date             39999 non-null  datetime64[ns]\n",
      " 10  invoice_currency        39999 non-null  object        \n",
      " 11  document type           39999 non-null  object        \n",
      " 12  posting_id              39999 non-null  object        \n",
      " 13  total_open_amount       39999 non-null  object        \n",
      " 14  baseline_create_date    39999 non-null  object        \n",
      " 15  cust_payment_terms      39999 non-null  object        \n",
      " 16  isOpen                  39999 non-null  object        \n",
      " 17  target                  39999 non-null  int32         \n",
      "dtypes: datetime64[ns](2), int32(1), object(15)\n",
      "memory usage: 6.7+ MB\n"
     ]
    }
   ],
   "source": [
    "dft.info()"
   ]
  },
  {
   "cell_type": "markdown",
   "id": "cd1ee978",
   "metadata": {},
   "source": [
    "### Find constant and duplicated columns and remove them"
   ]
  },
  {
   "cell_type": "code",
   "execution_count": 10,
   "id": "b2b8591e",
   "metadata": {},
   "outputs": [
    {
     "data": {
      "text/plain": [
       "business_code                 6\n",
       "cust_number                1316\n",
       "name_customer              3921\n",
       "clear_date                  401\n",
       "buisness_year                 2\n",
       "doc_id                    39101\n",
       "posting_date                422\n",
       "document_create_date        428\n",
       "document_create_date.1      422\n",
       "due_in_date                 492\n",
       "invoice_currency              2\n",
       "document type                 1\n",
       "posting_id                    1\n",
       "total_open_amount         35584\n",
       "baseline_create_date        435\n",
       "cust_payment_terms           70\n",
       "isOpen                        1\n",
       "target                      189\n",
       "dtype: int64"
      ]
     },
     "execution_count": 10,
     "metadata": {},
     "output_type": "execute_result"
    }
   ],
   "source": [
    "dft.nunique()"
   ]
  },
  {
   "cell_type": "code",
   "execution_count": 11,
   "id": "936909f6",
   "metadata": {},
   "outputs": [],
   "source": [
    "dft=dft.drop(['document type','isOpen','posting_id'],axis=1)"
   ]
  },
  {
   "cell_type": "code",
   "execution_count": 12,
   "id": "331494e5",
   "metadata": {},
   "outputs": [
    {
     "data": {
      "text/plain": [
       "U001    36260\n",
       "CA02     3097\n",
       "U013      515\n",
       "U002      110\n",
       "U005       12\n",
       "U007        5\n",
       "Name: business_code, dtype: int64"
      ]
     },
     "execution_count": 12,
     "metadata": {},
     "output_type": "execute_result"
    }
   ],
   "source": [
    "dft.business_code.value_counts()"
   ]
  },
  {
   "cell_type": "code",
   "execution_count": 13,
   "id": "f86a5f60",
   "metadata": {},
   "outputs": [],
   "source": [
    "dft.business_code=np.where(dft.business_code.isin(['U005','U007']),'Others',dft.business_code)"
   ]
  },
  {
   "cell_type": "markdown",
   "id": "70175000",
   "metadata": {},
   "source": [
    "### Sort data according to posting_date and reset index"
   ]
  },
  {
   "cell_type": "code",
   "execution_count": 14,
   "id": "1131b6f3",
   "metadata": {},
   "outputs": [],
   "source": [
    "dft.sort_values(by=['posting_date'],inplace=True)\n",
    "dft.reset_index(drop=True,inplace=True)"
   ]
  },
  {
   "cell_type": "code",
   "execution_count": 15,
   "id": "558d4dfe",
   "metadata": {},
   "outputs": [
    {
     "data": {
      "text/html": [
       "<div>\n",
       "<style scoped>\n",
       "    .dataframe tbody tr th:only-of-type {\n",
       "        vertical-align: middle;\n",
       "    }\n",
       "\n",
       "    .dataframe tbody tr th {\n",
       "        vertical-align: top;\n",
       "    }\n",
       "\n",
       "    .dataframe thead th {\n",
       "        text-align: right;\n",
       "    }\n",
       "</style>\n",
       "<table border=\"1\" class=\"dataframe\">\n",
       "  <thead>\n",
       "    <tr style=\"text-align: right;\">\n",
       "      <th></th>\n",
       "      <th>business_code</th>\n",
       "      <th>cust_number</th>\n",
       "      <th>name_customer</th>\n",
       "      <th>clear_date</th>\n",
       "      <th>buisness_year</th>\n",
       "      <th>doc_id</th>\n",
       "      <th>posting_date</th>\n",
       "      <th>document_create_date</th>\n",
       "      <th>document_create_date.1</th>\n",
       "      <th>due_in_date</th>\n",
       "      <th>invoice_currency</th>\n",
       "      <th>total_open_amount</th>\n",
       "      <th>baseline_create_date</th>\n",
       "      <th>cust_payment_terms</th>\n",
       "      <th>target</th>\n",
       "    </tr>\n",
       "  </thead>\n",
       "  <tbody>\n",
       "    <tr>\n",
       "      <th>0</th>\n",
       "      <td>U001</td>\n",
       "      <td>0200769623</td>\n",
       "      <td>WAL-MAR in</td>\n",
       "      <td>2019-01-15</td>\n",
       "      <td>2019.0</td>\n",
       "      <td>1928541915.0</td>\n",
       "      <td>2018-12-30</td>\n",
       "      <td>20181229</td>\n",
       "      <td>20181230</td>\n",
       "      <td>2019-01-14</td>\n",
       "      <td>USD</td>\n",
       "      <td>6025.73</td>\n",
       "      <td>20181230.0</td>\n",
       "      <td>NAH4</td>\n",
       "      <td>1</td>\n",
       "    </tr>\n",
       "    <tr>\n",
       "      <th>1</th>\n",
       "      <td>U001</td>\n",
       "      <td>0200769623</td>\n",
       "      <td>WAL-MAR associates</td>\n",
       "      <td>2019-01-16</td>\n",
       "      <td>2019.0</td>\n",
       "      <td>1928533975.0</td>\n",
       "      <td>2018-12-30</td>\n",
       "      <td>20181229</td>\n",
       "      <td>20181230</td>\n",
       "      <td>2019-01-14</td>\n",
       "      <td>USD</td>\n",
       "      <td>344.91</td>\n",
       "      <td>20181230.0</td>\n",
       "      <td>NAH4</td>\n",
       "      <td>2</td>\n",
       "    </tr>\n",
       "    <tr>\n",
       "      <th>2</th>\n",
       "      <td>U001</td>\n",
       "      <td>0200900909</td>\n",
       "      <td>SYSCO co</td>\n",
       "      <td>2019-02-04</td>\n",
       "      <td>2019.0</td>\n",
       "      <td>1928533119.0</td>\n",
       "      <td>2018-12-30</td>\n",
       "      <td>20181229</td>\n",
       "      <td>20181230</td>\n",
       "      <td>2019-01-31</td>\n",
       "      <td>USD</td>\n",
       "      <td>12938.59</td>\n",
       "      <td>20181230.0</td>\n",
       "      <td>NA32</td>\n",
       "      <td>4</td>\n",
       "    </tr>\n",
       "    <tr>\n",
       "      <th>3</th>\n",
       "      <td>U001</td>\n",
       "      <td>0200769623</td>\n",
       "      <td>WAL-MAR associates</td>\n",
       "      <td>2019-01-10</td>\n",
       "      <td>2019.0</td>\n",
       "      <td>1928542474.0</td>\n",
       "      <td>2018-12-30</td>\n",
       "      <td>20181230</td>\n",
       "      <td>20181230</td>\n",
       "      <td>2019-01-14</td>\n",
       "      <td>USD</td>\n",
       "      <td>49910.31</td>\n",
       "      <td>20181230.0</td>\n",
       "      <td>NAH4</td>\n",
       "      <td>-4</td>\n",
       "    </tr>\n",
       "    <tr>\n",
       "      <th>4</th>\n",
       "      <td>U001</td>\n",
       "      <td>0200769623</td>\n",
       "      <td>WAL-MAR systems</td>\n",
       "      <td>2019-01-15</td>\n",
       "      <td>2019.0</td>\n",
       "      <td>1928541530.0</td>\n",
       "      <td>2018-12-30</td>\n",
       "      <td>20181229</td>\n",
       "      <td>20181230</td>\n",
       "      <td>2019-01-14</td>\n",
       "      <td>USD</td>\n",
       "      <td>67716.67</td>\n",
       "      <td>20181230.0</td>\n",
       "      <td>NAH4</td>\n",
       "      <td>1</td>\n",
       "    </tr>\n",
       "  </tbody>\n",
       "</table>\n",
       "</div>"
      ],
      "text/plain": [
       "  business_code cust_number       name_customer clear_date buisness_year  \\\n",
       "0          U001  0200769623          WAL-MAR in 2019-01-15        2019.0   \n",
       "1          U001  0200769623  WAL-MAR associates 2019-01-16        2019.0   \n",
       "2          U001  0200900909            SYSCO co 2019-02-04        2019.0   \n",
       "3          U001  0200769623  WAL-MAR associates 2019-01-10        2019.0   \n",
       "4          U001  0200769623     WAL-MAR systems 2019-01-15        2019.0   \n",
       "\n",
       "         doc_id posting_date document_create_date document_create_date.1  \\\n",
       "0  1928541915.0   2018-12-30             20181229               20181230   \n",
       "1  1928533975.0   2018-12-30             20181229               20181230   \n",
       "2  1928533119.0   2018-12-30             20181229               20181230   \n",
       "3  1928542474.0   2018-12-30             20181230               20181230   \n",
       "4  1928541530.0   2018-12-30             20181229               20181230   \n",
       "\n",
       "  due_in_date invoice_currency total_open_amount baseline_create_date  \\\n",
       "0  2019-01-14              USD           6025.73           20181230.0   \n",
       "1  2019-01-14              USD            344.91           20181230.0   \n",
       "2  2019-01-31              USD          12938.59           20181230.0   \n",
       "3  2019-01-14              USD          49910.31           20181230.0   \n",
       "4  2019-01-14              USD          67716.67           20181230.0   \n",
       "\n",
       "  cust_payment_terms  target  \n",
       "0               NAH4       1  \n",
       "1               NAH4       2  \n",
       "2               NA32       4  \n",
       "3               NAH4      -4  \n",
       "4               NAH4       1  "
      ]
     },
     "execution_count": 15,
     "metadata": {},
     "output_type": "execute_result"
    }
   ],
   "source": [
    "dft.head()"
   ]
  },
  {
   "cell_type": "code",
   "execution_count": null,
   "id": "ff9b7598",
   "metadata": {},
   "outputs": [],
   "source": []
  },
  {
   "cell_type": "code",
   "execution_count": 16,
   "id": "9896db44",
   "metadata": {},
   "outputs": [],
   "source": [
    "X=dft.drop(['target'],axis=1)"
   ]
  },
  {
   "cell_type": "code",
   "execution_count": 17,
   "id": "ad13472c",
   "metadata": {},
   "outputs": [],
   "source": [
    "y=dft.target"
   ]
  },
  {
   "cell_type": "code",
   "execution_count": 18,
   "id": "31682856",
   "metadata": {},
   "outputs": [],
   "source": [
    "X_train,X_inter_test,y_train,y_inter_test=train_test_split(X,y,test_size=0.3,random_state=0,shuffle=False)"
   ]
  },
  {
   "cell_type": "code",
   "execution_count": 19,
   "id": "3c2e940f",
   "metadata": {},
   "outputs": [],
   "source": [
    "X_val,X_test,y_val,y_test=train_test_split(X_inter_test,y_inter_test,test_size=0.5,random_state=0,shuffle=False)"
   ]
  },
  {
   "cell_type": "code",
   "execution_count": 20,
   "id": "8aa8cbb7",
   "metadata": {},
   "outputs": [
    {
     "data": {
      "text/plain": [
       "((27999, 14), (6000, 14), (6000, 14))"
      ]
     },
     "execution_count": 20,
     "metadata": {},
     "output_type": "execute_result"
    }
   ],
   "source": [
    "X_train.shape,X_val.shape,X_test.shape"
   ]
  },
  {
   "cell_type": "markdown",
   "id": "5ef13c40",
   "metadata": {},
   "source": [
    "# Exploratory Data Analysis"
   ]
  },
  {
   "cell_type": "code",
   "execution_count": 21,
   "id": "5470264b",
   "metadata": {
    "scrolled": true
   },
   "outputs": [
    {
     "name": "stderr",
     "output_type": "stream",
     "text": [
      "c:\\users\\zaid\\appdata\\local\\programs\\python\\python39\\lib\\site-packages\\seaborn\\distributions.py:2557: FutureWarning: `distplot` is a deprecated function and will be removed in a future version. Please adapt your code to use either `displot` (a figure-level function with similar flexibility) or `histplot` (an axes-level function for histograms).\n",
      "  warnings.warn(msg, FutureWarning)\n"
     ]
    },
    {
     "data": {
      "text/plain": [
       "<AxesSubplot:xlabel='target', ylabel='Density'>"
      ]
     },
     "execution_count": 21,
     "metadata": {},
     "output_type": "execute_result"
    },
    {
     "data": {
      "image/png": "[encoded data removed]",
      "text/plain": [
       "<Figure size 432x288 with 1 Axes>"
      ]
     },
     "metadata": {
      "needs_background": "light"
     },
     "output_type": "display_data"
    }
   ],
   "source": [
    "sns.distplot(y_train)\n",
    "\n",
    "#the target value seems like a normal distribution with some outliers nut arent prominent\n",
    "#Assumption - model should perform normally"
   ]
  },
  {
   "cell_type": "code",
   "execution_count": 22,
   "id": "e111a7be",
   "metadata": {},
   "outputs": [
    {
     "data": {
      "text/plain": [
       "3.8695051678106376"
      ]
     },
     "execution_count": 22,
     "metadata": {},
     "output_type": "execute_result"
    }
   ],
   "source": [
    "y_train.skew()"
   ]
  },
  {
   "cell_type": "code",
   "execution_count": null,
   "id": "b74eba9e",
   "metadata": {},
   "outputs": [],
   "source": []
  },
  {
   "cell_type": "code",
   "execution_count": 23,
   "id": "e0f03029",
   "metadata": {},
   "outputs": [
    {
     "data": {
      "text/plain": [
       "<AxesSubplot:xlabel='business_code', ylabel='target'>"
      ]
     },
     "execution_count": 23,
     "metadata": {},
     "output_type": "execute_result"
    },
    {
     "data": {
      "image/png": "[encoded data removed]",
      "text/plain": [
       "<Figure size 432x288 with 1 Axes>"
      ]
     },
     "metadata": {
      "needs_background": "light"
     },
     "output_type": "display_data"
    }
   ],
   "source": [
    "sns.scatterplot(data=X_train.merge(y_train,on=X_train.index),x='business_code',y='target')"
   ]
  },
  {
   "cell_type": "code",
   "execution_count": 24,
   "id": "beed7cfb",
   "metadata": {},
   "outputs": [
    {
     "data": {
      "text/plain": [
       "<AxesSubplot:xlabel='cust_number', ylabel='target'>"
      ]
     },
     "execution_count": 24,
     "metadata": {},
     "output_type": "execute_result"
    },
    {
     "data": {
      "image/png": "[encoded data removed]",
      "text/plain": [
       "<Figure size 432x288 with 1 Axes>"
      ]
     },
     "metadata": {
      "needs_background": "light"
     },
     "output_type": "display_data"
    }
   ],
   "source": [
    "sns.scatterplot(data=X_train.merge(y_train,on=X_train.index),x='cust_number',y='target')"
   ]
  },
  {
   "cell_type": "code",
   "execution_count": 25,
   "id": "22729abf",
   "metadata": {
    "scrolled": true
   },
   "outputs": [
    {
     "data": {
      "text/plain": [
       "<AxesSubplot:xlabel='name_customer', ylabel='target'>"
      ]
     },
     "execution_count": 25,
     "metadata": {},
     "output_type": "execute_result"
    },
    {
     "data": {
      "image/png": "[encoded data removed]",
      "text/plain": [
       "<Figure size 432x288 with 1 Axes>"
      ]
     },
     "metadata": {
      "needs_background": "light"
     },
     "output_type": "display_data"
    }
   ],
   "source": [
    "sns.scatterplot(data=X_train.merge(y_train,on=X_train.index),x='name_customer',y='target')"
   ]
  },
  {
   "cell_type": "code",
   "execution_count": 26,
   "id": "820c4995",
   "metadata": {},
   "outputs": [
    {
     "data": {
      "text/plain": [
       "<AxesSubplot:xlabel='clear_date', ylabel='target'>"
      ]
     },
     "execution_count": 26,
     "metadata": {},
     "output_type": "execute_result"
    },
    {
     "data": {
      "image/png": "[encoded data removed]",
      "text/plain": [
       "<Figure size 432x288 with 1 Axes>"
      ]
     },
     "metadata": {
      "needs_background": "light"
     },
     "output_type": "display_data"
    }
   ],
   "source": [
    "sns.scatterplot(data=X_train.merge(y_train,on=X_train.index),x='clear_date',y='target')"
   ]
  },
  {
   "cell_type": "code",
   "execution_count": 27,
   "id": "8fd1b7bb",
   "metadata": {},
   "outputs": [
    {
     "data": {
      "text/plain": [
       "<AxesSubplot:xlabel='buisness_year', ylabel='target'>"
      ]
     },
     "execution_count": 27,
     "metadata": {},
     "output_type": "execute_result"
    },
    {
     "data": {
      "image/png": "[encoded data removed]",
      "text/plain": [
       "<Figure size 432x288 with 1 Axes>"
      ]
     },
     "metadata": {
      "needs_background": "light"
     },
     "output_type": "display_data"
    }
   ],
   "source": [
    "sns.scatterplot(data=X_train.merge(y_train,on=X_train.index),x='buisness_year',y='target')"
   ]
  },
  {
   "cell_type": "code",
   "execution_count": 28,
   "id": "544a915c",
   "metadata": {},
   "outputs": [
    {
     "name": "stderr",
     "output_type": "stream",
     "text": [
      "c:\\users\\zaid\\appdata\\local\\programs\\python\\python39\\lib\\site-packages\\pandas\\core\\generic.py:5494: SettingWithCopyWarning: \n",
      "A value is trying to be set on a copy of a slice from a DataFrame.\n",
      "Try using .loc[row_indexer,col_indexer] = value instead\n",
      "\n",
      "See the caveats in the documentation: https://pandas.pydata.org/pandas-docs/stable/user_guide/indexing.html#returning-a-view-versus-a-copy\n",
      "  self[name] = value\n"
     ]
    }
   ],
   "source": [
    "X_train.total_open_amount=X_train.total_open_amount.astype(float)"
   ]
  },
  {
   "cell_type": "code",
   "execution_count": 29,
   "id": "f8de5fc9",
   "metadata": {
    "scrolled": true
   },
   "outputs": [
    {
     "name": "stderr",
     "output_type": "stream",
     "text": [
      "c:\\users\\zaid\\appdata\\local\\programs\\python\\python39\\lib\\site-packages\\seaborn\\_decorators.py:36: FutureWarning: Pass the following variable as a keyword arg: x. From version 0.12, the only valid positional argument will be `data`, and passing other arguments without an explicit keyword will result in an error or misinterpretation.\n",
      "  warnings.warn(\n"
     ]
    },
    {
     "data": {
      "text/plain": [
       "<AxesSubplot:xlabel='total_open_amount'>"
      ]
     },
     "execution_count": 29,
     "metadata": {},
     "output_type": "execute_result"
    },
    {
     "data": {
      "image/png": "[encoded data removed]",
      "text/plain": [
       "<Figure size 432x288 with 1 Axes>"
      ]
     },
     "metadata": {
      "needs_background": "light"
     },
     "output_type": "display_data"
    }
   ],
   "source": [
    "sns.boxplot(X_train.total_open_amount)"
   ]
  },
  {
   "cell_type": "code",
   "execution_count": 30,
   "id": "298e8b0c",
   "metadata": {},
   "outputs": [
    {
     "data": {
      "text/plain": [
       "business_code                     object\n",
       "cust_number                       object\n",
       "name_customer                     object\n",
       "clear_date                datetime64[ns]\n",
       "buisness_year                     object\n",
       "doc_id                            object\n",
       "posting_date                      object\n",
       "document_create_date              object\n",
       "document_create_date.1            object\n",
       "due_in_date               datetime64[ns]\n",
       "invoice_currency                  object\n",
       "total_open_amount                float64\n",
       "baseline_create_date              object\n",
       "cust_payment_terms                object\n",
       "dtype: object"
      ]
     },
     "execution_count": 30,
     "metadata": {},
     "output_type": "execute_result"
    }
   ],
   "source": [
    "X_train.dtypes"
   ]
  },
  {
   "cell_type": "code",
   "execution_count": null,
   "id": "05996c4a",
   "metadata": {},
   "outputs": [],
   "source": []
  },
  {
   "cell_type": "code",
   "execution_count": 31,
   "id": "5f1e6b42",
   "metadata": {},
   "outputs": [
    {
     "name": "stdout",
     "output_type": "stream",
     "text": [
      "41803.8454\n"
     ]
    }
   ],
   "source": [
    "Q1=X_train['total_open_amount'].quantile(0.25)\n",
    "Q3=X_train['total_open_amount'].quantile(0.75)\n",
    "IQR=Q3-Q1\n",
    "print(IQR)"
   ]
  },
  {
   "cell_type": "code",
   "execution_count": 32,
   "id": "49b1ea0e",
   "metadata": {},
   "outputs": [
    {
     "data": {
      "text/plain": [
       "(-16479.163100000005, 108932.3731)"
      ]
     },
     "execution_count": 32,
     "metadata": {},
     "output_type": "execute_result"
    }
   ],
   "source": [
    "lower=(Q3-1.5*IQR)\n",
    "upper=(Q3+1.5*IQR)\n",
    "lower,upper"
   ]
  },
  {
   "cell_type": "code",
   "execution_count": 33,
   "id": "16af4aaa",
   "metadata": {},
   "outputs": [
    {
     "name": "stderr",
     "output_type": "stream",
     "text": [
      "c:\\users\\zaid\\appdata\\local\\programs\\python\\python39\\lib\\site-packages\\seaborn\\distributions.py:2557: FutureWarning: `distplot` is a deprecated function and will be removed in a future version. Please adapt your code to use either `displot` (a figure-level function with similar flexibility) or `histplot` (an axes-level function for histograms).\n",
      "  warnings.warn(msg, FutureWarning)\n"
     ]
    },
    {
     "data": {
      "text/plain": [
       "<AxesSubplot:xlabel='total_open_amount', ylabel='Density'>"
      ]
     },
     "execution_count": 33,
     "metadata": {},
     "output_type": "execute_result"
    },
    {
     "data": {
      "image/png": "[encoded data removed]",
      "text/plain": [
       "<Figure size 432x288 with 1 Axes>"
      ]
     },
     "metadata": {
      "needs_background": "light"
     },
     "output_type": "display_data"
    }
   ],
   "source": [
    "sns.distplot(X_train.total_open_amount)"
   ]
  },
  {
   "cell_type": "code",
   "execution_count": 34,
   "id": "e32f96e3",
   "metadata": {},
   "outputs": [
    {
     "name": "stdout",
     "output_type": "stream",
     "text": [
      "<class 'pandas.core.frame.DataFrame'>\n",
      "Int64Index: 27999 entries, 0 to 27998\n",
      "Data columns (total 14 columns):\n",
      " #   Column                  Non-Null Count  Dtype         \n",
      "---  ------                  --------------  -----         \n",
      " 0   business_code           27999 non-null  object        \n",
      " 1   cust_number             27999 non-null  object        \n",
      " 2   name_customer           27999 non-null  object        \n",
      " 3   clear_date              27999 non-null  datetime64[ns]\n",
      " 4   buisness_year           27999 non-null  object        \n",
      " 5   doc_id                  27999 non-null  object        \n",
      " 6   posting_date            27999 non-null  object        \n",
      " 7   document_create_date    27999 non-null  object        \n",
      " 8   document_create_date.1  27999 non-null  object        \n",
      " 9   due_in_date             27999 non-null  datetime64[ns]\n",
      " 10  invoice_currency        27999 non-null  object        \n",
      " 11  total_open_amount       27999 non-null  float64       \n",
      " 12  baseline_create_date    27999 non-null  object        \n",
      " 13  cust_payment_terms      27999 non-null  object        \n",
      "dtypes: datetime64[ns](2), float64(1), object(11)\n",
      "memory usage: 3.2+ MB\n"
     ]
    }
   ],
   "source": [
    "X_train.info()"
   ]
  },
  {
   "cell_type": "code",
   "execution_count": 35,
   "id": "401b5e0a",
   "metadata": {},
   "outputs": [
    {
     "data": {
      "text/plain": [
       "<AxesSubplot:xlabel='doc_id', ylabel='target'>"
      ]
     },
     "execution_count": 35,
     "metadata": {},
     "output_type": "execute_result"
    },
    {
     "data": {
      "image/png": "[encoded data removed]",
      "text/plain": [
       "<Figure size 432x288 with 1 Axes>"
      ]
     },
     "metadata": {
      "needs_background": "light"
     },
     "output_type": "display_data"
    }
   ],
   "source": [
    "sns.scatterplot(data=X_train.merge(y_train,on=X_train.index),x='doc_id',y='target')"
   ]
  },
  {
   "cell_type": "code",
   "execution_count": 36,
   "id": "40660674",
   "metadata": {},
   "outputs": [
    {
     "data": {
      "text/plain": [
       "<AxesSubplot:xlabel='posting_date', ylabel='target'>"
      ]
     },
     "execution_count": 36,
     "metadata": {},
     "output_type": "execute_result"
    },
    {
     "data": {
      "image/png": "[encoded data removed]",
      "text/plain": [
       "<Figure size 432x288 with 1 Axes>"
      ]
     },
     "metadata": {
      "needs_background": "light"
     },
     "output_type": "display_data"
    }
   ],
   "source": [
    "sns.scatterplot(data=X_train.merge(y_train,on=X_train.index),x='posting_date',y='target')"
   ]
  },
  {
   "cell_type": "code",
   "execution_count": 37,
   "id": "97135128",
   "metadata": {},
   "outputs": [
    {
     "data": {
      "text/plain": [
       "<AxesSubplot:xlabel='document_create_date', ylabel='target'>"
      ]
     },
     "execution_count": 37,
     "metadata": {},
     "output_type": "execute_result"
    },
    {
     "data": {
      "image/png": "[encoded data removed]",
      "text/plain": [
       "<Figure size 432x288 with 1 Axes>"
      ]
     },
     "metadata": {
      "needs_background": "light"
     },
     "output_type": "display_data"
    }
   ],
   "source": [
    "sns.scatterplot(data=X_train.merge(y_train,on=X_train.index),x='document_create_date',y='target')"
   ]
  },
  {
   "cell_type": "code",
   "execution_count": 38,
   "id": "c3ce180d",
   "metadata": {},
   "outputs": [
    {
     "data": {
      "text/plain": [
       "<AxesSubplot:xlabel='document_create_date.1', ylabel='target'>"
      ]
     },
     "execution_count": 38,
     "metadata": {},
     "output_type": "execute_result"
    },
    {
     "data": {
      "image/png": "[encoded data removed]",
      "text/plain": [
       "<Figure size 432x288 with 1 Axes>"
      ]
     },
     "metadata": {
      "needs_background": "light"
     },
     "output_type": "display_data"
    }
   ],
   "source": [
    "sns.scatterplot(data=X_train.merge(y_train,on=X_train.index),x='document_create_date.1',y='target')"
   ]
  },
  {
   "cell_type": "code",
   "execution_count": 39,
   "id": "ae9c3532",
   "metadata": {
    "scrolled": true
   },
   "outputs": [
    {
     "data": {
      "text/plain": [
       "<AxesSubplot:xlabel='due_in_date', ylabel='target'>"
      ]
     },
     "execution_count": 39,
     "metadata": {},
     "output_type": "execute_result"
    },
    {
     "data": {
      "image/png": "[encoded data removed]",
      "text/plain": [
       "<Figure size 432x288 with 1 Axes>"
      ]
     },
     "metadata": {
      "needs_background": "light"
     },
     "output_type": "display_data"
    }
   ],
   "source": [
    "sns.scatterplot(data=X_train.merge(y_train,on=X_train.index),x='due_in_date',y='target')"
   ]
  },
  {
   "cell_type": "code",
   "execution_count": 40,
   "id": "8978b72a",
   "metadata": {},
   "outputs": [
    {
     "data": {
      "text/plain": [
       "<AxesSubplot:xlabel='invoice_currency', ylabel='target'>"
      ]
     },
     "execution_count": 40,
     "metadata": {},
     "output_type": "execute_result"
    },
    {
     "data": {
      "image/png": "[encoded data removed]",
      "text/plain": [
       "<Figure size 432x288 with 1 Axes>"
      ]
     },
     "metadata": {
      "needs_background": "light"
     },
     "output_type": "display_data"
    }
   ],
   "source": [
    "sns.scatterplot(data=X_train.merge(y_train,on=X_train.index),x='invoice_currency',y='target')"
   ]
  },
  {
   "cell_type": "code",
   "execution_count": 41,
   "id": "46e0edc5",
   "metadata": {},
   "outputs": [
    {
     "data": {
      "text/plain": [
       "<AxesSubplot:xlabel='total_open_amount', ylabel='target'>"
      ]
     },
     "execution_count": 41,
     "metadata": {},
     "output_type": "execute_result"
    },
    {
     "data": {
      "image/png": "[encoded data removed]",
      "text/plain": [
       "<Figure size 432x288 with 1 Axes>"
      ]
     },
     "metadata": {
      "needs_background": "light"
     },
     "output_type": "display_data"
    }
   ],
   "source": [
    "sns.scatterplot(data=X_train.merge(y_train,on=X_train.index),x='total_open_amount',y='target')"
   ]
  },
  {
   "cell_type": "code",
   "execution_count": 42,
   "id": "c9e4e7c9",
   "metadata": {},
   "outputs": [
    {
     "data": {
      "text/plain": [
       "<AxesSubplot:xlabel='baseline_create_date', ylabel='target'>"
      ]
     },
     "execution_count": 42,
     "metadata": {},
     "output_type": "execute_result"
    },
    {
     "data": {
      "image/png": "[encoded data removed]",
      "text/plain": [
       "<Figure size 432x288 with 1 Axes>"
      ]
     },
     "metadata": {
      "needs_background": "light"
     },
     "output_type": "display_data"
    }
   ],
   "source": [
    "sns.scatterplot(data=X_train.merge(y_train,on=X_train.index),x='baseline_create_date',y='target')"
   ]
  },
  {
   "cell_type": "code",
   "execution_count": 43,
   "id": "17069d47",
   "metadata": {
    "scrolled": false
   },
   "outputs": [
    {
     "data": {
      "text/plain": [
       "<AxesSubplot:xlabel='cust_payment_terms', ylabel='target'>"
      ]
     },
     "execution_count": 43,
     "metadata": {},
     "output_type": "execute_result"
    },
    {
     "data": {
      "image/png": "[encoded data removed]",
      "text/plain": [
       "<Figure size 432x288 with 1 Axes>"
      ]
     },
     "metadata": {
      "needs_background": "light"
     },
     "output_type": "display_data"
    }
   ],
   "source": [
    "sns.scatterplot(data=X_train.merge(y_train,on=X_train.index),x='cust_payment_terms',y='target')"
   ]
  },
  {
   "cell_type": "code",
   "execution_count": null,
   "id": "9969b31d",
   "metadata": {},
   "outputs": [],
   "source": []
  },
  {
   "cell_type": "code",
   "execution_count": null,
   "id": "b9d71575",
   "metadata": {},
   "outputs": [],
   "source": []
  },
  {
   "cell_type": "code",
   "execution_count": 44,
   "id": "d211726a",
   "metadata": {},
   "outputs": [
    {
     "data": {
      "text/plain": [
       "0         1\n",
       "1         2\n",
       "2         4\n",
       "3        -4\n",
       "4         1\n",
       "         ..\n",
       "27994     0\n",
       "27995     1\n",
       "27996    -5\n",
       "27997     0\n",
       "27998   -25\n",
       "Name: target, Length: 27999, dtype: int32"
      ]
     },
     "execution_count": 44,
     "metadata": {},
     "output_type": "execute_result"
    }
   ],
   "source": [
    "y_train"
   ]
  },
  {
   "cell_type": "code",
   "execution_count": 45,
   "id": "6b7e6544",
   "metadata": {},
   "outputs": [
    {
     "name": "stderr",
     "output_type": "stream",
     "text": [
      "c:\\users\\zaid\\appdata\\local\\programs\\python\\python39\\lib\\site-packages\\pandas\\core\\generic.py:5494: SettingWithCopyWarning: \n",
      "A value is trying to be set on a copy of a slice from a DataFrame.\n",
      "Try using .loc[row_indexer,col_indexer] = value instead\n",
      "\n",
      "See the caveats in the documentation: https://pandas.pydata.org/pandas-docs/stable/user_guide/indexing.html#returning-a-view-versus-a-copy\n",
      "  self[name] = value\n"
     ]
    }
   ],
   "source": [
    "X_train.total_open_amount=X_train.total_open_amount.astype(float)\n"
   ]
  },
  {
   "cell_type": "markdown",
   "id": "3c9932c8",
   "metadata": {},
   "source": [
    "# Feature Engineering"
   ]
  },
  {
   "cell_type": "code",
   "execution_count": 46,
   "id": "c1c0c1a3",
   "metadata": {},
   "outputs": [
    {
     "data": {
      "text/plain": [
       "Index(['business_code', 'cust_number', 'name_customer', 'clear_date',\n",
       "       'buisness_year', 'doc_id', 'posting_date', 'document_create_date',\n",
       "       'document_create_date.1', 'due_in_date', 'invoice_currency',\n",
       "       'total_open_amount', 'baseline_create_date', 'cust_payment_terms'],\n",
       "      dtype='object')"
      ]
     },
     "execution_count": 46,
     "metadata": {},
     "output_type": "execute_result"
    }
   ],
   "source": [
    "X_train.columns"
   ]
  },
  {
   "cell_type": "code",
   "execution_count": 47,
   "id": "7b00962f",
   "metadata": {},
   "outputs": [
    {
     "data": {
      "text/plain": [
       "business_code                 5\n",
       "cust_number                1216\n",
       "name_customer              3398\n",
       "clear_date                  284\n",
       "buisness_year                 1\n",
       "doc_id                    27381\n",
       "posting_date                282\n",
       "document_create_date        289\n",
       "document_create_date.1      282\n",
       "due_in_date                 340\n",
       "invoice_currency              2\n",
       "total_open_amount         25122\n",
       "baseline_create_date        296\n",
       "cust_payment_terms           64\n",
       "dtype: int64"
      ]
     },
     "execution_count": 47,
     "metadata": {},
     "output_type": "execute_result"
    }
   ],
   "source": [
    "X_train.nunique()"
   ]
  },
  {
   "cell_type": "markdown",
   "id": "cb5e74a3",
   "metadata": {},
   "source": [
    "### Find and drop constant features"
   ]
  },
  {
   "cell_type": "code",
   "execution_count": 48,
   "id": "3807a918",
   "metadata": {},
   "outputs": [
    {
     "data": {
      "text/plain": [
       "['buisness_year']"
      ]
     },
     "execution_count": 48,
     "metadata": {},
     "output_type": "execute_result"
    }
   ],
   "source": [
    "const_features = [cols for cols in X_train.columns if len(list(X_train[cols].unique())) == 1]\n",
    "const_features"
   ]
  },
  {
   "cell_type": "code",
   "execution_count": 49,
   "id": "3dcb3aab",
   "metadata": {},
   "outputs": [],
   "source": [
    "X_train=X_train.drop(const_features,axis=1)\n",
    "X_test=X_test.drop(const_features,axis=1)\n",
    "X_val=X_val.drop(const_features,axis=1)"
   ]
  },
  {
   "cell_type": "markdown",
   "id": "e5de412f",
   "metadata": {},
   "source": [
    "### Label Encoding"
   ]
  },
  {
   "cell_type": "code",
   "execution_count": 50,
   "id": "050498a8",
   "metadata": {
    "scrolled": false
   },
   "outputs": [
    {
     "data": {
      "text/html": [
       "<div>\n",
       "<style scoped>\n",
       "    .dataframe tbody tr th:only-of-type {\n",
       "        vertical-align: middle;\n",
       "    }\n",
       "\n",
       "    .dataframe tbody tr th {\n",
       "        vertical-align: top;\n",
       "    }\n",
       "\n",
       "    .dataframe thead th {\n",
       "        text-align: right;\n",
       "    }\n",
       "</style>\n",
       "<table border=\"1\" class=\"dataframe\">\n",
       "  <thead>\n",
       "    <tr style=\"text-align: right;\">\n",
       "      <th></th>\n",
       "      <th>business_code</th>\n",
       "      <th>cust_number</th>\n",
       "      <th>name_customer</th>\n",
       "      <th>clear_date</th>\n",
       "      <th>doc_id</th>\n",
       "      <th>posting_date</th>\n",
       "      <th>document_create_date</th>\n",
       "      <th>document_create_date.1</th>\n",
       "      <th>due_in_date</th>\n",
       "      <th>invoice_currency</th>\n",
       "      <th>total_open_amount</th>\n",
       "      <th>baseline_create_date</th>\n",
       "      <th>cust_payment_terms</th>\n",
       "    </tr>\n",
       "  </thead>\n",
       "  <tbody>\n",
       "    <tr>\n",
       "      <th>0</th>\n",
       "      <td>2</td>\n",
       "      <td>0200769623</td>\n",
       "      <td>WAL-MAR in</td>\n",
       "      <td>2019-01-15</td>\n",
       "      <td>1928541915.0</td>\n",
       "      <td>2018-12-30</td>\n",
       "      <td>20181229</td>\n",
       "      <td>20181230</td>\n",
       "      <td>2019-01-14</td>\n",
       "      <td>USD</td>\n",
       "      <td>6025.73</td>\n",
       "      <td>20181230.0</td>\n",
       "      <td>NAH4</td>\n",
       "    </tr>\n",
       "    <tr>\n",
       "      <th>1</th>\n",
       "      <td>2</td>\n",
       "      <td>0200769623</td>\n",
       "      <td>WAL-MAR associates</td>\n",
       "      <td>2019-01-16</td>\n",
       "      <td>1928533975.0</td>\n",
       "      <td>2018-12-30</td>\n",
       "      <td>20181229</td>\n",
       "      <td>20181230</td>\n",
       "      <td>2019-01-14</td>\n",
       "      <td>USD</td>\n",
       "      <td>344.91</td>\n",
       "      <td>20181230.0</td>\n",
       "      <td>NAH4</td>\n",
       "    </tr>\n",
       "    <tr>\n",
       "      <th>2</th>\n",
       "      <td>2</td>\n",
       "      <td>0200900909</td>\n",
       "      <td>SYSCO co</td>\n",
       "      <td>2019-02-04</td>\n",
       "      <td>1928533119.0</td>\n",
       "      <td>2018-12-30</td>\n",
       "      <td>20181229</td>\n",
       "      <td>20181230</td>\n",
       "      <td>2019-01-31</td>\n",
       "      <td>USD</td>\n",
       "      <td>12938.59</td>\n",
       "      <td>20181230.0</td>\n",
       "      <td>NA32</td>\n",
       "    </tr>\n",
       "    <tr>\n",
       "      <th>3</th>\n",
       "      <td>2</td>\n",
       "      <td>0200769623</td>\n",
       "      <td>WAL-MAR associates</td>\n",
       "      <td>2019-01-10</td>\n",
       "      <td>1928542474.0</td>\n",
       "      <td>2018-12-30</td>\n",
       "      <td>20181230</td>\n",
       "      <td>20181230</td>\n",
       "      <td>2019-01-14</td>\n",
       "      <td>USD</td>\n",
       "      <td>49910.31</td>\n",
       "      <td>20181230.0</td>\n",
       "      <td>NAH4</td>\n",
       "    </tr>\n",
       "    <tr>\n",
       "      <th>4</th>\n",
       "      <td>2</td>\n",
       "      <td>0200769623</td>\n",
       "      <td>WAL-MAR systems</td>\n",
       "      <td>2019-01-15</td>\n",
       "      <td>1928541530.0</td>\n",
       "      <td>2018-12-30</td>\n",
       "      <td>20181229</td>\n",
       "      <td>20181230</td>\n",
       "      <td>2019-01-14</td>\n",
       "      <td>USD</td>\n",
       "      <td>67716.67</td>\n",
       "      <td>20181230.0</td>\n",
       "      <td>NAH4</td>\n",
       "    </tr>\n",
       "  </tbody>\n",
       "</table>\n",
       "</div>"
      ],
      "text/plain": [
       "   business_code cust_number       name_customer clear_date        doc_id  \\\n",
       "0              2  0200769623          WAL-MAR in 2019-01-15  1928541915.0   \n",
       "1              2  0200769623  WAL-MAR associates 2019-01-16  1928533975.0   \n",
       "2              2  0200900909            SYSCO co 2019-02-04  1928533119.0   \n",
       "3              2  0200769623  WAL-MAR associates 2019-01-10  1928542474.0   \n",
       "4              2  0200769623     WAL-MAR systems 2019-01-15  1928541530.0   \n",
       "\n",
       "  posting_date document_create_date document_create_date.1 due_in_date  \\\n",
       "0   2018-12-30             20181229               20181230  2019-01-14   \n",
       "1   2018-12-30             20181229               20181230  2019-01-14   \n",
       "2   2018-12-30             20181229               20181230  2019-01-31   \n",
       "3   2018-12-30             20181230               20181230  2019-01-14   \n",
       "4   2018-12-30             20181229               20181230  2019-01-14   \n",
       "\n",
       "  invoice_currency  total_open_amount baseline_create_date cust_payment_terms  \n",
       "0              USD            6025.73           20181230.0               NAH4  \n",
       "1              USD             344.91           20181230.0               NAH4  \n",
       "2              USD           12938.59           20181230.0               NA32  \n",
       "3              USD           49910.31           20181230.0               NAH4  \n",
       "4              USD           67716.67           20181230.0               NAH4  "
      ]
     },
     "execution_count": 50,
     "metadata": {},
     "output_type": "execute_result"
    }
   ],
   "source": [
    "# LABEL ENCODING for business code\n",
    "\n",
    "label_encoder = LabelEncoder()\n",
    "X_train['business_code'] = label_encoder.fit_transform(X_train['business_code'])\n",
    "X_test['business_code'] = label_encoder.fit_transform(X_test['business_code'])\n",
    "X_val['business_code'] = label_encoder.fit_transform(X_val['business_code'])\n",
    "\n",
    "X_train.head()"
   ]
  },
  {
   "cell_type": "code",
   "execution_count": 51,
   "id": "698369b7",
   "metadata": {
    "scrolled": true
   },
   "outputs": [
    {
     "data": {
      "text/html": [
       "<div>\n",
       "<style scoped>\n",
       "    .dataframe tbody tr th:only-of-type {\n",
       "        vertical-align: middle;\n",
       "    }\n",
       "\n",
       "    .dataframe tbody tr th {\n",
       "        vertical-align: top;\n",
       "    }\n",
       "\n",
       "    .dataframe thead th {\n",
       "        text-align: right;\n",
       "    }\n",
       "</style>\n",
       "<table border=\"1\" class=\"dataframe\">\n",
       "  <thead>\n",
       "    <tr style=\"text-align: right;\">\n",
       "      <th></th>\n",
       "      <th>business_code</th>\n",
       "      <th>cust_number</th>\n",
       "      <th>name_customer</th>\n",
       "      <th>clear_date</th>\n",
       "      <th>doc_id</th>\n",
       "      <th>posting_date</th>\n",
       "      <th>document_create_date</th>\n",
       "      <th>document_create_date.1</th>\n",
       "      <th>due_in_date</th>\n",
       "      <th>invoice_currency</th>\n",
       "      <th>total_open_amount</th>\n",
       "      <th>baseline_create_date</th>\n",
       "      <th>cust_payment_terms</th>\n",
       "    </tr>\n",
       "  </thead>\n",
       "  <tbody>\n",
       "    <tr>\n",
       "      <th>0</th>\n",
       "      <td>2</td>\n",
       "      <td>0200769623</td>\n",
       "      <td>WAL-MAR in</td>\n",
       "      <td>2019-01-15</td>\n",
       "      <td>1928541915.0</td>\n",
       "      <td>2018-12-30</td>\n",
       "      <td>20181229</td>\n",
       "      <td>20181230</td>\n",
       "      <td>2019-01-14</td>\n",
       "      <td>USD</td>\n",
       "      <td>6025.73</td>\n",
       "      <td>20181230.0</td>\n",
       "      <td>32</td>\n",
       "    </tr>\n",
       "    <tr>\n",
       "      <th>1</th>\n",
       "      <td>2</td>\n",
       "      <td>0200769623</td>\n",
       "      <td>WAL-MAR associates</td>\n",
       "      <td>2019-01-16</td>\n",
       "      <td>1928533975.0</td>\n",
       "      <td>2018-12-30</td>\n",
       "      <td>20181229</td>\n",
       "      <td>20181230</td>\n",
       "      <td>2019-01-14</td>\n",
       "      <td>USD</td>\n",
       "      <td>344.91</td>\n",
       "      <td>20181230.0</td>\n",
       "      <td>32</td>\n",
       "    </tr>\n",
       "    <tr>\n",
       "      <th>2</th>\n",
       "      <td>2</td>\n",
       "      <td>0200900909</td>\n",
       "      <td>SYSCO co</td>\n",
       "      <td>2019-02-04</td>\n",
       "      <td>1928533119.0</td>\n",
       "      <td>2018-12-30</td>\n",
       "      <td>20181229</td>\n",
       "      <td>20181230</td>\n",
       "      <td>2019-01-31</td>\n",
       "      <td>USD</td>\n",
       "      <td>12938.59</td>\n",
       "      <td>20181230.0</td>\n",
       "      <td>12</td>\n",
       "    </tr>\n",
       "    <tr>\n",
       "      <th>3</th>\n",
       "      <td>2</td>\n",
       "      <td>0200769623</td>\n",
       "      <td>WAL-MAR associates</td>\n",
       "      <td>2019-01-10</td>\n",
       "      <td>1928542474.0</td>\n",
       "      <td>2018-12-30</td>\n",
       "      <td>20181230</td>\n",
       "      <td>20181230</td>\n",
       "      <td>2019-01-14</td>\n",
       "      <td>USD</td>\n",
       "      <td>49910.31</td>\n",
       "      <td>20181230.0</td>\n",
       "      <td>32</td>\n",
       "    </tr>\n",
       "    <tr>\n",
       "      <th>4</th>\n",
       "      <td>2</td>\n",
       "      <td>0200769623</td>\n",
       "      <td>WAL-MAR systems</td>\n",
       "      <td>2019-01-15</td>\n",
       "      <td>1928541530.0</td>\n",
       "      <td>2018-12-30</td>\n",
       "      <td>20181229</td>\n",
       "      <td>20181230</td>\n",
       "      <td>2019-01-14</td>\n",
       "      <td>USD</td>\n",
       "      <td>67716.67</td>\n",
       "      <td>20181230.0</td>\n",
       "      <td>32</td>\n",
       "    </tr>\n",
       "  </tbody>\n",
       "</table>\n",
       "</div>"
      ],
      "text/plain": [
       "   business_code cust_number       name_customer clear_date        doc_id  \\\n",
       "0              2  0200769623          WAL-MAR in 2019-01-15  1928541915.0   \n",
       "1              2  0200769623  WAL-MAR associates 2019-01-16  1928533975.0   \n",
       "2              2  0200900909            SYSCO co 2019-02-04  1928533119.0   \n",
       "3              2  0200769623  WAL-MAR associates 2019-01-10  1928542474.0   \n",
       "4              2  0200769623     WAL-MAR systems 2019-01-15  1928541530.0   \n",
       "\n",
       "  posting_date document_create_date document_create_date.1 due_in_date  \\\n",
       "0   2018-12-30             20181229               20181230  2019-01-14   \n",
       "1   2018-12-30             20181229               20181230  2019-01-14   \n",
       "2   2018-12-30             20181229               20181230  2019-01-31   \n",
       "3   2018-12-30             20181230               20181230  2019-01-14   \n",
       "4   2018-12-30             20181229               20181230  2019-01-14   \n",
       "\n",
       "  invoice_currency  total_open_amount baseline_create_date  cust_payment_terms  \n",
       "0              USD            6025.73           20181230.0                  32  \n",
       "1              USD             344.91           20181230.0                  32  \n",
       "2              USD           12938.59           20181230.0                  12  \n",
       "3              USD           49910.31           20181230.0                  32  \n",
       "4              USD           67716.67           20181230.0                  32  "
      ]
     },
     "execution_count": 51,
     "metadata": {},
     "output_type": "execute_result"
    }
   ],
   "source": [
    "# LABEL ENCODING for cust_payment_terms\n",
    "\n",
    "label_encoder = LabelEncoder()\n",
    "X_train['cust_payment_terms'] = label_encoder.fit_transform(X_train['cust_payment_terms'])\n",
    "X_test['cust_payment_terms'] = label_encoder.fit_transform(X_test['cust_payment_terms'])\n",
    "X_val['cust_payment_terms'] = label_encoder.fit_transform(X_val['cust_payment_terms'])\n",
    "\n",
    "X_train.head()"
   ]
  },
  {
   "cell_type": "code",
   "execution_count": 52,
   "id": "46e591af",
   "metadata": {},
   "outputs": [
    {
     "data": {
      "text/plain": [
       "1216"
      ]
     },
     "execution_count": 52,
     "metadata": {},
     "output_type": "execute_result"
    }
   ],
   "source": [
    "X_train.cust_number.nunique()"
   ]
  },
  {
   "cell_type": "code",
   "execution_count": 53,
   "id": "60a3cdbd",
   "metadata": {},
   "outputs": [
    {
     "data": {
      "text/plain": [
       "0200769623    6007\n",
       "0200726979    1046\n",
       "0200762301     777\n",
       "0200759878     700\n",
       "200769623      609\n",
       "              ... \n",
       "100019293        1\n",
       "0100046482       1\n",
       "0200525326       1\n",
       "0200703231       1\n",
       "0200326954       1\n",
       "Name: cust_number, Length: 1216, dtype: int64"
      ]
     },
     "execution_count": 53,
     "metadata": {},
     "output_type": "execute_result"
    }
   ],
   "source": [
    "X_train.cust_number.value_counts()"
   ]
  },
  {
   "cell_type": "code",
   "execution_count": null,
   "id": "ffa364fe",
   "metadata": {},
   "outputs": [],
   "source": []
  },
  {
   "cell_type": "code",
   "execution_count": 54,
   "id": "e30a5794",
   "metadata": {
    "scrolled": false
   },
   "outputs": [
    {
     "data": {
      "text/plain": [
       "WAL-MAR llc            647\n",
       "WAL-MAR corp           625\n",
       "WAL-MAR us             611\n",
       "WAL-MAR corporation    607\n",
       "WAL-MAR in             602\n",
       "                      ... \n",
       "PAPA systems             1\n",
       "SUIS foundation          1\n",
       "BAS in                   1\n",
       "GARDEN trust             1\n",
       "LAKE trust               1\n",
       "Name: name_customer, Length: 3398, dtype: int64"
      ]
     },
     "execution_count": 54,
     "metadata": {},
     "output_type": "execute_result"
    }
   ],
   "source": [
    "X_train.name_customer.value_counts()"
   ]
  },
  {
   "cell_type": "code",
   "execution_count": null,
   "id": "88b66fc8",
   "metadata": {},
   "outputs": [],
   "source": []
  },
  {
   "cell_type": "code",
   "execution_count": null,
   "id": "308c0df6",
   "metadata": {},
   "outputs": [],
   "source": []
  },
  {
   "cell_type": "code",
   "execution_count": 55,
   "id": "258ab6de",
   "metadata": {
    "scrolled": true
   },
   "outputs": [
    {
     "data": {
      "text/html": [
       "<div>\n",
       "<style scoped>\n",
       "    .dataframe tbody tr th:only-of-type {\n",
       "        vertical-align: middle;\n",
       "    }\n",
       "\n",
       "    .dataframe tbody tr th {\n",
       "        vertical-align: top;\n",
       "    }\n",
       "\n",
       "    .dataframe thead th {\n",
       "        text-align: right;\n",
       "    }\n",
       "</style>\n",
       "<table border=\"1\" class=\"dataframe\">\n",
       "  <thead>\n",
       "    <tr style=\"text-align: right;\">\n",
       "      <th></th>\n",
       "      <th>business_code</th>\n",
       "      <th>cust_number</th>\n",
       "      <th>name_customer</th>\n",
       "      <th>clear_date</th>\n",
       "      <th>doc_id</th>\n",
       "      <th>posting_date</th>\n",
       "      <th>document_create_date</th>\n",
       "      <th>document_create_date.1</th>\n",
       "      <th>due_in_date</th>\n",
       "      <th>invoice_currency</th>\n",
       "      <th>total_open_amount</th>\n",
       "      <th>baseline_create_date</th>\n",
       "      <th>cust_payment_terms</th>\n",
       "    </tr>\n",
       "  </thead>\n",
       "  <tbody>\n",
       "    <tr>\n",
       "      <th>0</th>\n",
       "      <td>2</td>\n",
       "      <td>0200769623</td>\n",
       "      <td>3294</td>\n",
       "      <td>2019-01-15</td>\n",
       "      <td>1928541915.0</td>\n",
       "      <td>2018-12-30</td>\n",
       "      <td>20181229</td>\n",
       "      <td>20181230</td>\n",
       "      <td>2019-01-14</td>\n",
       "      <td>USD</td>\n",
       "      <td>6025.73</td>\n",
       "      <td>20181230.0</td>\n",
       "      <td>32</td>\n",
       "    </tr>\n",
       "    <tr>\n",
       "      <th>1</th>\n",
       "      <td>2</td>\n",
       "      <td>0200769623</td>\n",
       "      <td>3289</td>\n",
       "      <td>2019-01-16</td>\n",
       "      <td>1928533975.0</td>\n",
       "      <td>2018-12-30</td>\n",
       "      <td>20181229</td>\n",
       "      <td>20181230</td>\n",
       "      <td>2019-01-14</td>\n",
       "      <td>USD</td>\n",
       "      <td>344.91</td>\n",
       "      <td>20181230.0</td>\n",
       "      <td>32</td>\n",
       "    </tr>\n",
       "    <tr>\n",
       "      <th>2</th>\n",
       "      <td>2</td>\n",
       "      <td>0200900909</td>\n",
       "      <td>3041</td>\n",
       "      <td>2019-02-04</td>\n",
       "      <td>1928533119.0</td>\n",
       "      <td>2018-12-30</td>\n",
       "      <td>20181229</td>\n",
       "      <td>20181230</td>\n",
       "      <td>2019-01-31</td>\n",
       "      <td>USD</td>\n",
       "      <td>12938.59</td>\n",
       "      <td>20181230.0</td>\n",
       "      <td>12</td>\n",
       "    </tr>\n",
       "    <tr>\n",
       "      <th>3</th>\n",
       "      <td>2</td>\n",
       "      <td>0200769623</td>\n",
       "      <td>3289</td>\n",
       "      <td>2019-01-10</td>\n",
       "      <td>1928542474.0</td>\n",
       "      <td>2018-12-30</td>\n",
       "      <td>20181230</td>\n",
       "      <td>20181230</td>\n",
       "      <td>2019-01-14</td>\n",
       "      <td>USD</td>\n",
       "      <td>49910.31</td>\n",
       "      <td>20181230.0</td>\n",
       "      <td>32</td>\n",
       "    </tr>\n",
       "    <tr>\n",
       "      <th>4</th>\n",
       "      <td>2</td>\n",
       "      <td>0200769623</td>\n",
       "      <td>3296</td>\n",
       "      <td>2019-01-15</td>\n",
       "      <td>1928541530.0</td>\n",
       "      <td>2018-12-30</td>\n",
       "      <td>20181229</td>\n",
       "      <td>20181230</td>\n",
       "      <td>2019-01-14</td>\n",
       "      <td>USD</td>\n",
       "      <td>67716.67</td>\n",
       "      <td>20181230.0</td>\n",
       "      <td>32</td>\n",
       "    </tr>\n",
       "  </tbody>\n",
       "</table>\n",
       "</div>"
      ],
      "text/plain": [
       "   business_code cust_number  name_customer clear_date        doc_id  \\\n",
       "0              2  0200769623           3294 2019-01-15  1928541915.0   \n",
       "1              2  0200769623           3289 2019-01-16  1928533975.0   \n",
       "2              2  0200900909           3041 2019-02-04  1928533119.0   \n",
       "3              2  0200769623           3289 2019-01-10  1928542474.0   \n",
       "4              2  0200769623           3296 2019-01-15  1928541530.0   \n",
       "\n",
       "  posting_date document_create_date document_create_date.1 due_in_date  \\\n",
       "0   2018-12-30             20181229               20181230  2019-01-14   \n",
       "1   2018-12-30             20181229               20181230  2019-01-14   \n",
       "2   2018-12-30             20181229               20181230  2019-01-31   \n",
       "3   2018-12-30             20181230               20181230  2019-01-14   \n",
       "4   2018-12-30             20181229               20181230  2019-01-14   \n",
       "\n",
       "  invoice_currency  total_open_amount baseline_create_date  cust_payment_terms  \n",
       "0              USD            6025.73           20181230.0                  32  \n",
       "1              USD             344.91           20181230.0                  32  \n",
       "2              USD           12938.59           20181230.0                  12  \n",
       "3              USD           49910.31           20181230.0                  32  \n",
       "4              USD           67716.67           20181230.0                  32  "
      ]
     },
     "execution_count": 55,
     "metadata": {},
     "output_type": "execute_result"
    }
   ],
   "source": [
    "# LABEL ENCODING for business code\n",
    "\n",
    "label_encoder = LabelEncoder()\n",
    "X_train['name_customer'] = label_encoder.fit_transform(X_train['name_customer'])\n",
    "X_test['name_customer'] = label_encoder.fit_transform(X_test['name_customer'])\n",
    "X_val['name_customer'] = label_encoder.fit_transform(X_val['name_customer'])\n",
    "\n",
    "X_train.head()"
   ]
  },
  {
   "cell_type": "code",
   "execution_count": 56,
   "id": "30801d2c",
   "metadata": {},
   "outputs": [
    {
     "data": {
      "text/html": [
       "<div>\n",
       "<style scoped>\n",
       "    .dataframe tbody tr th:only-of-type {\n",
       "        vertical-align: middle;\n",
       "    }\n",
       "\n",
       "    .dataframe tbody tr th {\n",
       "        vertical-align: top;\n",
       "    }\n",
       "\n",
       "    .dataframe thead th {\n",
       "        text-align: right;\n",
       "    }\n",
       "</style>\n",
       "<table border=\"1\" class=\"dataframe\">\n",
       "  <thead>\n",
       "    <tr style=\"text-align: right;\">\n",
       "      <th></th>\n",
       "      <th>business_code</th>\n",
       "      <th>cust_number</th>\n",
       "      <th>name_customer</th>\n",
       "      <th>clear_date</th>\n",
       "      <th>doc_id</th>\n",
       "      <th>posting_date</th>\n",
       "      <th>document_create_date</th>\n",
       "      <th>document_create_date.1</th>\n",
       "      <th>due_in_date</th>\n",
       "      <th>invoice_currency</th>\n",
       "      <th>total_open_amount</th>\n",
       "      <th>baseline_create_date</th>\n",
       "      <th>cust_payment_terms</th>\n",
       "    </tr>\n",
       "  </thead>\n",
       "  <tbody>\n",
       "    <tr>\n",
       "      <th>0</th>\n",
       "      <td>2</td>\n",
       "      <td>711</td>\n",
       "      <td>3294</td>\n",
       "      <td>2019-01-15</td>\n",
       "      <td>1928541915.0</td>\n",
       "      <td>2018-12-30</td>\n",
       "      <td>20181229</td>\n",
       "      <td>20181230</td>\n",
       "      <td>2019-01-14</td>\n",
       "      <td>USD</td>\n",
       "      <td>6025.73</td>\n",
       "      <td>20181230.0</td>\n",
       "      <td>32</td>\n",
       "    </tr>\n",
       "    <tr>\n",
       "      <th>1</th>\n",
       "      <td>2</td>\n",
       "      <td>711</td>\n",
       "      <td>3289</td>\n",
       "      <td>2019-01-16</td>\n",
       "      <td>1928533975.0</td>\n",
       "      <td>2018-12-30</td>\n",
       "      <td>20181229</td>\n",
       "      <td>20181230</td>\n",
       "      <td>2019-01-14</td>\n",
       "      <td>USD</td>\n",
       "      <td>344.91</td>\n",
       "      <td>20181230.0</td>\n",
       "      <td>32</td>\n",
       "    </tr>\n",
       "    <tr>\n",
       "      <th>2</th>\n",
       "      <td>2</td>\n",
       "      <td>824</td>\n",
       "      <td>3041</td>\n",
       "      <td>2019-02-04</td>\n",
       "      <td>1928533119.0</td>\n",
       "      <td>2018-12-30</td>\n",
       "      <td>20181229</td>\n",
       "      <td>20181230</td>\n",
       "      <td>2019-01-31</td>\n",
       "      <td>USD</td>\n",
       "      <td>12938.59</td>\n",
       "      <td>20181230.0</td>\n",
       "      <td>12</td>\n",
       "    </tr>\n",
       "    <tr>\n",
       "      <th>3</th>\n",
       "      <td>2</td>\n",
       "      <td>711</td>\n",
       "      <td>3289</td>\n",
       "      <td>2019-01-10</td>\n",
       "      <td>1928542474.0</td>\n",
       "      <td>2018-12-30</td>\n",
       "      <td>20181230</td>\n",
       "      <td>20181230</td>\n",
       "      <td>2019-01-14</td>\n",
       "      <td>USD</td>\n",
       "      <td>49910.31</td>\n",
       "      <td>20181230.0</td>\n",
       "      <td>32</td>\n",
       "    </tr>\n",
       "    <tr>\n",
       "      <th>4</th>\n",
       "      <td>2</td>\n",
       "      <td>711</td>\n",
       "      <td>3296</td>\n",
       "      <td>2019-01-15</td>\n",
       "      <td>1928541530.0</td>\n",
       "      <td>2018-12-30</td>\n",
       "      <td>20181229</td>\n",
       "      <td>20181230</td>\n",
       "      <td>2019-01-14</td>\n",
       "      <td>USD</td>\n",
       "      <td>67716.67</td>\n",
       "      <td>20181230.0</td>\n",
       "      <td>32</td>\n",
       "    </tr>\n",
       "  </tbody>\n",
       "</table>\n",
       "</div>"
      ],
      "text/plain": [
       "   business_code  cust_number  name_customer clear_date        doc_id  \\\n",
       "0              2          711           3294 2019-01-15  1928541915.0   \n",
       "1              2          711           3289 2019-01-16  1928533975.0   \n",
       "2              2          824           3041 2019-02-04  1928533119.0   \n",
       "3              2          711           3289 2019-01-10  1928542474.0   \n",
       "4              2          711           3296 2019-01-15  1928541530.0   \n",
       "\n",
       "  posting_date document_create_date document_create_date.1 due_in_date  \\\n",
       "0   2018-12-30             20181229               20181230  2019-01-14   \n",
       "1   2018-12-30             20181229               20181230  2019-01-14   \n",
       "2   2018-12-30             20181229               20181230  2019-01-31   \n",
       "3   2018-12-30             20181230               20181230  2019-01-14   \n",
       "4   2018-12-30             20181229               20181230  2019-01-14   \n",
       "\n",
       "  invoice_currency  total_open_amount baseline_create_date  cust_payment_terms  \n",
       "0              USD            6025.73           20181230.0                  32  \n",
       "1              USD             344.91           20181230.0                  32  \n",
       "2              USD           12938.59           20181230.0                  12  \n",
       "3              USD           49910.31           20181230.0                  32  \n",
       "4              USD           67716.67           20181230.0                  32  "
      ]
     },
     "execution_count": 56,
     "metadata": {},
     "output_type": "execute_result"
    }
   ],
   "source": [
    "# LABEL ENCODING for CUST_NUMBER\n",
    "\n",
    "label_encoder = LabelEncoder()\n",
    "X_train['cust_number'] = label_encoder.fit_transform(X_train['cust_number'])\n",
    "X_test['cust_number'] = label_encoder.fit_transform(X_test['cust_number'])\n",
    "X_val['cust_number'] = label_encoder.fit_transform(X_val['cust_number'])\n",
    "\n",
    "X_train.head()"
   ]
  },
  {
   "cell_type": "code",
   "execution_count": 57,
   "id": "e5e95cd6",
   "metadata": {},
   "outputs": [
    {
     "data": {
      "text/plain": [
       "business_code                      int32\n",
       "cust_number                        int32\n",
       "name_customer                      int32\n",
       "clear_date                datetime64[ns]\n",
       "doc_id                            object\n",
       "posting_date                      object\n",
       "document_create_date              object\n",
       "document_create_date.1            object\n",
       "due_in_date               datetime64[ns]\n",
       "invoice_currency                  object\n",
       "total_open_amount                float64\n",
       "baseline_create_date              object\n",
       "cust_payment_terms                 int32\n",
       "dtype: object"
      ]
     },
     "execution_count": 57,
     "metadata": {},
     "output_type": "execute_result"
    }
   ],
   "source": [
    "X_train.dtypes"
   ]
  },
  {
   "cell_type": "code",
   "execution_count": 58,
   "id": "50923719",
   "metadata": {},
   "outputs": [],
   "source": [
    "### Convert doc_id to float"
   ]
  },
  {
   "cell_type": "code",
   "execution_count": 59,
   "id": "1a558d89",
   "metadata": {},
   "outputs": [],
   "source": [
    "X_train.doc_id=X_train.doc_id.astype(float)\n",
    "X_test.doc_id=X_test.doc_id.astype(float)\n",
    "X_val.doc_id=X_val.doc_id.astype(float)"
   ]
  },
  {
   "cell_type": "code",
   "execution_count": 60,
   "id": "6188f38c",
   "metadata": {},
   "outputs": [
    {
     "data": {
      "text/plain": [
       "business_code                      int32\n",
       "cust_number                        int32\n",
       "name_customer                      int32\n",
       "clear_date                datetime64[ns]\n",
       "doc_id                           float64\n",
       "posting_date                      object\n",
       "document_create_date              object\n",
       "document_create_date.1            object\n",
       "due_in_date               datetime64[ns]\n",
       "invoice_currency                  object\n",
       "total_open_amount                float64\n",
       "baseline_create_date              object\n",
       "cust_payment_terms                 int32\n",
       "dtype: object"
      ]
     },
     "execution_count": 60,
     "metadata": {},
     "output_type": "execute_result"
    }
   ],
   "source": [
    "X_train.dtypes"
   ]
  },
  {
   "cell_type": "code",
   "execution_count": null,
   "id": "ccca6370",
   "metadata": {},
   "outputs": [],
   "source": []
  },
  {
   "cell_type": "code",
   "execution_count": 61,
   "id": "301642c6",
   "metadata": {},
   "outputs": [],
   "source": [
    "# function will delete a column from train , val and test\n",
    "def delcol(col ,traindf = X_train,valdf = X_val,testdf = X_test):\n",
    "    traindf.drop(col, axis =1,inplace=True)\n",
    "    valdf.drop(col,axis=1 , inplace=True)\n",
    "    testdf.drop(col,axis=1 , inplace=True)\n",
    "\n",
    "    return traindf,valdf ,testdf"
   ]
  },
  {
   "cell_type": "code",
   "execution_count": 62,
   "id": "dfd91b78",
   "metadata": {},
   "outputs": [],
   "source": [
    "X_train ,X_val, X_test = delcol(['clear_date'])"
   ]
  },
  {
   "cell_type": "markdown",
   "id": "535344f8",
   "metadata": {},
   "source": [
    "#### Convert datetime columns to datetime and extract their data and drop them"
   ]
  },
  {
   "cell_type": "code",
   "execution_count": 63,
   "id": "d390c539",
   "metadata": {},
   "outputs": [],
   "source": [
    "X_train.posting_date=pd.to_datetime(X_train.posting_date)\n",
    "X_test.posting_date=pd.to_datetime(X_test.posting_date)\n",
    "X_val.posting_date=pd.to_datetime(X_val.posting_date)"
   ]
  },
  {
   "cell_type": "code",
   "execution_count": 64,
   "id": "a567d55a",
   "metadata": {},
   "outputs": [],
   "source": [
    "X_train.document_create_date=pd.to_datetime(X_train.document_create_date)\n",
    "X_test.document_create_date=pd.to_datetime(X_test.document_create_date)\n",
    "X_val.document_create_date=pd.to_datetime(X_val.document_create_date)"
   ]
  },
  {
   "cell_type": "code",
   "execution_count": 65,
   "id": "7ba4cac3",
   "metadata": {},
   "outputs": [],
   "source": [
    "X_train['document_create_date.1']=pd.to_datetime(X_train['document_create_date.1'])\n",
    "X_test['document_create_date.1']=pd.to_datetime(X_test['document_create_date.1'])\n",
    "X_val['document_create_date.1']=pd.to_datetime(X_val['document_create_date.1'])\n"
   ]
  },
  {
   "cell_type": "code",
   "execution_count": 66,
   "id": "a95b8fbf",
   "metadata": {},
   "outputs": [],
   "source": [
    "X_train['posting_date_year'] = X_train['posting_date'].dt.year\n",
    "X_train['posting_date_dayofweek'] = X_train['posting_date'].dt.dayofweek\n",
    "X_train['posting_date_month'] = X_train['posting_date'].dt.month\n",
    "X_train['posting_date_day'] = X_train['posting_date'].dt.day\n",
    "X_train['posting_date_quarter'] = X_train['posting_date'].dt.quarter\n",
    "\n",
    "X_test['posting_date_year'] = X_test['posting_date'].dt.year\n",
    "X_test['posting_date_dayofweek'] = X_test['posting_date'].dt.dayofweek\n",
    "X_test['posting_date_month'] = X_test['posting_date'].dt.month\n",
    "X_test['posting_date_day'] = X_test['posting_date'].dt.day\n",
    "X_test['posting_date_quarter'] = X_test['posting_date'].dt.quarter\n",
    "\n",
    "X_val['posting_date_year'] = X_val['posting_date'].dt.year\n",
    "X_val['posting_date_dayofweek'] = X_val['posting_date'].dt.dayofweek\n",
    "X_val['posting_date_month'] = X_val['posting_date'].dt.month\n",
    "X_val['posting_date_day'] = X_val['posting_date'].dt.day\n",
    "X_val['posting_date_quarter'] = X_val['posting_date'].dt.quarter"
   ]
  },
  {
   "cell_type": "code",
   "execution_count": 67,
   "id": "91fa868e",
   "metadata": {},
   "outputs": [],
   "source": [
    "X_train ,X_val, X_test = delcol(['posting_date'])"
   ]
  },
  {
   "cell_type": "code",
   "execution_count": 68,
   "id": "11786c6b",
   "metadata": {},
   "outputs": [],
   "source": [
    "X_train['document_create_date_year'] = X_train['document_create_date'].dt.year\n",
    "X_train['document_create_date_dayofweek'] = X_train['document_create_date'].dt.dayofweek\n",
    "X_train['document_create_date_month'] = X_train['document_create_date'].dt.month\n",
    "X_train['document_create_date_day'] = X_train['document_create_date'].dt.day\n",
    "X_train['document_create_date_quarter'] = X_train['document_create_date'].dt.quarter\n",
    "\n",
    "X_test['document_create_date_year'] = X_test['document_create_date'].dt.year\n",
    "X_test['document_create_date_dayofweek'] = X_test['document_create_date'].dt.dayofweek\n",
    "X_test['document_create_date_month'] = X_test['document_create_date'].dt.month\n",
    "X_test['document_create_date_day'] = X_test['document_create_date'].dt.day\n",
    "X_test['document_create_date_quarter'] = X_test['document_create_date'].dt.quarter\n",
    "\n",
    "X_val['document_create_date_year'] = X_val['document_create_date'].dt.year\n",
    "X_val['document_create_date_dayofweek'] = X_val['document_create_date'].dt.dayofweek\n",
    "X_val['document_create_date_month'] = X_val['document_create_date'].dt.month\n",
    "X_val['document_create_date_day'] = X_val['document_create_date'].dt.day\n",
    "X_val['document_create_date_quarter'] = X_val['document_create_date'].dt.quarter"
   ]
  },
  {
   "cell_type": "code",
   "execution_count": 69,
   "id": "eb6a7ac7",
   "metadata": {},
   "outputs": [],
   "source": [
    "X_train ,X_val, X_test = delcol(['document_create_date'])"
   ]
  },
  {
   "cell_type": "code",
   "execution_count": null,
   "id": "022948f0",
   "metadata": {},
   "outputs": [],
   "source": []
  },
  {
   "cell_type": "code",
   "execution_count": 70,
   "id": "9dbf6e8b",
   "metadata": {},
   "outputs": [],
   "source": [
    "X_train['document_create_date1_year'] = X_train['document_create_date.1'].dt.year\n",
    "X_train['document_create_date1_dayofweek'] = X_train['document_create_date.1'].dt.dayofweek\n",
    "X_train['document_create_date1_month'] = X_train['document_create_date.1'].dt.month\n",
    "X_train['document_create_date1_day'] = X_train['document_create_date.1'].dt.day\n",
    "X_train['document_create_date1_quarter'] = X_train['document_create_date.1'].dt.quarter\n",
    "\n",
    "X_test['document_create_date1_year'] = X_test['document_create_date.1'].dt.year\n",
    "X_test['document_create_date1_dayofweek'] = X_test['document_create_date.1'].dt.dayofweek\n",
    "X_test['document_create_date1_month'] = X_test['document_create_date.1'].dt.month\n",
    "X_test['document_create_date1_day'] = X_test['document_create_date.1'].dt.day\n",
    "X_test['document_create_date1_quarter'] = X_test['document_create_date.1'].dt.quarter\n",
    "\n",
    "X_val['document_create_date1_year'] = X_val['document_create_date.1'].dt.year\n",
    "X_val['document_create_date1_dayofweek'] = X_val['document_create_date.1'].dt.dayofweek\n",
    "X_val['document_create_date1_month'] = X_val['document_create_date.1'].dt.month\n",
    "X_val['document_create_date1_day'] = X_val['document_create_date.1'].dt.day\n",
    "X_val['document_create_date1_quarter'] = X_val['document_create_date.1'].dt.quarter"
   ]
  },
  {
   "cell_type": "code",
   "execution_count": 71,
   "id": "e4752cd2",
   "metadata": {},
   "outputs": [],
   "source": [
    "X_train ,X_val, X_test = delcol(['document_create_date.1'])"
   ]
  },
  {
   "cell_type": "code",
   "execution_count": 72,
   "id": "390cb86e",
   "metadata": {},
   "outputs": [
    {
     "data": {
      "text/plain": [
       "business_code                               int32\n",
       "cust_number                                 int32\n",
       "name_customer                               int32\n",
       "doc_id                                    float64\n",
       "due_in_date                        datetime64[ns]\n",
       "invoice_currency                           object\n",
       "total_open_amount                         float64\n",
       "baseline_create_date                       object\n",
       "cust_payment_terms                          int32\n",
       "posting_date_year                           int64\n",
       "posting_date_dayofweek                      int64\n",
       "posting_date_month                          int64\n",
       "posting_date_day                            int64\n",
       "posting_date_quarter                        int64\n",
       "document_create_date_year                   int64\n",
       "document_create_date_dayofweek              int64\n",
       "document_create_date_month                  int64\n",
       "document_create_date_day                    int64\n",
       "document_create_date_quarter                int64\n",
       "document_create_date1_year                  int64\n",
       "document_create_date1_dayofweek             int64\n",
       "document_create_date1_month                 int64\n",
       "document_create_date1_day                   int64\n",
       "document_create_date1_quarter               int64\n",
       "dtype: object"
      ]
     },
     "execution_count": 72,
     "metadata": {},
     "output_type": "execute_result"
    }
   ],
   "source": [
    "X_train.dtypes"
   ]
  },
  {
   "cell_type": "code",
   "execution_count": 73,
   "id": "784f085c",
   "metadata": {},
   "outputs": [],
   "source": [
    "X_train ,X_val, X_test = delcol(['invoice_currency'])"
   ]
  },
  {
   "cell_type": "code",
   "execution_count": 74,
   "id": "2c6885f4",
   "metadata": {},
   "outputs": [],
   "source": [
    "X_test.total_open_amount=X_test.total_open_amount.astype(float)\n",
    "X_val.total_open_amount=X_val.total_open_amount.astype(float)"
   ]
  },
  {
   "cell_type": "code",
   "execution_count": 75,
   "id": "bf6c0734",
   "metadata": {},
   "outputs": [],
   "source": [
    "X_train.baseline_create_date=pd.to_datetime(X_train.baseline_create_date)\n",
    "X_test.baseline_create_date=pd.to_datetime(X_test.baseline_create_date)\n",
    "X_val.baseline_create_date=pd.to_datetime(X_val.baseline_create_date)"
   ]
  },
  {
   "cell_type": "code",
   "execution_count": 76,
   "id": "2c974c2d",
   "metadata": {},
   "outputs": [],
   "source": [
    "X_train['baseline_create_date_year'] = X_train['baseline_create_date'].dt.year\n",
    "X_train['baseline_create_date_dayofweek'] = X_train['baseline_create_date'].dt.dayofweek\n",
    "X_train['baseline_create_date_month'] = X_train['baseline_create_date'].dt.month\n",
    "X_train['baseline_create_date_day'] = X_train['baseline_create_date'].dt.day\n",
    "X_train['baseline_create_date_quarter'] = X_train['baseline_create_date'].dt.quarter\n",
    "\n",
    "X_test['baseline_create_date_year'] = X_test['baseline_create_date'].dt.year\n",
    "X_test['baseline_create_date_dayofweek'] = X_test['baseline_create_date'].dt.dayofweek\n",
    "X_test['baseline_create_date_month'] = X_test['baseline_create_date'].dt.month\n",
    "X_test['baseline_create_date_day'] = X_test['baseline_create_date'].dt.day\n",
    "X_test['baseline_create_date_quarter'] = X_test['baseline_create_date'].dt.quarter\n",
    "\n",
    "X_val['baseline_create_date_year'] = X_val['baseline_create_date'].dt.year\n",
    "X_val['baseline_create_date_dayofweek'] = X_val['baseline_create_date'].dt.dayofweek\n",
    "X_val['baseline_create_date_month'] = X_val['baseline_create_date'].dt.month\n",
    "X_val['baseline_create_date_day'] = X_val['baseline_create_date'].dt.day\n",
    "X_val['baseline_create_date_quarter'] = X_val['baseline_create_date'].dt.quarter"
   ]
  },
  {
   "cell_type": "code",
   "execution_count": 77,
   "id": "b13194ce",
   "metadata": {},
   "outputs": [],
   "source": [
    "X_train['due_in_date_year'] = X_train['due_in_date'].dt.year\n",
    "X_train['due_in_date_dayofweek'] = X_train['due_in_date'].dt.dayofweek\n",
    "X_train['due_in_date_month'] = X_train['due_in_date'].dt.month\n",
    "X_train['due_in_date_day'] = X_train['due_in_date'].dt.day\n",
    "X_train['due_in_date_quarter'] = X_train['due_in_date'].dt.quarter\n",
    "\n",
    "X_test['due_in_date_year'] = X_test['due_in_date'].dt.year\n",
    "X_test['due_in_date_dayofweek'] = X_test['due_in_date'].dt.dayofweek\n",
    "X_test['due_in_date_month'] = X_test['due_in_date'].dt.month\n",
    "X_test['due_in_date_day'] = X_test['due_in_date'].dt.day\n",
    "X_test['due_in_date_quarter'] = X_test['due_in_date'].dt.quarter\n",
    "\n",
    "X_val['due_in_date_year'] = X_val['due_in_date'].dt.year\n",
    "X_val['due_in_date_dayofweek'] = X_val['due_in_date'].dt.dayofweek\n",
    "X_val['due_in_date_month'] = X_val['due_in_date'].dt.month\n",
    "X_val['due_in_date_day'] = X_val['due_in_date'].dt.day\n",
    "X_val['due_in_date_quarter'] = X_val['due_in_date'].dt.quarter"
   ]
  },
  {
   "cell_type": "code",
   "execution_count": 78,
   "id": "41d994a9",
   "metadata": {},
   "outputs": [],
   "source": [
    "X_train ,X_val, X_test = delcol(['baseline_create_date'])\n",
    "X_train ,X_val, X_test = delcol(['due_in_date'])"
   ]
  },
  {
   "cell_type": "code",
   "execution_count": 79,
   "id": "36686cab",
   "metadata": {
    "scrolled": true
   },
   "outputs": [
    {
     "data": {
      "text/plain": [
       "business_code                          5\n",
       "cust_number                         1216\n",
       "name_customer                       3398\n",
       "doc_id                             27381\n",
       "total_open_amount                  25122\n",
       "cust_payment_terms                    64\n",
       "posting_date_year                      2\n",
       "posting_date_dayofweek                 7\n",
       "posting_date_month                    11\n",
       "posting_date_day                      31\n",
       "posting_date_quarter                   4\n",
       "document_create_date_year              1\n",
       "document_create_date_dayofweek         1\n",
       "document_create_date_month             1\n",
       "document_create_date_day               1\n",
       "document_create_date_quarter           1\n",
       "document_create_date1_year             1\n",
       "document_create_date1_dayofweek        1\n",
       "document_create_date1_month            1\n",
       "document_create_date1_day              1\n",
       "document_create_date1_quarter          1\n",
       "baseline_create_date_year              1\n",
       "baseline_create_date_dayofweek         1\n",
       "baseline_create_date_month             1\n",
       "baseline_create_date_day               1\n",
       "baseline_create_date_quarter           1\n",
       "due_in_date_year                       3\n",
       "due_in_date_dayofweek                  7\n",
       "due_in_date_month                     12\n",
       "due_in_date_day                       31\n",
       "due_in_date_quarter                    4\n",
       "dtype: int64"
      ]
     },
     "execution_count": 79,
     "metadata": {},
     "output_type": "execute_result"
    }
   ],
   "source": [
    "X_train.nunique()"
   ]
  },
  {
   "cell_type": "code",
   "execution_count": 80,
   "id": "c988bd67",
   "metadata": {},
   "outputs": [],
   "source": [
    "X_train=X_train.drop(['document_create_date_year','document_create_date_dayofweek','document_create_date_month','document_create_date_day'\n",
    "             ,'document_create_date_quarter','document_create_date1_year','document_create_date1_dayofweek','document_create_date1_month'\n",
    "              ,'document_create_date1_day','document_create_date1_quarter','baseline_create_date_year'],axis=1)"
   ]
  },
  {
   "cell_type": "code",
   "execution_count": 81,
   "id": "e996add6",
   "metadata": {},
   "outputs": [],
   "source": [
    "X_test=X_test.drop(['document_create_date_year','document_create_date_dayofweek','document_create_date_month','document_create_date_day'\n",
    "             ,'document_create_date_quarter','document_create_date1_year','document_create_date1_dayofweek','document_create_date1_month'\n",
    "              ,'document_create_date1_day','document_create_date1_quarter','baseline_create_date_year'],axis=1)\n",
    "X_val=X_val.drop(['document_create_date_year','document_create_date_dayofweek','document_create_date_month','document_create_date_day'\n",
    "             ,'document_create_date_quarter','document_create_date1_year','document_create_date1_dayofweek','document_create_date1_month'\n",
    "              ,'document_create_date1_day','document_create_date1_quarter','baseline_create_date_year'],axis=1)"
   ]
  },
  {
   "cell_type": "code",
   "execution_count": 82,
   "id": "a4703ee1",
   "metadata": {},
   "outputs": [
    {
     "data": {
      "text/plain": [
       "business_code                       int32\n",
       "cust_number                         int32\n",
       "name_customer                       int32\n",
       "doc_id                            float64\n",
       "total_open_amount                 float64\n",
       "cust_payment_terms                  int32\n",
       "posting_date_year                   int64\n",
       "posting_date_dayofweek              int64\n",
       "posting_date_month                  int64\n",
       "posting_date_day                    int64\n",
       "posting_date_quarter                int64\n",
       "baseline_create_date_dayofweek      int64\n",
       "baseline_create_date_month          int64\n",
       "baseline_create_date_day            int64\n",
       "baseline_create_date_quarter        int64\n",
       "due_in_date_year                    int64\n",
       "due_in_date_dayofweek               int64\n",
       "due_in_date_month                   int64\n",
       "due_in_date_day                     int64\n",
       "due_in_date_quarter                 int64\n",
       "dtype: object"
      ]
     },
     "execution_count": 82,
     "metadata": {},
     "output_type": "execute_result"
    }
   ],
   "source": [
    "X_train.dtypes"
   ]
  },
  {
   "cell_type": "code",
   "execution_count": 83,
   "id": "e71d1549",
   "metadata": {},
   "outputs": [
    {
     "data": {
      "text/html": [
       "<div>\n",
       "<style scoped>\n",
       "    .dataframe tbody tr th:only-of-type {\n",
       "        vertical-align: middle;\n",
       "    }\n",
       "\n",
       "    .dataframe tbody tr th {\n",
       "        vertical-align: top;\n",
       "    }\n",
       "\n",
       "    .dataframe thead th {\n",
       "        text-align: right;\n",
       "    }\n",
       "</style>\n",
       "<table border=\"1\" class=\"dataframe\">\n",
       "  <thead>\n",
       "    <tr style=\"text-align: right;\">\n",
       "      <th></th>\n",
       "      <th>business_code</th>\n",
       "      <th>cust_number</th>\n",
       "      <th>name_customer</th>\n",
       "      <th>doc_id</th>\n",
       "      <th>total_open_amount</th>\n",
       "      <th>cust_payment_terms</th>\n",
       "      <th>posting_date_year</th>\n",
       "      <th>posting_date_dayofweek</th>\n",
       "      <th>posting_date_month</th>\n",
       "      <th>posting_date_day</th>\n",
       "      <th>posting_date_quarter</th>\n",
       "      <th>baseline_create_date_dayofweek</th>\n",
       "      <th>baseline_create_date_month</th>\n",
       "      <th>baseline_create_date_day</th>\n",
       "      <th>baseline_create_date_quarter</th>\n",
       "      <th>due_in_date_year</th>\n",
       "      <th>due_in_date_dayofweek</th>\n",
       "      <th>due_in_date_month</th>\n",
       "      <th>due_in_date_day</th>\n",
       "      <th>due_in_date_quarter</th>\n",
       "    </tr>\n",
       "  </thead>\n",
       "  <tbody>\n",
       "    <tr>\n",
       "      <th>0</th>\n",
       "      <td>2</td>\n",
       "      <td>711</td>\n",
       "      <td>3294</td>\n",
       "      <td>1.928542e+09</td>\n",
       "      <td>6025.73</td>\n",
       "      <td>32</td>\n",
       "      <td>2018</td>\n",
       "      <td>6</td>\n",
       "      <td>12</td>\n",
       "      <td>30</td>\n",
       "      <td>4</td>\n",
       "      <td>3</td>\n",
       "      <td>1</td>\n",
       "      <td>1</td>\n",
       "      <td>1</td>\n",
       "      <td>2019</td>\n",
       "      <td>0</td>\n",
       "      <td>1</td>\n",
       "      <td>14</td>\n",
       "      <td>1</td>\n",
       "    </tr>\n",
       "    <tr>\n",
       "      <th>1</th>\n",
       "      <td>2</td>\n",
       "      <td>711</td>\n",
       "      <td>3289</td>\n",
       "      <td>1.928534e+09</td>\n",
       "      <td>344.91</td>\n",
       "      <td>32</td>\n",
       "      <td>2018</td>\n",
       "      <td>6</td>\n",
       "      <td>12</td>\n",
       "      <td>30</td>\n",
       "      <td>4</td>\n",
       "      <td>3</td>\n",
       "      <td>1</td>\n",
       "      <td>1</td>\n",
       "      <td>1</td>\n",
       "      <td>2019</td>\n",
       "      <td>0</td>\n",
       "      <td>1</td>\n",
       "      <td>14</td>\n",
       "      <td>1</td>\n",
       "    </tr>\n",
       "    <tr>\n",
       "      <th>2</th>\n",
       "      <td>2</td>\n",
       "      <td>824</td>\n",
       "      <td>3041</td>\n",
       "      <td>1.928533e+09</td>\n",
       "      <td>12938.59</td>\n",
       "      <td>12</td>\n",
       "      <td>2018</td>\n",
       "      <td>6</td>\n",
       "      <td>12</td>\n",
       "      <td>30</td>\n",
       "      <td>4</td>\n",
       "      <td>3</td>\n",
       "      <td>1</td>\n",
       "      <td>1</td>\n",
       "      <td>1</td>\n",
       "      <td>2019</td>\n",
       "      <td>3</td>\n",
       "      <td>1</td>\n",
       "      <td>31</td>\n",
       "      <td>1</td>\n",
       "    </tr>\n",
       "    <tr>\n",
       "      <th>3</th>\n",
       "      <td>2</td>\n",
       "      <td>711</td>\n",
       "      <td>3289</td>\n",
       "      <td>1.928542e+09</td>\n",
       "      <td>49910.31</td>\n",
       "      <td>32</td>\n",
       "      <td>2018</td>\n",
       "      <td>6</td>\n",
       "      <td>12</td>\n",
       "      <td>30</td>\n",
       "      <td>4</td>\n",
       "      <td>3</td>\n",
       "      <td>1</td>\n",
       "      <td>1</td>\n",
       "      <td>1</td>\n",
       "      <td>2019</td>\n",
       "      <td>0</td>\n",
       "      <td>1</td>\n",
       "      <td>14</td>\n",
       "      <td>1</td>\n",
       "    </tr>\n",
       "    <tr>\n",
       "      <th>4</th>\n",
       "      <td>2</td>\n",
       "      <td>711</td>\n",
       "      <td>3296</td>\n",
       "      <td>1.928542e+09</td>\n",
       "      <td>67716.67</td>\n",
       "      <td>32</td>\n",
       "      <td>2018</td>\n",
       "      <td>6</td>\n",
       "      <td>12</td>\n",
       "      <td>30</td>\n",
       "      <td>4</td>\n",
       "      <td>3</td>\n",
       "      <td>1</td>\n",
       "      <td>1</td>\n",
       "      <td>1</td>\n",
       "      <td>2019</td>\n",
       "      <td>0</td>\n",
       "      <td>1</td>\n",
       "      <td>14</td>\n",
       "      <td>1</td>\n",
       "    </tr>\n",
       "  </tbody>\n",
       "</table>\n",
       "</div>"
      ],
      "text/plain": [
       "   business_code  cust_number  name_customer        doc_id  total_open_amount  \\\n",
       "0              2          711           3294  1.928542e+09            6025.73   \n",
       "1              2          711           3289  1.928534e+09             344.91   \n",
       "2              2          824           3041  1.928533e+09           12938.59   \n",
       "3              2          711           3289  1.928542e+09           49910.31   \n",
       "4              2          711           3296  1.928542e+09           67716.67   \n",
       "\n",
       "   cust_payment_terms  posting_date_year  posting_date_dayofweek  \\\n",
       "0                  32               2018                       6   \n",
       "1                  32               2018                       6   \n",
       "2                  12               2018                       6   \n",
       "3                  32               2018                       6   \n",
       "4                  32               2018                       6   \n",
       "\n",
       "   posting_date_month  posting_date_day  posting_date_quarter  \\\n",
       "0                  12                30                     4   \n",
       "1                  12                30                     4   \n",
       "2                  12                30                     4   \n",
       "3                  12                30                     4   \n",
       "4                  12                30                     4   \n",
       "\n",
       "   baseline_create_date_dayofweek  baseline_create_date_month  \\\n",
       "0                               3                           1   \n",
       "1                               3                           1   \n",
       "2                               3                           1   \n",
       "3                               3                           1   \n",
       "4                               3                           1   \n",
       "\n",
       "   baseline_create_date_day  baseline_create_date_quarter  due_in_date_year  \\\n",
       "0                         1                             1              2019   \n",
       "1                         1                             1              2019   \n",
       "2                         1                             1              2019   \n",
       "3                         1                             1              2019   \n",
       "4                         1                             1              2019   \n",
       "\n",
       "   due_in_date_dayofweek  due_in_date_month  due_in_date_day  \\\n",
       "0                      0                  1               14   \n",
       "1                      0                  1               14   \n",
       "2                      3                  1               31   \n",
       "3                      0                  1               14   \n",
       "4                      0                  1               14   \n",
       "\n",
       "   due_in_date_quarter  \n",
       "0                    1  \n",
       "1                    1  \n",
       "2                    1  \n",
       "3                    1  \n",
       "4                    1  "
      ]
     },
     "execution_count": 83,
     "metadata": {},
     "output_type": "execute_result"
    }
   ],
   "source": [
    "X_train.head()"
   ]
  },
  {
   "cell_type": "code",
   "execution_count": null,
   "id": "02334d11",
   "metadata": {},
   "outputs": [],
   "source": []
  },
  {
   "cell_type": "markdown",
   "id": "36100a68",
   "metadata": {},
   "source": [
    "## Feature Selection"
   ]
  },
  {
   "cell_type": "code",
   "execution_count": null,
   "id": "5bcca40e",
   "metadata": {},
   "outputs": [],
   "source": []
  },
  {
   "cell_type": "code",
   "execution_count": 84,
   "id": "9a837e00",
   "metadata": {},
   "outputs": [],
   "source": [
    "X_train,X_val ,X_test = delcol(['baseline_create_date_dayofweek'])"
   ]
  },
  {
   "cell_type": "code",
   "execution_count": 85,
   "id": "b50b4e5d",
   "metadata": {},
   "outputs": [],
   "source": [
    "X_train,X_val ,X_test = delcol(['baseline_create_date_month'])\n",
    "X_train,X_val ,X_test = delcol(['baseline_create_date_quarter'])\n",
    "\n",
    "X_train=X_train.drop(['baseline_create_date_day','document_create_date_year','document_create_date_dayofweek','document_create_date_month','document_create_date_day'\n",
    "             ,'document_create_date_quarter','document_create_date1_year','document_create_date1_dayofweek','document_create_date1_month'\n",
    "              ,'document_create_date1_day','document_create_date1_quarter'],axis=1)\n",
    "X_test=X_test.drop(['baseline_create_date_day','document_create_date_year','document_create_date_dayofweek','document_create_date_month','document_create_date_day'\n",
    "             ,'document_create_date_quarter','document_create_date1_year','document_create_date1_dayofweek','document_create_date1_month'\n",
    "              ,'document_create_date1_day','document_create_date1_quarter'],axis=1)\n",
    "X_val=X_val.drop(['baseline_create_date_day','document_create_date_year','document_create_date_dayofweek','document_create_date_month','document_create_date_day'\n",
    "             ,'document_create_date_quarter','document_create_date1_year','document_create_date1_dayofweek','document_create_date1_month'\n",
    "              ,'document_create_date1_day','document_create_date1_quarter'],axis=1)"
   ]
  },
  {
   "cell_type": "code",
   "execution_count": 86,
   "id": "2fcbf7c3",
   "metadata": {
    "scrolled": false
   },
   "outputs": [
    {
     "data": {
      "text/plain": [
       "business_code                  int32\n",
       "cust_number                    int32\n",
       "name_customer                  int32\n",
       "doc_id                       float64\n",
       "total_open_amount            float64\n",
       "cust_payment_terms             int32\n",
       "posting_date_year              int64\n",
       "posting_date_dayofweek         int64\n",
       "posting_date_month             int64\n",
       "posting_date_day               int64\n",
       "posting_date_quarter           int64\n",
       "baseline_create_date_year      int64\n",
       "due_in_date_year               int64\n",
       "due_in_date_dayofweek          int64\n",
       "due_in_date_month              int64\n",
       "due_in_date_day                int64\n",
       "due_in_date_quarter            int64\n",
       "dtype: object"
      ]
     },
     "execution_count": 86,
     "metadata": {},
     "output_type": "execute_result"
    }
   ],
   "source": [
    "X_train.dtypes"
   ]
  },
  {
   "cell_type": "code",
   "execution_count": 87,
   "id": "931f9361",
   "metadata": {},
   "outputs": [],
   "source": [
    "X_val=X_val.drop(['posting_date_year','posting_date_dayofweek'\n",
    "                 ,'posting_date_month','posting_date_day','posting_date_quarter','due_in_date_year',\n",
    "                 'due_in_date_dayofweek','due_in_date_month','due_in_date_day','due_in_date_quarter'],axis=1)\n",
    "X_test=X_test.drop(['posting_date_year','posting_date_dayofweek'\n",
    "                 ,'posting_date_month','posting_date_day','posting_date_quarter','due_in_date_year',\n",
    "                 'due_in_date_dayofweek','due_in_date_month','due_in_date_day','due_in_date_quarter'],axis=1)\n",
    "X_train=X_train.drop(['posting_date_year','posting_date_dayofweek'\n",
    "                 ,'posting_date_month','posting_date_day','posting_date_quarter','due_in_date_year',\n",
    "                 'due_in_date_dayofweek','due_in_date_month','due_in_date_day','due_in_date_quarter'],axis=1)"
   ]
  },
  {
   "cell_type": "code",
   "execution_count": 88,
   "id": "ba397abe",
   "metadata": {},
   "outputs": [],
   "source": [
    "aaa=X_train.merge(y_train , on = X_train.index ).corr()\n"
   ]
  },
  {
   "cell_type": "code",
   "execution_count": 89,
   "id": "25e1ed2e",
   "metadata": {},
   "outputs": [
    {
     "data": {
      "text/plain": [
       "VarianceThreshold(threshold=0)"
      ]
     },
     "execution_count": 89,
     "metadata": {},
     "output_type": "execute_result"
    }
   ],
   "source": [
    "from sklearn.feature_selection import VarianceThreshold\n",
    "sel = VarianceThreshold(0)\n",
    "sel.fit(X_train)"
   ]
  },
  {
   "cell_type": "code",
   "execution_count": 90,
   "id": "e00b3a63",
   "metadata": {},
   "outputs": [],
   "source": [
    "# Drop constant columns"
   ]
  },
  {
   "cell_type": "code",
   "execution_count": 91,
   "id": "e7fb83f1",
   "metadata": {},
   "outputs": [],
   "source": [
    "constant_filter = VarianceThreshold(threshold=0)\n",
    "constant_filter.fit(X_train)\n",
    "\n",
    "len(X_train.columns[constant_filter.get_support()])\n",
    "\n",
    "constant_columns = [column for column in X_train.columns\n",
    "                    if column not in X_train.columns[constant_filter.get_support()]]\n",
    "\n",
    "X_train.drop(labels=constant_columns, axis=1, inplace=True)\n",
    "X_test.drop(labels=constant_columns, axis=1, inplace=True)\n",
    "X_val.drop(labels=constant_columns, axis=1, inplace=True)"
   ]
  },
  {
   "cell_type": "code",
   "execution_count": 92,
   "id": "be0656ba",
   "metadata": {
    "scrolled": true
   },
   "outputs": [
    {
     "data": {
      "text/plain": [
       "Index(['business_code', 'cust_number', 'name_customer', 'doc_id',\n",
       "       'total_open_amount', 'cust_payment_terms'],\n",
       "      dtype='object')"
      ]
     },
     "execution_count": 92,
     "metadata": {},
     "output_type": "execute_result"
    }
   ],
   "source": [
    "X_train.columns"
   ]
  },
  {
   "cell_type": "code",
   "execution_count": 93,
   "id": "2a023f85",
   "metadata": {},
   "outputs": [
    {
     "data": {
      "text/plain": [
       "25122"
      ]
     },
     "execution_count": 93,
     "metadata": {},
     "output_type": "execute_result"
    }
   ],
   "source": [
    "X_train.total_open_amount.nunique()"
   ]
  },
  {
   "cell_type": "code",
   "execution_count": 94,
   "id": "46076551",
   "metadata": {
    "scrolled": true
   },
   "outputs": [
    {
     "data": {
      "text/plain": [
       "VarianceThreshold(threshold=0.8)"
      ]
     },
     "execution_count": 94,
     "metadata": {},
     "output_type": "execute_result"
    }
   ],
   "source": [
    "qconstant_filter = VarianceThreshold(threshold=0.8)\n",
    "qconstant_filter.fit(X_train)\n",
    "\n"
   ]
  },
  {
   "cell_type": "code",
   "execution_count": 95,
   "id": "e9af45bf",
   "metadata": {},
   "outputs": [
    {
     "data": {
      "text/plain": [
       "5"
      ]
     },
     "execution_count": 95,
     "metadata": {},
     "output_type": "execute_result"
    }
   ],
   "source": [
    "len(X_train.columns[qconstant_filter.get_support()])\n"
   ]
  },
  {
   "cell_type": "code",
   "execution_count": 96,
   "id": "edf4bb89",
   "metadata": {},
   "outputs": [
    {
     "name": "stdout",
     "output_type": "stream",
     "text": [
      "1\n"
     ]
    }
   ],
   "source": [
    "qconstant_columns = [column for column in X_train.columns\n",
    "                    if column not in X_train.columns[qconstant_filter.get_support()]]\n",
    "\n",
    "print(len(qconstant_columns))"
   ]
  },
  {
   "cell_type": "code",
   "execution_count": 97,
   "id": "e4cef9e5",
   "metadata": {},
   "outputs": [
    {
     "data": {
      "text/html": [
       "<div>\n",
       "<style scoped>\n",
       "    .dataframe tbody tr th:only-of-type {\n",
       "        vertical-align: middle;\n",
       "    }\n",
       "\n",
       "    .dataframe tbody tr th {\n",
       "        vertical-align: top;\n",
       "    }\n",
       "\n",
       "    .dataframe thead th {\n",
       "        text-align: right;\n",
       "    }\n",
       "</style>\n",
       "<table border=\"1\" class=\"dataframe\">\n",
       "  <thead>\n",
       "    <tr style=\"text-align: right;\">\n",
       "      <th></th>\n",
       "      <th>business_code</th>\n",
       "      <th>cust_number</th>\n",
       "      <th>name_customer</th>\n",
       "      <th>doc_id</th>\n",
       "      <th>total_open_amount</th>\n",
       "      <th>cust_payment_terms</th>\n",
       "    </tr>\n",
       "  </thead>\n",
       "  <tbody>\n",
       "    <tr>\n",
       "      <th>0</th>\n",
       "      <td>2</td>\n",
       "      <td>711</td>\n",
       "      <td>3294</td>\n",
       "      <td>1.928542e+09</td>\n",
       "      <td>6025.73</td>\n",
       "      <td>32</td>\n",
       "    </tr>\n",
       "    <tr>\n",
       "      <th>1</th>\n",
       "      <td>2</td>\n",
       "      <td>711</td>\n",
       "      <td>3289</td>\n",
       "      <td>1.928534e+09</td>\n",
       "      <td>344.91</td>\n",
       "      <td>32</td>\n",
       "    </tr>\n",
       "    <tr>\n",
       "      <th>2</th>\n",
       "      <td>2</td>\n",
       "      <td>824</td>\n",
       "      <td>3041</td>\n",
       "      <td>1.928533e+09</td>\n",
       "      <td>12938.59</td>\n",
       "      <td>12</td>\n",
       "    </tr>\n",
       "    <tr>\n",
       "      <th>3</th>\n",
       "      <td>2</td>\n",
       "      <td>711</td>\n",
       "      <td>3289</td>\n",
       "      <td>1.928542e+09</td>\n",
       "      <td>49910.31</td>\n",
       "      <td>32</td>\n",
       "    </tr>\n",
       "    <tr>\n",
       "      <th>4</th>\n",
       "      <td>2</td>\n",
       "      <td>711</td>\n",
       "      <td>3296</td>\n",
       "      <td>1.928542e+09</td>\n",
       "      <td>67716.67</td>\n",
       "      <td>32</td>\n",
       "    </tr>\n",
       "  </tbody>\n",
       "</table>\n",
       "</div>"
      ],
      "text/plain": [
       "   business_code  cust_number  name_customer        doc_id  total_open_amount  \\\n",
       "0              2          711           3294  1.928542e+09            6025.73   \n",
       "1              2          711           3289  1.928534e+09             344.91   \n",
       "2              2          824           3041  1.928533e+09           12938.59   \n",
       "3              2          711           3289  1.928542e+09           49910.31   \n",
       "4              2          711           3296  1.928542e+09           67716.67   \n",
       "\n",
       "   cust_payment_terms  \n",
       "0                  32  \n",
       "1                  32  \n",
       "2                  12  \n",
       "3                  32  \n",
       "4                  32  "
      ]
     },
     "execution_count": 97,
     "metadata": {},
     "output_type": "execute_result"
    }
   ],
   "source": [
    "X_train.head()"
   ]
  },
  {
   "cell_type": "code",
   "execution_count": 98,
   "id": "280fb347",
   "metadata": {},
   "outputs": [
    {
     "name": "stdout",
     "output_type": "stream",
     "text": [
      "business_code\n"
     ]
    }
   ],
   "source": [
    "for column in qconstant_columns:\n",
    "    print(column)"
   ]
  },
  {
   "cell_type": "code",
   "execution_count": 99,
   "id": "3fbf6d3a",
   "metadata": {},
   "outputs": [],
   "source": [
    "X_train = qconstant_filter.transform(X_train)\n",
    "\n",
    "X_val = qconstant_filter.transform(X_val)\n",
    "X_test = qconstant_filter.transform(X_test)\n"
   ]
  },
  {
   "cell_type": "code",
   "execution_count": 100,
   "id": "2662d7e9",
   "metadata": {},
   "outputs": [],
   "source": [
    "##dropped quasi constant columns"
   ]
  },
  {
   "cell_type": "code",
   "execution_count": 101,
   "id": "b407db7d",
   "metadata": {},
   "outputs": [
    {
     "data": {
      "text/plain": [
       "<AxesSubplot:title={'center':'Pearson Correlation of Features'}>"
      ]
     },
     "execution_count": 101,
     "metadata": {},
     "output_type": "execute_result"
    },
    {
     "data": {
      "image/png": "[encoded data removed]",
      "text/plain": [
       "<Figure size 1008x864 with 2 Axes>"
      ]
     },
     "metadata": {
      "needs_background": "light"
     },
     "output_type": "display_data"
    }
   ],
   "source": [
    "#Feature Selection\n",
    "\n",
    "#corrmat = X_train.merge(y_train , on = X_train.index).corr()\n",
    "# plt.subplots(figsize=(12,9))\n",
    "# sns.heatmap(corrmat, vmax=0.9, square=True)\n",
    "\n",
    "\n",
    "colormap = plt.cm.RdBu\n",
    "plt.figure(figsize=(14,12))\n",
    "plt.title('Pearson Correlation of Features', y=1.05, size=15)\n",
    "sns.heatmap(aaa,linewidths=0.1,vmax=1.0, \n",
    "            square=True, cmap=colormap, linecolor='white', annot=True)"
   ]
  },
  {
   "cell_type": "code",
   "execution_count": 102,
   "id": "d3dd5516",
   "metadata": {},
   "outputs": [
    {
     "data": {
      "text/plain": [
       "array([3.62760051e-01, 1.21500000e+03, 3.39700000e+03, 1.03208325e+09,\n",
       "       1.67345587e+06, 6.30000000e+01, 0.00000000e+00])"
      ]
     },
     "execution_count": 102,
     "metadata": {},
     "output_type": "execute_result"
    }
   ],
   "source": [
    "sel.variances_"
   ]
  },
  {
   "cell_type": "markdown",
   "id": "bf859d61",
   "metadata": {},
   "source": [
    "## Modelling"
   ]
  },
  {
   "cell_type": "code",
   "execution_count": 103,
   "id": "8cdb08fb",
   "metadata": {},
   "outputs": [
    {
     "data": {
      "text/plain": [
       "LinearRegression()"
      ]
     },
     "execution_count": 103,
     "metadata": {},
     "output_type": "execute_result"
    }
   ],
   "source": [
    "\n",
    "from sklearn.linear_model import LinearRegression\n",
    "base_model = LinearRegression()\n",
    "base_model.fit(X_train, y_train)"
   ]
  },
  {
   "cell_type": "code",
   "execution_count": 104,
   "id": "206e7dae",
   "metadata": {},
   "outputs": [],
   "source": [
    "y_predict = base_model.predict(X_val)"
   ]
  },
  {
   "cell_type": "code",
   "execution_count": 105,
   "id": "7a667807",
   "metadata": {},
   "outputs": [
    {
     "data": {
      "text/plain": [
       "7.504160400180648"
      ]
     },
     "execution_count": 105,
     "metadata": {},
     "output_type": "execute_result"
    }
   ],
   "source": [
    "from sklearn.metrics import mean_squared_error\n",
    "\n",
    "mean_squared_error(y_val, y_predict, squared=False)"
   ]
  },
  {
   "cell_type": "code",
   "execution_count": 106,
   "id": "8e8eeac3",
   "metadata": {},
   "outputs": [
    {
     "data": {
      "text/plain": [
       "0.07027746551251024"
      ]
     },
     "execution_count": 106,
     "metadata": {},
     "output_type": "execute_result"
    }
   ],
   "source": [
    "base_model.score(X_train,y_train)"
   ]
  },
  {
   "cell_type": "code",
   "execution_count": 107,
   "id": "6df9bdfd",
   "metadata": {},
   "outputs": [
    {
     "data": {
      "text/plain": [
       "array([ 9.28111328e-03, -5.52523790e-04,  1.18631995e-08, -4.60843757e-06,\n",
       "        1.46239369e-01])"
      ]
     },
     "execution_count": 107,
     "metadata": {},
     "output_type": "execute_result"
    }
   ],
   "source": [
    "base_model.coef_"
   ]
  },
  {
   "cell_type": "code",
   "execution_count": 108,
   "id": "1e73417c",
   "metadata": {},
   "outputs": [],
   "source": [
    "met = pd.DataFrame(zip(y_predict , y_test),columns=['Predicted','Actuals'])"
   ]
  },
  {
   "cell_type": "code",
   "execution_count": 109,
   "id": "a6c2ceba",
   "metadata": {},
   "outputs": [
    {
     "data": {
      "text/plain": [
       "inf"
      ]
     },
     "execution_count": 109,
     "metadata": {},
     "output_type": "execute_result"
    }
   ],
   "source": [
    "(abs(met.Predicted-met.Actuals)/met.Actuals).mean()"
   ]
  },
  {
   "cell_type": "code",
   "execution_count": 110,
   "id": "be5eb5e6",
   "metadata": {},
   "outputs": [],
   "source": [
    "from sklearn.tree import DecisionTreeRegressor\n",
    "regressor = DecisionTreeRegressor(random_state=0 , max_depth=5,splitter='best')"
   ]
  },
  {
   "cell_type": "code",
   "execution_count": 111,
   "id": "612c2290",
   "metadata": {},
   "outputs": [
    {
     "data": {
      "text/plain": [
       "DecisionTreeRegressor(max_depth=5, random_state=0)"
      ]
     },
     "execution_count": 111,
     "metadata": {},
     "output_type": "execute_result"
    }
   ],
   "source": [
    "regressor.fit(X_train, y_train)"
   ]
  },
  {
   "cell_type": "code",
   "execution_count": 112,
   "id": "8093b941",
   "metadata": {},
   "outputs": [],
   "source": [
    "y_predict2 = regressor.predict(X_val)"
   ]
  },
  {
   "cell_type": "code",
   "execution_count": 113,
   "id": "784a6284",
   "metadata": {},
   "outputs": [
    {
     "data": {
      "text/plain": [
       "8.191245636068057"
      ]
     },
     "execution_count": 113,
     "metadata": {},
     "output_type": "execute_result"
    }
   ],
   "source": [
    "mean_squared_error(y_val, y_predict2, squared=False)"
   ]
  },
  {
   "cell_type": "code",
   "execution_count": 114,
   "id": "18581328",
   "metadata": {},
   "outputs": [
    {
     "data": {
      "text/plain": [
       "-0.188749336322505"
      ]
     },
     "execution_count": 114,
     "metadata": {},
     "output_type": "execute_result"
    }
   ],
   "source": [
    "regressor.score(X_test,y_test)"
   ]
  },
  {
   "cell_type": "code",
   "execution_count": 115,
   "id": "1663536d",
   "metadata": {},
   "outputs": [
    {
     "data": {
      "text/plain": [
       "10.877069464426603"
      ]
     },
     "execution_count": 115,
     "metadata": {},
     "output_type": "execute_result"
    }
   ],
   "source": [
    "y_predict_test = regressor.predict(X_test)\n",
    "mean_squared_error(y_test, y_predict_test, squared=False)"
   ]
  },
  {
   "cell_type": "code",
   "execution_count": 116,
   "id": "e941dda2",
   "metadata": {},
   "outputs": [
    {
     "data": {
      "text/plain": [
       "-0.4220878495999072"
      ]
     },
     "execution_count": 116,
     "metadata": {},
     "output_type": "execute_result"
    }
   ],
   "source": [
    "regressor.score(X_val,y_val)"
   ]
  },
  {
   "cell_type": "code",
   "execution_count": 117,
   "id": "5a478563",
   "metadata": {},
   "outputs": [
    {
     "data": {
      "text/plain": [
       "8.191245636068057"
      ]
     },
     "execution_count": 117,
     "metadata": {},
     "output_type": "execute_result"
    }
   ],
   "source": [
    "mean_squared_error(y_val, y_predict2, squared=False)"
   ]
  },
  {
   "cell_type": "code",
   "execution_count": 118,
   "id": "87cf3513",
   "metadata": {},
   "outputs": [
    {
     "data": {
      "text/plain": [
       "10.877069464426603"
      ]
     },
     "execution_count": 118,
     "metadata": {},
     "output_type": "execute_result"
    }
   ],
   "source": [
    "y_predict_test = regressor.predict(X_test)\n",
    "mean_squared_error(y_test, y_predict_test, squared=False)"
   ]
  },
  {
   "cell_type": "markdown",
   "id": "295dc38f",
   "metadata": {},
   "source": [
    "## Main Test"
   ]
  },
  {
   "cell_type": "code",
   "execution_count": 119,
   "id": "34c65cdd",
   "metadata": {},
   "outputs": [],
   "source": [
    "### Do all pre processing , feature engineering and feature seection procedure on main test data"
   ]
  },
  {
   "cell_type": "code",
   "execution_count": 120,
   "id": "a095a6ef",
   "metadata": {},
   "outputs": [],
   "source": [
    "dftt=test"
   ]
  },
  {
   "cell_type": "code",
   "execution_count": 121,
   "id": "f159bf8e",
   "metadata": {
    "scrolled": true
   },
   "outputs": [
    {
     "data": {
      "text/plain": [
       "business_code                 0\n",
       "cust_number                   0\n",
       "name_customer                 0\n",
       "clear_date                10000\n",
       "buisness_year                 0\n",
       "doc_id                        0\n",
       "posting_date                  0\n",
       "document_create_date          0\n",
       "document_create_date.1        0\n",
       "due_in_date                   0\n",
       "invoice_currency              0\n",
       "document type                 0\n",
       "posting_id                    0\n",
       "area_business             10000\n",
       "total_open_amount             0\n",
       "baseline_create_date          0\n",
       "cust_payment_terms            0\n",
       "invoice_id                    0\n",
       "isOpen                        0\n",
       "dtype: int64"
      ]
     },
     "execution_count": 121,
     "metadata": {},
     "output_type": "execute_result"
    }
   ],
   "source": [
    "dftt.isna().sum()"
   ]
  },
  {
   "cell_type": "code",
   "execution_count": 122,
   "id": "c96667d3",
   "metadata": {},
   "outputs": [
    {
     "name": "stderr",
     "output_type": "stream",
     "text": [
      "<ipython-input-122-8e8d03e71413>:1: SettingWithCopyWarning: \n",
      "A value is trying to be set on a copy of a slice from a DataFrame\n",
      "\n",
      "See the caveats in the documentation: https://pandas.pydata.org/pandas-docs/stable/user_guide/indexing.html#returning-a-view-versus-a-copy\n",
      "  dftt.dropna(how='all',axis=1,inplace=True)\n"
     ]
    }
   ],
   "source": [
    "dftt.dropna(how='all',axis=1,inplace=True)"
   ]
  },
  {
   "cell_type": "code",
   "execution_count": 123,
   "id": "7a8209e3",
   "metadata": {},
   "outputs": [
    {
     "name": "stderr",
     "output_type": "stream",
     "text": [
      "c:\\users\\zaid\\appdata\\local\\programs\\python\\python39\\lib\\site-packages\\pandas\\core\\indexing.py:1676: SettingWithCopyWarning: \n",
      "A value is trying to be set on a copy of a slice from a DataFrame.\n",
      "Try using .loc[row_indexer,col_indexer] = value instead\n",
      "\n",
      "See the caveats in the documentation: https://pandas.pydata.org/pandas-docs/stable/user_guide/indexing.html#returning-a-view-versus-a-copy\n",
      "  self._setitem_single_column(ilocs[0], value, pi)\n"
     ]
    }
   ],
   "source": [
    "dftt.loc[dftt['invoice_currency']=='CAD','total_open_amount']=dftt['total_open_amount']*1.23"
   ]
  },
  {
   "cell_type": "code",
   "execution_count": 124,
   "id": "e369c1c3",
   "metadata": {},
   "outputs": [],
   "source": [
    "dftt=dftt.drop(['document type','isOpen','posting_id'],axis=1)"
   ]
  },
  {
   "cell_type": "code",
   "execution_count": 125,
   "id": "50285c1b",
   "metadata": {},
   "outputs": [],
   "source": [
    "dftt.business_code=np.where(dftt.business_code.isin(['U005','U007']),'Others',dftt.business_code)"
   ]
  },
  {
   "cell_type": "code",
   "execution_count": 126,
   "id": "524c4293",
   "metadata": {},
   "outputs": [],
   "source": [
    "dftt.sort_values(by=['posting_date'],inplace=True)\n",
    "dftt.reset_index(drop=True,inplace=True)"
   ]
  },
  {
   "cell_type": "code",
   "execution_count": 127,
   "id": "f33870f3",
   "metadata": {},
   "outputs": [
    {
     "data": {
      "text/plain": [
       "['buisness_year']"
      ]
     },
     "execution_count": 127,
     "metadata": {},
     "output_type": "execute_result"
    }
   ],
   "source": [
    "const_features = [cols for cols in dftt.columns if len(list(dftt[cols].unique())) == 1]\n",
    "const_features"
   ]
  },
  {
   "cell_type": "code",
   "execution_count": 128,
   "id": "5cd7bb67",
   "metadata": {},
   "outputs": [],
   "source": [
    "dftt=dftt.drop(const_features,axis=1)\n"
   ]
  },
  {
   "cell_type": "code",
   "execution_count": 129,
   "id": "9037aef1",
   "metadata": {},
   "outputs": [],
   "source": [
    "# LABEL ENCODING \n",
    "\n",
    "label_encoder = LabelEncoder()\n",
    "dftt['business_code'] = label_encoder.fit_transform(dftt['business_code'])\n",
    "dftt['cust_number'] = label_encoder.fit_transform(dftt['cust_number'])\n",
    "dftt['name_customer'] = label_encoder.fit_transform(dftt['name_customer'])\n",
    "dftt['cust_payment_terms'] = label_encoder.fit_transform(dftt['cust_payment_terms'])"
   ]
  },
  {
   "cell_type": "code",
   "execution_count": 130,
   "id": "5e13a404",
   "metadata": {},
   "outputs": [],
   "source": [
    "dftt.posting_date=pd.to_datetime(dftt.posting_date)\n",
    "dftt.document_create_date=pd.to_datetime(dftt.document_create_date)\n",
    "dftt['document_create_date.1']=pd.to_datetime(dftt['document_create_date.1'])\n"
   ]
  },
  {
   "cell_type": "code",
   "execution_count": 131,
   "id": "d6a33e65",
   "metadata": {},
   "outputs": [],
   "source": [
    "dftt['posting_date_year'] = dftt['posting_date'].dt.year\n",
    "dftt['posting_date_dayofweek'] = dftt['posting_date'].dt.dayofweek\n",
    "dftt['posting_date_month'] = dftt['posting_date'].dt.month\n",
    "dftt['posting_date_day'] = dftt['posting_date'].dt.day\n",
    "dftt['posting_date_quarter'] = dftt['posting_date'].dt.quarter"
   ]
  },
  {
   "cell_type": "code",
   "execution_count": 132,
   "id": "31471d46",
   "metadata": {},
   "outputs": [],
   "source": [
    "dftt=dftt.drop(['posting_date'],axis=1)"
   ]
  },
  {
   "cell_type": "code",
   "execution_count": 133,
   "id": "023ef7b4",
   "metadata": {},
   "outputs": [],
   "source": [
    "dftt['document_create_date_year'] = dftt['document_create_date'].dt.year\n",
    "dftt['document_create_date_dayofweek'] = dftt['document_create_date'].dt.dayofweek\n",
    "dftt['document_create_date_month'] = dftt['document_create_date'].dt.month\n",
    "dftt['document_create_date_day'] = dftt['document_create_date'].dt.day\n",
    "dftt['document_create_date_quarter'] = dftt['document_create_date'].dt.quarter"
   ]
  },
  {
   "cell_type": "code",
   "execution_count": 134,
   "id": "d9d9bba4",
   "metadata": {},
   "outputs": [],
   "source": [
    "dftt=dftt.drop(['document_create_date'],axis=1)"
   ]
  },
  {
   "cell_type": "code",
   "execution_count": 135,
   "id": "9e967359",
   "metadata": {},
   "outputs": [],
   "source": [
    "dftt['document_create_date1_year'] = dftt['document_create_date.1'].dt.year\n",
    "dftt['document_create_date1_dayofweek'] = dftt['document_create_date.1'].dt.dayofweek\n",
    "dftt['document_create_date1_month'] = dftt['document_create_date.1'].dt.month\n",
    "dftt['document_create_date1_day'] = dftt['document_create_date.1'].dt.day\n",
    "dftt['document_create_date1_quarter'] = dftt['document_create_date.1'].dt.quarter"
   ]
  },
  {
   "cell_type": "code",
   "execution_count": 136,
   "id": "d9ec5c05",
   "metadata": {},
   "outputs": [],
   "source": [
    "dftt=dftt.drop(['document_create_date.1'],axis=1)"
   ]
  },
  {
   "cell_type": "code",
   "execution_count": 137,
   "id": "d47e35e1",
   "metadata": {},
   "outputs": [],
   "source": [
    "dftt.baseline_create_date=pd.to_datetime(dftt.baseline_create_date)\n",
    "dftt.due_in_date=pd.to_datetime(dftt.due_in_date)\n"
   ]
  },
  {
   "cell_type": "code",
   "execution_count": 138,
   "id": "33066d3c",
   "metadata": {},
   "outputs": [],
   "source": [
    "dftt['baseline_create_date_year'] = dftt['baseline_create_date'].dt.year\n",
    "dftt['baseline_create_date_dayofweek'] = dftt['baseline_create_date'].dt.dayofweek\n",
    "dftt['baseline_create_date_month'] = dftt['baseline_create_date'].dt.month\n",
    "dftt['baseline_create_date_day'] = dftt['baseline_create_date'].dt.day\n",
    "dftt['baseline_create_date_quarter'] = dftt['baseline_create_date'].dt.quarter\n",
    "\n",
    "dftt['due_in_date_year'] = dftt['due_in_date'].dt.year\n",
    "dftt['due_in_date_dayofweek'] = dftt['due_in_date'].dt.dayofweek\n",
    "dftt['due_in_date_month'] = dftt['due_in_date'].dt.month\n",
    "dftt['due_in_date_day'] = dftt['due_in_date'].dt.day\n",
    "dftt['due_in_date_quarter'] = dftt['due_in_date'].dt.quarter"
   ]
  },
  {
   "cell_type": "code",
   "execution_count": 139,
   "id": "2ca0e13c",
   "metadata": {},
   "outputs": [],
   "source": [
    "dftt=dftt.drop(['baseline_create_date','due_in_date'],axis=1)"
   ]
  },
  {
   "cell_type": "code",
   "execution_count": 140,
   "id": "d7b94259",
   "metadata": {},
   "outputs": [],
   "source": [
    "dftt=dftt.drop(['baseline_create_date_day','document_create_date_day','document_create_date_dayofweek','document_create_date_month','document_create_date_day'\n",
    "             ,'document_create_date_quarter','document_create_date1_year','document_create_date1_dayofweek','document_create_date1_month'\n",
    "              ,'document_create_date1_day','document_create_date1_quarter','baseline_create_date_year'],axis=1)"
   ]
  },
  {
   "cell_type": "code",
   "execution_count": 141,
   "id": "2b2f16da",
   "metadata": {},
   "outputs": [],
   "source": [
    "dftt=dftt.drop(['baseline_create_date_dayofweek','baseline_create_date_month','baseline_create_date_quarter'],axis=1)"
   ]
  },
  {
   "cell_type": "code",
   "execution_count": 142,
   "id": "89ed96db",
   "metadata": {},
   "outputs": [],
   "source": [
    "dftt=dftt.drop(['posting_date_year','posting_date_dayofweek'\n",
    "                 ,'posting_date_month','posting_date_day','posting_date_quarter'],axis=1)"
   ]
  },
  {
   "cell_type": "code",
   "execution_count": 143,
   "id": "4b4cd848",
   "metadata": {},
   "outputs": [],
   "source": [
    "dftt=dftt.drop(['invoice_currency','invoice_id'],axis=1)"
   ]
  },
  {
   "cell_type": "code",
   "execution_count": 144,
   "id": "96a2da1c",
   "metadata": {},
   "outputs": [
    {
     "data": {
      "text/plain": [
       "business_code                  int32\n",
       "cust_number                    int32\n",
       "name_customer                  int32\n",
       "doc_id                       float64\n",
       "total_open_amount            float64\n",
       "cust_payment_terms             int32\n",
       "document_create_date_year      int64\n",
       "due_in_date_year               int64\n",
       "due_in_date_dayofweek          int64\n",
       "due_in_date_month              int64\n",
       "due_in_date_day                int64\n",
       "due_in_date_quarter            int64\n",
       "dtype: object"
      ]
     },
     "execution_count": 144,
     "metadata": {},
     "output_type": "execute_result"
    }
   ],
   "source": [
    "dftt.dtypes"
   ]
  },
  {
   "cell_type": "code",
   "execution_count": 145,
   "id": "2c61d8e2",
   "metadata": {},
   "outputs": [],
   "source": [
    "constant_filter = VarianceThreshold(threshold=0)\n",
    "constant_filter.fit(dftt)\n",
    "\n",
    "len(dftt.columns[constant_filter.get_support()])\n",
    "\n",
    "constant_columns = [column for column in dftt.columns\n",
    "                    if column not in dftt.columns[constant_filter.get_support()]]\n",
    "\n",
    "dftt.drop(labels=constant_columns, axis=1, inplace=True)"
   ]
  },
  {
   "cell_type": "code",
   "execution_count": 146,
   "id": "2234967c",
   "metadata": {},
   "outputs": [
    {
     "data": {
      "text/plain": [
       "business_code           int32\n",
       "cust_number             int32\n",
       "name_customer           int32\n",
       "doc_id                float64\n",
       "total_open_amount     float64\n",
       "cust_payment_terms      int32\n",
       "dtype: object"
      ]
     },
     "execution_count": 146,
     "metadata": {},
     "output_type": "execute_result"
    }
   ],
   "source": [
    "dftt.dtypes"
   ]
  },
  {
   "cell_type": "code",
   "execution_count": null,
   "id": "ccebf940",
   "metadata": {},
   "outputs": [],
   "source": []
  },
  {
   "cell_type": "code",
   "execution_count": null,
   "id": "de4d3d5c",
   "metadata": {},
   "outputs": [],
   "source": []
  },
  {
   "cell_type": "code",
   "execution_count": null,
   "id": "46136626",
   "metadata": {},
   "outputs": [],
   "source": []
  },
  {
   "cell_type": "code",
   "execution_count": 147,
   "id": "a7c1ae97",
   "metadata": {
    "scrolled": true
   },
   "outputs": [
    {
     "data": {
      "text/plain": [
       "Index(['business_code', 'cust_number', 'name_customer', 'doc_id',\n",
       "       'total_open_amount', 'cust_payment_terms'],\n",
       "      dtype='object')"
      ]
     },
     "execution_count": 147,
     "metadata": {},
     "output_type": "execute_result"
    }
   ],
   "source": [
    "dftt.columns"
   ]
  },
  {
   "cell_type": "code",
   "execution_count": 148,
   "id": "2f522e65",
   "metadata": {},
   "outputs": [],
   "source": [
    "dftt=dftt.drop(['business_code'],axis=1)"
   ]
  },
  {
   "cell_type": "code",
   "execution_count": 149,
   "id": "1bbc1c1b",
   "metadata": {},
   "outputs": [
    {
     "data": {
      "text/plain": [
       "(10000, 17)"
      ]
     },
     "execution_count": 149,
     "metadata": {},
     "output_type": "execute_result"
    }
   ],
   "source": [
    "test.shape"
   ]
  },
  {
   "cell_type": "markdown",
   "id": "52321adf",
   "metadata": {},
   "source": [
    "## Final test data model"
   ]
  },
  {
   "cell_type": "markdown",
   "id": "70846f7a",
   "metadata": {},
   "source": [
    "### using decision tree regressor"
   ]
  },
  {
   "cell_type": "code",
   "execution_count": 150,
   "id": "96e76dd4",
   "metadata": {},
   "outputs": [],
   "source": [
    "final=DecisionTreeRegressor()"
   ]
  },
  {
   "cell_type": "code",
   "execution_count": 151,
   "id": "b044163a",
   "metadata": {},
   "outputs": [
    {
     "data": {
      "text/plain": [
       "DecisionTreeRegressor()"
      ]
     },
     "execution_count": 151,
     "metadata": {},
     "output_type": "execute_result"
    }
   ],
   "source": [
    "final.fit(X_train,y_train)"
   ]
  },
  {
   "cell_type": "code",
   "execution_count": 152,
   "id": "cf8880aa",
   "metadata": {},
   "outputs": [],
   "source": [
    "finala = final.predict(dftt)"
   ]
  },
  {
   "cell_type": "code",
   "execution_count": 153,
   "id": "d0179720",
   "metadata": {},
   "outputs": [],
   "source": [
    "finala = np.round(pd.Series(finala,name='Delay'))"
   ]
  },
  {
   "cell_type": "code",
   "execution_count": 154,
   "id": "4b7c82d8",
   "metadata": {},
   "outputs": [],
   "source": [
    "predicted_delay_days=pd.to_timedelta(finala,unit='D')"
   ]
  },
  {
   "cell_type": "code",
   "execution_count": 155,
   "id": "3a89cbdb",
   "metadata": {},
   "outputs": [
    {
     "name": "stderr",
     "output_type": "stream",
     "text": [
      "<ipython-input-155-408afd1f37fb>:1: SettingWithCopyWarning: \n",
      "A value is trying to be set on a copy of a slice from a DataFrame.\n",
      "Try using .loc[row_indexer,col_indexer] = value instead\n",
      "\n",
      "See the caveats in the documentation: https://pandas.pydata.org/pandas-docs/stable/user_guide/indexing.html#returning-a-view-versus-a-copy\n",
      "  test['due_in_date'] = pd.to_datetime(test['due_in_date'],format='%Y%m%d')\n"
     ]
    }
   ],
   "source": [
    "test['due_in_date'] = pd.to_datetime(test['due_in_date'],format='%Y%m%d')\n"
   ]
  },
  {
   "cell_type": "code",
   "execution_count": 156,
   "id": "e37c75bb",
   "metadata": {
    "scrolled": true
   },
   "outputs": [
    {
     "data": {
      "text/html": [
       "<div>\n",
       "<style scoped>\n",
       "    .dataframe tbody tr th:only-of-type {\n",
       "        vertical-align: middle;\n",
       "    }\n",
       "\n",
       "    .dataframe tbody tr th {\n",
       "        vertical-align: top;\n",
       "    }\n",
       "\n",
       "    .dataframe thead th {\n",
       "        text-align: right;\n",
       "    }\n",
       "</style>\n",
       "<table border=\"1\" class=\"dataframe\">\n",
       "  <thead>\n",
       "    <tr style=\"text-align: right;\">\n",
       "      <th></th>\n",
       "      <th>key_0</th>\n",
       "      <th>business_code</th>\n",
       "      <th>cust_number</th>\n",
       "      <th>name_customer</th>\n",
       "      <th>buisness_year</th>\n",
       "      <th>doc_id</th>\n",
       "      <th>posting_date</th>\n",
       "      <th>document_create_date</th>\n",
       "      <th>document_create_date.1</th>\n",
       "      <th>due_in_date</th>\n",
       "      <th>invoice_currency</th>\n",
       "      <th>document type</th>\n",
       "      <th>posting_id</th>\n",
       "      <th>total_open_amount</th>\n",
       "      <th>baseline_create_date</th>\n",
       "      <th>cust_payment_terms</th>\n",
       "      <th>invoice_id</th>\n",
       "      <th>isOpen</th>\n",
       "      <th>Delay</th>\n",
       "    </tr>\n",
       "  </thead>\n",
       "  <tbody>\n",
       "    <tr>\n",
       "      <th>0</th>\n",
       "      <td>0</td>\n",
       "      <td>U001</td>\n",
       "      <td>200706844</td>\n",
       "      <td>WINC corporation</td>\n",
       "      <td>2020.0</td>\n",
       "      <td>1.930830e+09</td>\n",
       "      <td>2020-04-29</td>\n",
       "      <td>20200427</td>\n",
       "      <td>20200429</td>\n",
       "      <td>2020-05-14</td>\n",
       "      <td>USD</td>\n",
       "      <td>RV</td>\n",
       "      <td>1.0</td>\n",
       "      <td>1891.0100</td>\n",
       "      <td>20200429.0</td>\n",
       "      <td>NAA8</td>\n",
       "      <td>1.930830e+09</td>\n",
       "      <td>1</td>\n",
       "      <td>15.0</td>\n",
       "    </tr>\n",
       "    <tr>\n",
       "      <th>1</th>\n",
       "      <td>1</td>\n",
       "      <td>U001</td>\n",
       "      <td>0200729290</td>\n",
       "      <td>KROGER us</td>\n",
       "      <td>2020.0</td>\n",
       "      <td>1.930840e+09</td>\n",
       "      <td>2020-05-01</td>\n",
       "      <td>20200430</td>\n",
       "      <td>20200501</td>\n",
       "      <td>2020-05-16</td>\n",
       "      <td>USD</td>\n",
       "      <td>RV</td>\n",
       "      <td>1.0</td>\n",
       "      <td>34880.5000</td>\n",
       "      <td>20200501.0</td>\n",
       "      <td>NAA8</td>\n",
       "      <td>1.930840e+09</td>\n",
       "      <td>1</td>\n",
       "      <td>1.0</td>\n",
       "    </tr>\n",
       "    <tr>\n",
       "      <th>2</th>\n",
       "      <td>2</td>\n",
       "      <td>U001</td>\n",
       "      <td>0200799538</td>\n",
       "      <td>UNITE foundation</td>\n",
       "      <td>2020.0</td>\n",
       "      <td>1.930652e+09</td>\n",
       "      <td>2020-03-14</td>\n",
       "      <td>20200314</td>\n",
       "      <td>20200314</td>\n",
       "      <td>2020-03-29</td>\n",
       "      <td>USD</td>\n",
       "      <td>RV</td>\n",
       "      <td>1.0</td>\n",
       "      <td>84476.3300</td>\n",
       "      <td>20200314.0</td>\n",
       "      <td>NAA8</td>\n",
       "      <td>1.930652e+09</td>\n",
       "      <td>1</td>\n",
       "      <td>8.0</td>\n",
       "    </tr>\n",
       "    <tr>\n",
       "      <th>3</th>\n",
       "      <td>3</td>\n",
       "      <td>U001</td>\n",
       "      <td>0200714710</td>\n",
       "      <td>SYSCO  corp</td>\n",
       "      <td>2020.0</td>\n",
       "      <td>1.930622e+09</td>\n",
       "      <td>2020-03-09</td>\n",
       "      <td>20200307</td>\n",
       "      <td>20200309</td>\n",
       "      <td>2020-04-10</td>\n",
       "      <td>USD</td>\n",
       "      <td>RV</td>\n",
       "      <td>1.0</td>\n",
       "      <td>32378.8600</td>\n",
       "      <td>20200309.0</td>\n",
       "      <td>NA32</td>\n",
       "      <td>1.930622e+09</td>\n",
       "      <td>1</td>\n",
       "      <td>1.0</td>\n",
       "    </tr>\n",
       "    <tr>\n",
       "      <th>4</th>\n",
       "      <td>4</td>\n",
       "      <td>U001</td>\n",
       "      <td>0100012707</td>\n",
       "      <td>IR associates</td>\n",
       "      <td>2020.0</td>\n",
       "      <td>1.930714e+09</td>\n",
       "      <td>2020-03-27</td>\n",
       "      <td>20200327</td>\n",
       "      <td>20200327</td>\n",
       "      <td>2020-04-26</td>\n",
       "      <td>USD</td>\n",
       "      <td>RV</td>\n",
       "      <td>1.0</td>\n",
       "      <td>1020.0000</td>\n",
       "      <td>20200327.0</td>\n",
       "      <td>NAD5</td>\n",
       "      <td>1.930714e+09</td>\n",
       "      <td>1</td>\n",
       "      <td>1.0</td>\n",
       "    </tr>\n",
       "    <tr>\n",
       "      <th>...</th>\n",
       "      <td>...</td>\n",
       "      <td>...</td>\n",
       "      <td>...</td>\n",
       "      <td>...</td>\n",
       "      <td>...</td>\n",
       "      <td>...</td>\n",
       "      <td>...</td>\n",
       "      <td>...</td>\n",
       "      <td>...</td>\n",
       "      <td>...</td>\n",
       "      <td>...</td>\n",
       "      <td>...</td>\n",
       "      <td>...</td>\n",
       "      <td>...</td>\n",
       "      <td>...</td>\n",
       "      <td>...</td>\n",
       "      <td>...</td>\n",
       "      <td>...</td>\n",
       "      <td>...</td>\n",
       "    </tr>\n",
       "    <tr>\n",
       "      <th>9995</th>\n",
       "      <td>9995</td>\n",
       "      <td>U002</td>\n",
       "      <td>0200978592</td>\n",
       "      <td>PLAZA in</td>\n",
       "      <td>2020.0</td>\n",
       "      <td>1.990571e+09</td>\n",
       "      <td>2020-03-11</td>\n",
       "      <td>20200309</td>\n",
       "      <td>20200311</td>\n",
       "      <td>2020-04-15</td>\n",
       "      <td>USD</td>\n",
       "      <td>RV</td>\n",
       "      <td>1.0</td>\n",
       "      <td>66950.6300</td>\n",
       "      <td>20200311.0</td>\n",
       "      <td>NAG2</td>\n",
       "      <td>1.990571e+09</td>\n",
       "      <td>1</td>\n",
       "      <td>1.0</td>\n",
       "    </tr>\n",
       "    <tr>\n",
       "      <th>9996</th>\n",
       "      <td>9996</td>\n",
       "      <td>CA02</td>\n",
       "      <td>0140105847</td>\n",
       "      <td>GORDON F foundation</td>\n",
       "      <td>2020.0</td>\n",
       "      <td>2.960617e+09</td>\n",
       "      <td>2020-03-03</td>\n",
       "      <td>20200303</td>\n",
       "      <td>20200303</td>\n",
       "      <td>2020-03-21</td>\n",
       "      <td>CAD</td>\n",
       "      <td>RV</td>\n",
       "      <td>1.0</td>\n",
       "      <td>97346.9478</td>\n",
       "      <td>20200311.0</td>\n",
       "      <td>CA10</td>\n",
       "      <td>2.960617e+09</td>\n",
       "      <td>1</td>\n",
       "      <td>5.0</td>\n",
       "    </tr>\n",
       "    <tr>\n",
       "      <th>9997</th>\n",
       "      <td>9997</td>\n",
       "      <td>U001</td>\n",
       "      <td>0200416837</td>\n",
       "      <td>DEC systems</td>\n",
       "      <td>2020.0</td>\n",
       "      <td>1.930617e+09</td>\n",
       "      <td>2020-03-07</td>\n",
       "      <td>20200307</td>\n",
       "      <td>20200307</td>\n",
       "      <td>2020-03-08</td>\n",
       "      <td>USD</td>\n",
       "      <td>RV</td>\n",
       "      <td>1.0</td>\n",
       "      <td>2291.8300</td>\n",
       "      <td>20200301.0</td>\n",
       "      <td>NAM1</td>\n",
       "      <td>1.930617e+09</td>\n",
       "      <td>1</td>\n",
       "      <td>4.0</td>\n",
       "    </tr>\n",
       "    <tr>\n",
       "      <th>9998</th>\n",
       "      <td>9998</td>\n",
       "      <td>U001</td>\n",
       "      <td>0200769623</td>\n",
       "      <td>WAL-MAR us</td>\n",
       "      <td>2020.0</td>\n",
       "      <td>1.930652e+09</td>\n",
       "      <td>2020-03-14</td>\n",
       "      <td>20200313</td>\n",
       "      <td>20200314</td>\n",
       "      <td>2020-03-29</td>\n",
       "      <td>USD</td>\n",
       "      <td>RV</td>\n",
       "      <td>1.0</td>\n",
       "      <td>57403.2000</td>\n",
       "      <td>20200314.0</td>\n",
       "      <td>NAH4</td>\n",
       "      <td>1.930652e+09</td>\n",
       "      <td>1</td>\n",
       "      <td>5.0</td>\n",
       "    </tr>\n",
       "    <tr>\n",
       "      <th>9999</th>\n",
       "      <td>9999</td>\n",
       "      <td>U001</td>\n",
       "      <td>0100000051</td>\n",
       "      <td>GREE llc</td>\n",
       "      <td>2020.0</td>\n",
       "      <td>1.930733e+09</td>\n",
       "      <td>2020-04-02</td>\n",
       "      <td>20200402</td>\n",
       "      <td>20200402</td>\n",
       "      <td>2020-05-02</td>\n",
       "      <td>USD</td>\n",
       "      <td>RV</td>\n",
       "      <td>1.0</td>\n",
       "      <td>49469.1800</td>\n",
       "      <td>20200402.0</td>\n",
       "      <td>NAD5</td>\n",
       "      <td>1.930733e+09</td>\n",
       "      <td>1</td>\n",
       "      <td>0.0</td>\n",
       "    </tr>\n",
       "  </tbody>\n",
       "</table>\n",
       "<p>10000 rows × 19 columns</p>\n",
       "</div>"
      ],
      "text/plain": [
       "      key_0 business_code cust_number        name_customer  buisness_year  \\\n",
       "0         0          U001   200706844     WINC corporation         2020.0   \n",
       "1         1          U001  0200729290            KROGER us         2020.0   \n",
       "2         2          U001  0200799538     UNITE foundation         2020.0   \n",
       "3         3          U001  0200714710          SYSCO  corp         2020.0   \n",
       "4         4          U001  0100012707        IR associates         2020.0   \n",
       "...     ...           ...         ...                  ...            ...   \n",
       "9995   9995          U002  0200978592             PLAZA in         2020.0   \n",
       "9996   9996          CA02  0140105847  GORDON F foundation         2020.0   \n",
       "9997   9997          U001  0200416837          DEC systems         2020.0   \n",
       "9998   9998          U001  0200769623           WAL-MAR us         2020.0   \n",
       "9999   9999          U001  0100000051             GREE llc         2020.0   \n",
       "\n",
       "            doc_id posting_date  document_create_date  document_create_date.1  \\\n",
       "0     1.930830e+09   2020-04-29              20200427                20200429   \n",
       "1     1.930840e+09   2020-05-01              20200430                20200501   \n",
       "2     1.930652e+09   2020-03-14              20200314                20200314   \n",
       "3     1.930622e+09   2020-03-09              20200307                20200309   \n",
       "4     1.930714e+09   2020-03-27              20200327                20200327   \n",
       "...            ...          ...                   ...                     ...   \n",
       "9995  1.990571e+09   2020-03-11              20200309                20200311   \n",
       "9996  2.960617e+09   2020-03-03              20200303                20200303   \n",
       "9997  1.930617e+09   2020-03-07              20200307                20200307   \n",
       "9998  1.930652e+09   2020-03-14              20200313                20200314   \n",
       "9999  1.930733e+09   2020-04-02              20200402                20200402   \n",
       "\n",
       "     due_in_date invoice_currency document type  posting_id  \\\n",
       "0     2020-05-14              USD            RV         1.0   \n",
       "1     2020-05-16              USD            RV         1.0   \n",
       "2     2020-03-29              USD            RV         1.0   \n",
       "3     2020-04-10              USD            RV         1.0   \n",
       "4     2020-04-26              USD            RV         1.0   \n",
       "...          ...              ...           ...         ...   \n",
       "9995  2020-04-15              USD            RV         1.0   \n",
       "9996  2020-03-21              CAD            RV         1.0   \n",
       "9997  2020-03-08              USD            RV         1.0   \n",
       "9998  2020-03-29              USD            RV         1.0   \n",
       "9999  2020-05-02              USD            RV         1.0   \n",
       "\n",
       "      total_open_amount  baseline_create_date cust_payment_terms  \\\n",
       "0             1891.0100            20200429.0               NAA8   \n",
       "1            34880.5000            20200501.0               NAA8   \n",
       "2            84476.3300            20200314.0               NAA8   \n",
       "3            32378.8600            20200309.0               NA32   \n",
       "4             1020.0000            20200327.0               NAD5   \n",
       "...                 ...                   ...                ...   \n",
       "9995         66950.6300            20200311.0               NAG2   \n",
       "9996         97346.9478            20200311.0               CA10   \n",
       "9997          2291.8300            20200301.0               NAM1   \n",
       "9998         57403.2000            20200314.0               NAH4   \n",
       "9999         49469.1800            20200402.0               NAD5   \n",
       "\n",
       "        invoice_id  isOpen  Delay  \n",
       "0     1.930830e+09       1   15.0  \n",
       "1     1.930840e+09       1    1.0  \n",
       "2     1.930652e+09       1    8.0  \n",
       "3     1.930622e+09       1    1.0  \n",
       "4     1.930714e+09       1    1.0  \n",
       "...            ...     ...    ...  \n",
       "9995  1.990571e+09       1    1.0  \n",
       "9996  2.960617e+09       1    5.0  \n",
       "9997  1.930617e+09       1    4.0  \n",
       "9998  1.930652e+09       1    5.0  \n",
       "9999  1.930733e+09       1    0.0  \n",
       "\n",
       "[10000 rows x 19 columns]"
      ]
     },
     "execution_count": 156,
     "metadata": {},
     "output_type": "execute_result"
    }
   ],
   "source": [
    "Final = test.merge(finala , on = dftt.index )\n",
    "Final"
   ]
  },
  {
   "cell_type": "code",
   "execution_count": 157,
   "id": "bc8e3569",
   "metadata": {},
   "outputs": [],
   "source": [
    "temp = Final['Delay'].apply(np.round).apply(lambda x: pd.Timedelta(x, unit='D'))\n"
   ]
  },
  {
   "cell_type": "code",
   "execution_count": 158,
   "id": "5c55dcaf",
   "metadata": {},
   "outputs": [],
   "source": [
    "Final['predicted_payment_date']=Final['due_in_date'] + temp"
   ]
  },
  {
   "cell_type": "code",
   "execution_count": 159,
   "id": "79dd17b9",
   "metadata": {
    "scrolled": true
   },
   "outputs": [
    {
     "data": {
      "text/html": [
       "<div>\n",
       "<style scoped>\n",
       "    .dataframe tbody tr th:only-of-type {\n",
       "        vertical-align: middle;\n",
       "    }\n",
       "\n",
       "    .dataframe tbody tr th {\n",
       "        vertical-align: top;\n",
       "    }\n",
       "\n",
       "    .dataframe thead th {\n",
       "        text-align: right;\n",
       "    }\n",
       "</style>\n",
       "<table border=\"1\" class=\"dataframe\">\n",
       "  <thead>\n",
       "    <tr style=\"text-align: right;\">\n",
       "      <th></th>\n",
       "      <th>key_0</th>\n",
       "      <th>business_code</th>\n",
       "      <th>cust_number</th>\n",
       "      <th>name_customer</th>\n",
       "      <th>buisness_year</th>\n",
       "      <th>doc_id</th>\n",
       "      <th>posting_date</th>\n",
       "      <th>document_create_date</th>\n",
       "      <th>document_create_date.1</th>\n",
       "      <th>due_in_date</th>\n",
       "      <th>invoice_currency</th>\n",
       "      <th>document type</th>\n",
       "      <th>posting_id</th>\n",
       "      <th>total_open_amount</th>\n",
       "      <th>baseline_create_date</th>\n",
       "      <th>cust_payment_terms</th>\n",
       "      <th>invoice_id</th>\n",
       "      <th>isOpen</th>\n",
       "      <th>Delay</th>\n",
       "      <th>predicted_payment_date</th>\n",
       "    </tr>\n",
       "  </thead>\n",
       "  <tbody>\n",
       "    <tr>\n",
       "      <th>0</th>\n",
       "      <td>0</td>\n",
       "      <td>U001</td>\n",
       "      <td>200706844</td>\n",
       "      <td>WINC corporation</td>\n",
       "      <td>2020.0</td>\n",
       "      <td>1.930830e+09</td>\n",
       "      <td>2020-04-29</td>\n",
       "      <td>20200427</td>\n",
       "      <td>20200429</td>\n",
       "      <td>2020-05-14</td>\n",
       "      <td>USD</td>\n",
       "      <td>RV</td>\n",
       "      <td>1.0</td>\n",
       "      <td>1891.0100</td>\n",
       "      <td>20200429.0</td>\n",
       "      <td>NAA8</td>\n",
       "      <td>1.930830e+09</td>\n",
       "      <td>1</td>\n",
       "      <td>15.0</td>\n",
       "      <td>2020-05-29</td>\n",
       "    </tr>\n",
       "    <tr>\n",
       "      <th>1</th>\n",
       "      <td>1</td>\n",
       "      <td>U001</td>\n",
       "      <td>0200729290</td>\n",
       "      <td>KROGER us</td>\n",
       "      <td>2020.0</td>\n",
       "      <td>1.930840e+09</td>\n",
       "      <td>2020-05-01</td>\n",
       "      <td>20200430</td>\n",
       "      <td>20200501</td>\n",
       "      <td>2020-05-16</td>\n",
       "      <td>USD</td>\n",
       "      <td>RV</td>\n",
       "      <td>1.0</td>\n",
       "      <td>34880.5000</td>\n",
       "      <td>20200501.0</td>\n",
       "      <td>NAA8</td>\n",
       "      <td>1.930840e+09</td>\n",
       "      <td>1</td>\n",
       "      <td>1.0</td>\n",
       "      <td>2020-05-17</td>\n",
       "    </tr>\n",
       "    <tr>\n",
       "      <th>2</th>\n",
       "      <td>2</td>\n",
       "      <td>U001</td>\n",
       "      <td>0200799538</td>\n",
       "      <td>UNITE foundation</td>\n",
       "      <td>2020.0</td>\n",
       "      <td>1.930652e+09</td>\n",
       "      <td>2020-03-14</td>\n",
       "      <td>20200314</td>\n",
       "      <td>20200314</td>\n",
       "      <td>2020-03-29</td>\n",
       "      <td>USD</td>\n",
       "      <td>RV</td>\n",
       "      <td>1.0</td>\n",
       "      <td>84476.3300</td>\n",
       "      <td>20200314.0</td>\n",
       "      <td>NAA8</td>\n",
       "      <td>1.930652e+09</td>\n",
       "      <td>1</td>\n",
       "      <td>8.0</td>\n",
       "      <td>2020-04-06</td>\n",
       "    </tr>\n",
       "    <tr>\n",
       "      <th>3</th>\n",
       "      <td>3</td>\n",
       "      <td>U001</td>\n",
       "      <td>0200714710</td>\n",
       "      <td>SYSCO  corp</td>\n",
       "      <td>2020.0</td>\n",
       "      <td>1.930622e+09</td>\n",
       "      <td>2020-03-09</td>\n",
       "      <td>20200307</td>\n",
       "      <td>20200309</td>\n",
       "      <td>2020-04-10</td>\n",
       "      <td>USD</td>\n",
       "      <td>RV</td>\n",
       "      <td>1.0</td>\n",
       "      <td>32378.8600</td>\n",
       "      <td>20200309.0</td>\n",
       "      <td>NA32</td>\n",
       "      <td>1.930622e+09</td>\n",
       "      <td>1</td>\n",
       "      <td>1.0</td>\n",
       "      <td>2020-04-11</td>\n",
       "    </tr>\n",
       "    <tr>\n",
       "      <th>4</th>\n",
       "      <td>4</td>\n",
       "      <td>U001</td>\n",
       "      <td>0100012707</td>\n",
       "      <td>IR associates</td>\n",
       "      <td>2020.0</td>\n",
       "      <td>1.930714e+09</td>\n",
       "      <td>2020-03-27</td>\n",
       "      <td>20200327</td>\n",
       "      <td>20200327</td>\n",
       "      <td>2020-04-26</td>\n",
       "      <td>USD</td>\n",
       "      <td>RV</td>\n",
       "      <td>1.0</td>\n",
       "      <td>1020.0000</td>\n",
       "      <td>20200327.0</td>\n",
       "      <td>NAD5</td>\n",
       "      <td>1.930714e+09</td>\n",
       "      <td>1</td>\n",
       "      <td>1.0</td>\n",
       "      <td>2020-04-27</td>\n",
       "    </tr>\n",
       "    <tr>\n",
       "      <th>5</th>\n",
       "      <td>5</td>\n",
       "      <td>U001</td>\n",
       "      <td>0200769623</td>\n",
       "      <td>WAL-MAR in</td>\n",
       "      <td>2020.0</td>\n",
       "      <td>1.930718e+09</td>\n",
       "      <td>2020-03-29</td>\n",
       "      <td>20200329</td>\n",
       "      <td>20200329</td>\n",
       "      <td>2020-04-13</td>\n",
       "      <td>USD</td>\n",
       "      <td>RV</td>\n",
       "      <td>1.0</td>\n",
       "      <td>37514.4200</td>\n",
       "      <td>20200329.0</td>\n",
       "      <td>NAH4</td>\n",
       "      <td>1.930718e+09</td>\n",
       "      <td>1</td>\n",
       "      <td>1.0</td>\n",
       "      <td>2020-04-14</td>\n",
       "    </tr>\n",
       "    <tr>\n",
       "      <th>6</th>\n",
       "      <td>6</td>\n",
       "      <td>U001</td>\n",
       "      <td>200769623</td>\n",
       "      <td>WAL-MAR</td>\n",
       "      <td>2020.0</td>\n",
       "      <td>1.930759e+09</td>\n",
       "      <td>2020-04-08</td>\n",
       "      <td>20200407</td>\n",
       "      <td>20200408</td>\n",
       "      <td>2020-04-23</td>\n",
       "      <td>USD</td>\n",
       "      <td>RV</td>\n",
       "      <td>1.0</td>\n",
       "      <td>5711.6800</td>\n",
       "      <td>20200408.0</td>\n",
       "      <td>NAH4</td>\n",
       "      <td>1.930759e+09</td>\n",
       "      <td>1</td>\n",
       "      <td>-6.0</td>\n",
       "      <td>2020-04-17</td>\n",
       "    </tr>\n",
       "    <tr>\n",
       "      <th>7</th>\n",
       "      <td>7</td>\n",
       "      <td>U001</td>\n",
       "      <td>200769623</td>\n",
       "      <td>WAL-MAR systems</td>\n",
       "      <td>2020.0</td>\n",
       "      <td>1.930892e+09</td>\n",
       "      <td>2020-05-12</td>\n",
       "      <td>20200511</td>\n",
       "      <td>20200512</td>\n",
       "      <td>2020-05-27</td>\n",
       "      <td>USD</td>\n",
       "      <td>RV</td>\n",
       "      <td>1.0</td>\n",
       "      <td>56291.1500</td>\n",
       "      <td>20200512.0</td>\n",
       "      <td>NAH4</td>\n",
       "      <td>1.930892e+09</td>\n",
       "      <td>1</td>\n",
       "      <td>1.0</td>\n",
       "      <td>2020-05-28</td>\n",
       "    </tr>\n",
       "    <tr>\n",
       "      <th>8</th>\n",
       "      <td>8</td>\n",
       "      <td>U001</td>\n",
       "      <td>0200769623</td>\n",
       "      <td>WAL-MAR</td>\n",
       "      <td>2020.0</td>\n",
       "      <td>1.930611e+09</td>\n",
       "      <td>2020-03-05</td>\n",
       "      <td>20200306</td>\n",
       "      <td>20200305</td>\n",
       "      <td>2020-03-20</td>\n",
       "      <td>USD</td>\n",
       "      <td>RV</td>\n",
       "      <td>1.0</td>\n",
       "      <td>49505.2800</td>\n",
       "      <td>20200305.0</td>\n",
       "      <td>NAH4</td>\n",
       "      <td>1.930611e+09</td>\n",
       "      <td>1</td>\n",
       "      <td>-8.0</td>\n",
       "      <td>2020-03-12</td>\n",
       "    </tr>\n",
       "    <tr>\n",
       "      <th>9</th>\n",
       "      <td>9</td>\n",
       "      <td>U001</td>\n",
       "      <td>0200769623</td>\n",
       "      <td>WAL-MAR systems</td>\n",
       "      <td>2020.0</td>\n",
       "      <td>1.930752e+09</td>\n",
       "      <td>2020-04-06</td>\n",
       "      <td>20200406</td>\n",
       "      <td>20200406</td>\n",
       "      <td>2020-04-21</td>\n",
       "      <td>USD</td>\n",
       "      <td>RV</td>\n",
       "      <td>1.0</td>\n",
       "      <td>31705.4900</td>\n",
       "      <td>20200406.0</td>\n",
       "      <td>NAH4</td>\n",
       "      <td>1.930752e+09</td>\n",
       "      <td>1</td>\n",
       "      <td>1.0</td>\n",
       "      <td>2020-04-22</td>\n",
       "    </tr>\n",
       "    <tr>\n",
       "      <th>10</th>\n",
       "      <td>10</td>\n",
       "      <td>CA02</td>\n",
       "      <td>0140104440</td>\n",
       "      <td>SO in</td>\n",
       "      <td>2020.0</td>\n",
       "      <td>2.960623e+09</td>\n",
       "      <td>2020-03-22</td>\n",
       "      <td>20200322</td>\n",
       "      <td>20200322</td>\n",
       "      <td>2020-04-04</td>\n",
       "      <td>CAD</td>\n",
       "      <td>RV</td>\n",
       "      <td>1.0</td>\n",
       "      <td>248145.3168</td>\n",
       "      <td>20200325.0</td>\n",
       "      <td>CA10</td>\n",
       "      <td>2.960623e+09</td>\n",
       "      <td>1</td>\n",
       "      <td>1.0</td>\n",
       "      <td>2020-04-05</td>\n",
       "    </tr>\n",
       "    <tr>\n",
       "      <th>11</th>\n",
       "      <td>11</td>\n",
       "      <td>U001</td>\n",
       "      <td>0200749782</td>\n",
       "      <td>KROG us</td>\n",
       "      <td>2020.0</td>\n",
       "      <td>1.930833e+09</td>\n",
       "      <td>2020-04-29</td>\n",
       "      <td>20200428</td>\n",
       "      <td>20200429</td>\n",
       "      <td>2020-05-14</td>\n",
       "      <td>USD</td>\n",
       "      <td>RV</td>\n",
       "      <td>1.0</td>\n",
       "      <td>66215.8300</td>\n",
       "      <td>20200429.0</td>\n",
       "      <td>NAA8</td>\n",
       "      <td>1.930833e+09</td>\n",
       "      <td>1</td>\n",
       "      <td>1.0</td>\n",
       "      <td>2020-05-15</td>\n",
       "    </tr>\n",
       "    <tr>\n",
       "      <th>12</th>\n",
       "      <td>12</td>\n",
       "      <td>U001</td>\n",
       "      <td>0200707822</td>\n",
       "      <td>PUBLI llc</td>\n",
       "      <td>2020.0</td>\n",
       "      <td>1.930576e+09</td>\n",
       "      <td>2020-02-28</td>\n",
       "      <td>20200228</td>\n",
       "      <td>20200228</td>\n",
       "      <td>2020-03-14</td>\n",
       "      <td>USD</td>\n",
       "      <td>RV</td>\n",
       "      <td>1.0</td>\n",
       "      <td>23202.2900</td>\n",
       "      <td>20200228.0</td>\n",
       "      <td>NAA8</td>\n",
       "      <td>1.930576e+09</td>\n",
       "      <td>1</td>\n",
       "      <td>1.0</td>\n",
       "      <td>2020-03-15</td>\n",
       "    </tr>\n",
       "    <tr>\n",
       "      <th>13</th>\n",
       "      <td>13</td>\n",
       "      <td>U001</td>\n",
       "      <td>0200769623</td>\n",
       "      <td>WAL-MAR associates</td>\n",
       "      <td>2020.0</td>\n",
       "      <td>1.930729e+09</td>\n",
       "      <td>2020-04-01</td>\n",
       "      <td>20200401</td>\n",
       "      <td>20200401</td>\n",
       "      <td>2020-04-16</td>\n",
       "      <td>USD</td>\n",
       "      <td>RV</td>\n",
       "      <td>1.0</td>\n",
       "      <td>63220.0600</td>\n",
       "      <td>20200401.0</td>\n",
       "      <td>NAH4</td>\n",
       "      <td>1.930729e+09</td>\n",
       "      <td>1</td>\n",
       "      <td>5.0</td>\n",
       "      <td>2020-04-21</td>\n",
       "    </tr>\n",
       "    <tr>\n",
       "      <th>14</th>\n",
       "      <td>14</td>\n",
       "      <td>U001</td>\n",
       "      <td>0100043936</td>\n",
       "      <td>PAPA JO corp</td>\n",
       "      <td>2020.0</td>\n",
       "      <td>1.930732e+09</td>\n",
       "      <td>2020-04-03</td>\n",
       "      <td>20200402</td>\n",
       "      <td>20200403</td>\n",
       "      <td>2020-04-13</td>\n",
       "      <td>USD</td>\n",
       "      <td>RV</td>\n",
       "      <td>1.0</td>\n",
       "      <td>18135.8800</td>\n",
       "      <td>20200403.0</td>\n",
       "      <td>NA10</td>\n",
       "      <td>1.930732e+09</td>\n",
       "      <td>1</td>\n",
       "      <td>1.0</td>\n",
       "      <td>2020-04-14</td>\n",
       "    </tr>\n",
       "    <tr>\n",
       "      <th>15</th>\n",
       "      <td>15</td>\n",
       "      <td>U001</td>\n",
       "      <td>0200769623</td>\n",
       "      <td>WAL-MAR co</td>\n",
       "      <td>2020.0</td>\n",
       "      <td>1.930715e+09</td>\n",
       "      <td>2020-03-29</td>\n",
       "      <td>20200328</td>\n",
       "      <td>20200329</td>\n",
       "      <td>2020-04-13</td>\n",
       "      <td>USD</td>\n",
       "      <td>RV</td>\n",
       "      <td>1.0</td>\n",
       "      <td>12790.1600</td>\n",
       "      <td>20200329.0</td>\n",
       "      <td>NAH4</td>\n",
       "      <td>1.930715e+09</td>\n",
       "      <td>1</td>\n",
       "      <td>2.0</td>\n",
       "      <td>2020-04-15</td>\n",
       "    </tr>\n",
       "    <tr>\n",
       "      <th>16</th>\n",
       "      <td>16</td>\n",
       "      <td>U001</td>\n",
       "      <td>0200772595</td>\n",
       "      <td>SAFEW</td>\n",
       "      <td>2020.0</td>\n",
       "      <td>1.930856e+09</td>\n",
       "      <td>2020-05-06</td>\n",
       "      <td>20200506</td>\n",
       "      <td>20200506</td>\n",
       "      <td>2020-05-21</td>\n",
       "      <td>USD</td>\n",
       "      <td>RV</td>\n",
       "      <td>1.0</td>\n",
       "      <td>107493.4800</td>\n",
       "      <td>20200506.0</td>\n",
       "      <td>NAA8</td>\n",
       "      <td>1.930856e+09</td>\n",
       "      <td>1</td>\n",
       "      <td>6.0</td>\n",
       "      <td>2020-05-27</td>\n",
       "    </tr>\n",
       "    <tr>\n",
       "      <th>17</th>\n",
       "      <td>17</td>\n",
       "      <td>U001</td>\n",
       "      <td>0200458131</td>\n",
       "      <td>TIMES</td>\n",
       "      <td>2020.0</td>\n",
       "      <td>1.930760e+09</td>\n",
       "      <td>2020-04-14</td>\n",
       "      <td>20200407</td>\n",
       "      <td>20200414</td>\n",
       "      <td>2020-04-29</td>\n",
       "      <td>USD</td>\n",
       "      <td>RV</td>\n",
       "      <td>1.0</td>\n",
       "      <td>2843.7700</td>\n",
       "      <td>20200414.0</td>\n",
       "      <td>NAA8</td>\n",
       "      <td>1.930760e+09</td>\n",
       "      <td>1</td>\n",
       "      <td>2.0</td>\n",
       "      <td>2020-05-01</td>\n",
       "    </tr>\n",
       "    <tr>\n",
       "      <th>18</th>\n",
       "      <td>18</td>\n",
       "      <td>U001</td>\n",
       "      <td>0200020431</td>\n",
       "      <td>DEC</td>\n",
       "      <td>2020.0</td>\n",
       "      <td>1.930768e+09</td>\n",
       "      <td>2020-04-09</td>\n",
       "      <td>20200409</td>\n",
       "      <td>20200409</td>\n",
       "      <td>2020-04-24</td>\n",
       "      <td>USD</td>\n",
       "      <td>RV</td>\n",
       "      <td>1.0</td>\n",
       "      <td>5539.9100</td>\n",
       "      <td>20200401.0</td>\n",
       "      <td>NAM4</td>\n",
       "      <td>1.930768e+09</td>\n",
       "      <td>1</td>\n",
       "      <td>1.0</td>\n",
       "      <td>2020-04-25</td>\n",
       "    </tr>\n",
       "    <tr>\n",
       "      <th>19</th>\n",
       "      <td>19</td>\n",
       "      <td>U001</td>\n",
       "      <td>0200772595</td>\n",
       "      <td>SAFEW systems</td>\n",
       "      <td>2020.0</td>\n",
       "      <td>1.930670e+09</td>\n",
       "      <td>2020-03-20</td>\n",
       "      <td>20200318</td>\n",
       "      <td>20200320</td>\n",
       "      <td>2020-04-04</td>\n",
       "      <td>USD</td>\n",
       "      <td>RV</td>\n",
       "      <td>1.0</td>\n",
       "      <td>11712.9600</td>\n",
       "      <td>20200320.0</td>\n",
       "      <td>NAA8</td>\n",
       "      <td>1.930670e+09</td>\n",
       "      <td>1</td>\n",
       "      <td>2.0</td>\n",
       "      <td>2020-04-06</td>\n",
       "    </tr>\n",
       "    <tr>\n",
       "      <th>20</th>\n",
       "      <td>20</td>\n",
       "      <td>U001</td>\n",
       "      <td>0200726979</td>\n",
       "      <td>BJ'S  corp</td>\n",
       "      <td>2020.0</td>\n",
       "      <td>1.930774e+09</td>\n",
       "      <td>2020-04-09</td>\n",
       "      <td>20200410</td>\n",
       "      <td>20200409</td>\n",
       "      <td>2020-04-24</td>\n",
       "      <td>USD</td>\n",
       "      <td>RV</td>\n",
       "      <td>1.0</td>\n",
       "      <td>526.3600</td>\n",
       "      <td>20200409.0</td>\n",
       "      <td>NAA8</td>\n",
       "      <td>1.930774e+09</td>\n",
       "      <td>1</td>\n",
       "      <td>1.0</td>\n",
       "      <td>2020-04-25</td>\n",
       "    </tr>\n",
       "    <tr>\n",
       "      <th>21</th>\n",
       "      <td>21</td>\n",
       "      <td>U001</td>\n",
       "      <td>0200769623</td>\n",
       "      <td>WAL-MAR</td>\n",
       "      <td>2020.0</td>\n",
       "      <td>1.930730e+09</td>\n",
       "      <td>2020-04-01</td>\n",
       "      <td>20200401</td>\n",
       "      <td>20200401</td>\n",
       "      <td>2020-04-16</td>\n",
       "      <td>USD</td>\n",
       "      <td>RV</td>\n",
       "      <td>1.0</td>\n",
       "      <td>23644.4700</td>\n",
       "      <td>20200401.0</td>\n",
       "      <td>NAH4</td>\n",
       "      <td>1.930730e+09</td>\n",
       "      <td>1</td>\n",
       "      <td>2.0</td>\n",
       "      <td>2020-04-18</td>\n",
       "    </tr>\n",
       "    <tr>\n",
       "      <th>22</th>\n",
       "      <td>22</td>\n",
       "      <td>U001</td>\n",
       "      <td>0200769623</td>\n",
       "      <td>WAL-MAR us</td>\n",
       "      <td>2020.0</td>\n",
       "      <td>1.930646e+09</td>\n",
       "      <td>2020-03-13</td>\n",
       "      <td>20200312</td>\n",
       "      <td>20200313</td>\n",
       "      <td>2020-03-28</td>\n",
       "      <td>USD</td>\n",
       "      <td>RV</td>\n",
       "      <td>1.0</td>\n",
       "      <td>68883.8500</td>\n",
       "      <td>20200313.0</td>\n",
       "      <td>NAH4</td>\n",
       "      <td>1.930646e+09</td>\n",
       "      <td>1</td>\n",
       "      <td>2.0</td>\n",
       "      <td>2020-03-30</td>\n",
       "    </tr>\n",
       "    <tr>\n",
       "      <th>23</th>\n",
       "      <td>23</td>\n",
       "      <td>U001</td>\n",
       "      <td>0200777735</td>\n",
       "      <td>NASH  corporation</td>\n",
       "      <td>2020.0</td>\n",
       "      <td>1.930599e+09</td>\n",
       "      <td>2020-03-04</td>\n",
       "      <td>20200304</td>\n",
       "      <td>20200304</td>\n",
       "      <td>2020-03-19</td>\n",
       "      <td>USD</td>\n",
       "      <td>RV</td>\n",
       "      <td>1.0</td>\n",
       "      <td>16536.0700</td>\n",
       "      <td>20200304.0</td>\n",
       "      <td>NAA8</td>\n",
       "      <td>1.930599e+09</td>\n",
       "      <td>1</td>\n",
       "      <td>-10.0</td>\n",
       "      <td>2020-03-09</td>\n",
       "    </tr>\n",
       "    <tr>\n",
       "      <th>24</th>\n",
       "      <td>24</td>\n",
       "      <td>CA02</td>\n",
       "      <td>0140104409</td>\n",
       "      <td>LOB corporation</td>\n",
       "      <td>2020.0</td>\n",
       "      <td>2.960621e+09</td>\n",
       "      <td>2020-03-17</td>\n",
       "      <td>20200317</td>\n",
       "      <td>20200317</td>\n",
       "      <td>2020-04-06</td>\n",
       "      <td>CAD</td>\n",
       "      <td>RV</td>\n",
       "      <td>1.0</td>\n",
       "      <td>22656.7599</td>\n",
       "      <td>20200327.0</td>\n",
       "      <td>CA10</td>\n",
       "      <td>2.960621e+09</td>\n",
       "      <td>1</td>\n",
       "      <td>8.0</td>\n",
       "      <td>2020-04-14</td>\n",
       "    </tr>\n",
       "    <tr>\n",
       "      <th>25</th>\n",
       "      <td>25</td>\n",
       "      <td>CA02</td>\n",
       "      <td>0140104409</td>\n",
       "      <td>LOB systems</td>\n",
       "      <td>2020.0</td>\n",
       "      <td>2.960627e+09</td>\n",
       "      <td>2020-04-09</td>\n",
       "      <td>20200409</td>\n",
       "      <td>20200409</td>\n",
       "      <td>2020-04-27</td>\n",
       "      <td>CAD</td>\n",
       "      <td>RV</td>\n",
       "      <td>1.0</td>\n",
       "      <td>17203.9608</td>\n",
       "      <td>20200417.0</td>\n",
       "      <td>CA10</td>\n",
       "      <td>2.960627e+09</td>\n",
       "      <td>1</td>\n",
       "      <td>8.0</td>\n",
       "      <td>2020-05-05</td>\n",
       "    </tr>\n",
       "    <tr>\n",
       "      <th>26</th>\n",
       "      <td>26</td>\n",
       "      <td>U001</td>\n",
       "      <td>0200762301</td>\n",
       "      <td>C&amp;S WH llc</td>\n",
       "      <td>2020.0</td>\n",
       "      <td>1.930666e+09</td>\n",
       "      <td>2020-03-18</td>\n",
       "      <td>20200318</td>\n",
       "      <td>20200318</td>\n",
       "      <td>2020-04-02</td>\n",
       "      <td>USD</td>\n",
       "      <td>RV</td>\n",
       "      <td>1.0</td>\n",
       "      <td>9419.6200</td>\n",
       "      <td>20200318.0</td>\n",
       "      <td>NAC6</td>\n",
       "      <td>1.930666e+09</td>\n",
       "      <td>1</td>\n",
       "      <td>1.0</td>\n",
       "      <td>2020-04-03</td>\n",
       "    </tr>\n",
       "    <tr>\n",
       "      <th>27</th>\n",
       "      <td>27</td>\n",
       "      <td>U001</td>\n",
       "      <td>0200794332</td>\n",
       "      <td>COST co</td>\n",
       "      <td>2020.0</td>\n",
       "      <td>1.930820e+09</td>\n",
       "      <td>2020-04-28</td>\n",
       "      <td>20200423</td>\n",
       "      <td>20200428</td>\n",
       "      <td>2020-05-18</td>\n",
       "      <td>USD</td>\n",
       "      <td>RV</td>\n",
       "      <td>1.0</td>\n",
       "      <td>32481.8800</td>\n",
       "      <td>20200428.0</td>\n",
       "      <td>NA84</td>\n",
       "      <td>1.930820e+09</td>\n",
       "      <td>1</td>\n",
       "      <td>1.0</td>\n",
       "      <td>2020-05-19</td>\n",
       "    </tr>\n",
       "    <tr>\n",
       "      <th>28</th>\n",
       "      <td>28</td>\n",
       "      <td>U001</td>\n",
       "      <td>0200712105</td>\n",
       "      <td>WALG us</td>\n",
       "      <td>2020.0</td>\n",
       "      <td>1.930803e+09</td>\n",
       "      <td>2020-04-20</td>\n",
       "      <td>20200420</td>\n",
       "      <td>20200420</td>\n",
       "      <td>2020-05-05</td>\n",
       "      <td>USD</td>\n",
       "      <td>RV</td>\n",
       "      <td>1.0</td>\n",
       "      <td>37894.8500</td>\n",
       "      <td>20200420.0</td>\n",
       "      <td>NAA8</td>\n",
       "      <td>1.930803e+09</td>\n",
       "      <td>1</td>\n",
       "      <td>1.0</td>\n",
       "      <td>2020-05-06</td>\n",
       "    </tr>\n",
       "    <tr>\n",
       "      <th>29</th>\n",
       "      <td>29</td>\n",
       "      <td>U001</td>\n",
       "      <td>0200792293</td>\n",
       "      <td>UNIFIE foundation</td>\n",
       "      <td>2020.0</td>\n",
       "      <td>1.930755e+09</td>\n",
       "      <td>2020-04-07</td>\n",
       "      <td>20200406</td>\n",
       "      <td>20200407</td>\n",
       "      <td>2020-04-22</td>\n",
       "      <td>USD</td>\n",
       "      <td>RV</td>\n",
       "      <td>1.0</td>\n",
       "      <td>7968.5300</td>\n",
       "      <td>20200407.0</td>\n",
       "      <td>NAA8</td>\n",
       "      <td>1.930755e+09</td>\n",
       "      <td>1</td>\n",
       "      <td>18.0</td>\n",
       "      <td>2020-05-10</td>\n",
       "    </tr>\n",
       "    <tr>\n",
       "      <th>30</th>\n",
       "      <td>30</td>\n",
       "      <td>U001</td>\n",
       "      <td>200769623</td>\n",
       "      <td>WAL-MAR</td>\n",
       "      <td>2020.0</td>\n",
       "      <td>1.930885e+09</td>\n",
       "      <td>2020-05-10</td>\n",
       "      <td>20200511</td>\n",
       "      <td>20200510</td>\n",
       "      <td>2020-05-25</td>\n",
       "      <td>USD</td>\n",
       "      <td>RV</td>\n",
       "      <td>1.0</td>\n",
       "      <td>37833.1100</td>\n",
       "      <td>20200510.0</td>\n",
       "      <td>NAH4</td>\n",
       "      <td>1.930885e+09</td>\n",
       "      <td>1</td>\n",
       "      <td>1.0</td>\n",
       "      <td>2020-05-26</td>\n",
       "    </tr>\n",
       "    <tr>\n",
       "      <th>31</th>\n",
       "      <td>31</td>\n",
       "      <td>U001</td>\n",
       "      <td>0200779906</td>\n",
       "      <td>BOZZU corporation</td>\n",
       "      <td>2020.0</td>\n",
       "      <td>1.930617e+09</td>\n",
       "      <td>2020-03-09</td>\n",
       "      <td>20200306</td>\n",
       "      <td>20200309</td>\n",
       "      <td>2020-03-24</td>\n",
       "      <td>USD</td>\n",
       "      <td>RV</td>\n",
       "      <td>1.0</td>\n",
       "      <td>3311.9100</td>\n",
       "      <td>20200309.0</td>\n",
       "      <td>NAA8</td>\n",
       "      <td>1.930617e+09</td>\n",
       "      <td>1</td>\n",
       "      <td>3.0</td>\n",
       "      <td>2020-03-27</td>\n",
       "    </tr>\n",
       "    <tr>\n",
       "      <th>32</th>\n",
       "      <td>32</td>\n",
       "      <td>U001</td>\n",
       "      <td>0200434439</td>\n",
       "      <td>BAUGH SU co</td>\n",
       "      <td>2020.0</td>\n",
       "      <td>1.930856e+09</td>\n",
       "      <td>2020-05-04</td>\n",
       "      <td>20200504</td>\n",
       "      <td>20200504</td>\n",
       "      <td>2020-05-19</td>\n",
       "      <td>USD</td>\n",
       "      <td>RV</td>\n",
       "      <td>1.0</td>\n",
       "      <td>59810.4300</td>\n",
       "      <td>20200504.0</td>\n",
       "      <td>NAA8</td>\n",
       "      <td>1.930856e+09</td>\n",
       "      <td>1</td>\n",
       "      <td>6.0</td>\n",
       "      <td>2020-05-25</td>\n",
       "    </tr>\n",
       "    <tr>\n",
       "      <th>33</th>\n",
       "      <td>33</td>\n",
       "      <td>U001</td>\n",
       "      <td>0200744019</td>\n",
       "      <td>TARG in</td>\n",
       "      <td>2020.0</td>\n",
       "      <td>1.930579e+09</td>\n",
       "      <td>2020-02-28</td>\n",
       "      <td>20200227</td>\n",
       "      <td>20200228</td>\n",
       "      <td>2020-03-14</td>\n",
       "      <td>USD</td>\n",
       "      <td>RV</td>\n",
       "      <td>1.0</td>\n",
       "      <td>129392.9200</td>\n",
       "      <td>20200228.0</td>\n",
       "      <td>NAA8</td>\n",
       "      <td>1.930579e+09</td>\n",
       "      <td>1</td>\n",
       "      <td>-6.0</td>\n",
       "      <td>2020-03-08</td>\n",
       "    </tr>\n",
       "    <tr>\n",
       "      <th>34</th>\n",
       "      <td>34</td>\n",
       "      <td>U001</td>\n",
       "      <td>200759878</td>\n",
       "      <td>SA trust</td>\n",
       "      <td>2020.0</td>\n",
       "      <td>1.930701e+09</td>\n",
       "      <td>2020-03-27</td>\n",
       "      <td>20200325</td>\n",
       "      <td>20200327</td>\n",
       "      <td>2020-04-11</td>\n",
       "      <td>USD</td>\n",
       "      <td>RV</td>\n",
       "      <td>1.0</td>\n",
       "      <td>21337.9200</td>\n",
       "      <td>20200327.0</td>\n",
       "      <td>NAH4</td>\n",
       "      <td>1.930701e+09</td>\n",
       "      <td>1</td>\n",
       "      <td>-5.0</td>\n",
       "      <td>2020-04-06</td>\n",
       "    </tr>\n",
       "    <tr>\n",
       "      <th>35</th>\n",
       "      <td>35</td>\n",
       "      <td>U001</td>\n",
       "      <td>0100031704</td>\n",
       "      <td>DELHAIZE in</td>\n",
       "      <td>2020.0</td>\n",
       "      <td>1.930685e+09</td>\n",
       "      <td>2020-03-21</td>\n",
       "      <td>20200321</td>\n",
       "      <td>20200321</td>\n",
       "      <td>2020-04-05</td>\n",
       "      <td>USD</td>\n",
       "      <td>RV</td>\n",
       "      <td>1.0</td>\n",
       "      <td>69475.8100</td>\n",
       "      <td>20200321.0</td>\n",
       "      <td>NAA8</td>\n",
       "      <td>1.930685e+09</td>\n",
       "      <td>1</td>\n",
       "      <td>2.0</td>\n",
       "      <td>2020-04-07</td>\n",
       "    </tr>\n",
       "    <tr>\n",
       "      <th>36</th>\n",
       "      <td>36</td>\n",
       "      <td>CA02</td>\n",
       "      <td>0140104409</td>\n",
       "      <td>LOB llc</td>\n",
       "      <td>2020.0</td>\n",
       "      <td>2.960617e+09</td>\n",
       "      <td>2020-03-03</td>\n",
       "      <td>20200303</td>\n",
       "      <td>20200303</td>\n",
       "      <td>2020-03-20</td>\n",
       "      <td>CAD</td>\n",
       "      <td>RV</td>\n",
       "      <td>1.0</td>\n",
       "      <td>13000.0791</td>\n",
       "      <td>20200310.0</td>\n",
       "      <td>CA10</td>\n",
       "      <td>2.960617e+09</td>\n",
       "      <td>1</td>\n",
       "      <td>1.0</td>\n",
       "      <td>2020-03-21</td>\n",
       "    </tr>\n",
       "    <tr>\n",
       "      <th>37</th>\n",
       "      <td>37</td>\n",
       "      <td>U001</td>\n",
       "      <td>0200799367</td>\n",
       "      <td>MCL associates</td>\n",
       "      <td>2020.0</td>\n",
       "      <td>1.930764e+09</td>\n",
       "      <td>2020-04-09</td>\n",
       "      <td>20200408</td>\n",
       "      <td>20200409</td>\n",
       "      <td>2020-04-24</td>\n",
       "      <td>USD</td>\n",
       "      <td>RV</td>\n",
       "      <td>1.0</td>\n",
       "      <td>95360.0400</td>\n",
       "      <td>20200409.0</td>\n",
       "      <td>NAA8</td>\n",
       "      <td>1.930764e+09</td>\n",
       "      <td>1</td>\n",
       "      <td>-10.0</td>\n",
       "      <td>2020-04-14</td>\n",
       "    </tr>\n",
       "    <tr>\n",
       "      <th>38</th>\n",
       "      <td>38</td>\n",
       "      <td>U001</td>\n",
       "      <td>0200769623</td>\n",
       "      <td>WAL-MAR corp</td>\n",
       "      <td>2020.0</td>\n",
       "      <td>1.930829e+09</td>\n",
       "      <td>2020-04-27</td>\n",
       "      <td>20200427</td>\n",
       "      <td>20200427</td>\n",
       "      <td>2020-05-12</td>\n",
       "      <td>USD</td>\n",
       "      <td>RV</td>\n",
       "      <td>1.0</td>\n",
       "      <td>3270.0400</td>\n",
       "      <td>20200427.0</td>\n",
       "      <td>NAH4</td>\n",
       "      <td>1.930829e+09</td>\n",
       "      <td>1</td>\n",
       "      <td>1.0</td>\n",
       "      <td>2020-05-13</td>\n",
       "    </tr>\n",
       "    <tr>\n",
       "      <th>39</th>\n",
       "      <td>39</td>\n",
       "      <td>U001</td>\n",
       "      <td>0200793830</td>\n",
       "      <td>M corp</td>\n",
       "      <td>2020.0</td>\n",
       "      <td>1.930819e+09</td>\n",
       "      <td>2020-04-24</td>\n",
       "      <td>20200423</td>\n",
       "      <td>20200424</td>\n",
       "      <td>2020-05-09</td>\n",
       "      <td>USD</td>\n",
       "      <td>RV</td>\n",
       "      <td>1.0</td>\n",
       "      <td>99245.2400</td>\n",
       "      <td>20200424.0</td>\n",
       "      <td>NAA8</td>\n",
       "      <td>1.930819e+09</td>\n",
       "      <td>1</td>\n",
       "      <td>-11.0</td>\n",
       "      <td>2020-04-28</td>\n",
       "    </tr>\n",
       "    <tr>\n",
       "      <th>40</th>\n",
       "      <td>40</td>\n",
       "      <td>U001</td>\n",
       "      <td>0200706844</td>\n",
       "      <td>WINC in</td>\n",
       "      <td>2020.0</td>\n",
       "      <td>1.930706e+09</td>\n",
       "      <td>2020-03-24</td>\n",
       "      <td>20200326</td>\n",
       "      <td>20200324</td>\n",
       "      <td>2020-04-08</td>\n",
       "      <td>USD</td>\n",
       "      <td>RV</td>\n",
       "      <td>1.0</td>\n",
       "      <td>64919.4600</td>\n",
       "      <td>20200324.0</td>\n",
       "      <td>NAA8</td>\n",
       "      <td>1.930706e+09</td>\n",
       "      <td>1</td>\n",
       "      <td>1.0</td>\n",
       "      <td>2020-04-09</td>\n",
       "    </tr>\n",
       "    <tr>\n",
       "      <th>41</th>\n",
       "      <td>41</td>\n",
       "      <td>U001</td>\n",
       "      <td>0200230690</td>\n",
       "      <td>DECA corporation</td>\n",
       "      <td>2020.0</td>\n",
       "      <td>1.930586e+09</td>\n",
       "      <td>2020-03-02</td>\n",
       "      <td>20200302</td>\n",
       "      <td>20200302</td>\n",
       "      <td>2020-03-24</td>\n",
       "      <td>USD</td>\n",
       "      <td>RV</td>\n",
       "      <td>1.0</td>\n",
       "      <td>6713.3600</td>\n",
       "      <td>20200301.0</td>\n",
       "      <td>NAM4</td>\n",
       "      <td>1.930586e+09</td>\n",
       "      <td>1</td>\n",
       "      <td>-9.0</td>\n",
       "      <td>2020-03-15</td>\n",
       "    </tr>\n",
       "    <tr>\n",
       "      <th>42</th>\n",
       "      <td>42</td>\n",
       "      <td>U001</td>\n",
       "      <td>0200762301</td>\n",
       "      <td>C&amp;S WH systems</td>\n",
       "      <td>2020.0</td>\n",
       "      <td>1.930780e+09</td>\n",
       "      <td>2020-04-14</td>\n",
       "      <td>20200413</td>\n",
       "      <td>20200414</td>\n",
       "      <td>2020-04-29</td>\n",
       "      <td>USD</td>\n",
       "      <td>RV</td>\n",
       "      <td>1.0</td>\n",
       "      <td>13077.8200</td>\n",
       "      <td>20200414.0</td>\n",
       "      <td>NAC6</td>\n",
       "      <td>1.930780e+09</td>\n",
       "      <td>1</td>\n",
       "      <td>-11.0</td>\n",
       "      <td>2020-04-18</td>\n",
       "    </tr>\n",
       "    <tr>\n",
       "      <th>43</th>\n",
       "      <td>43</td>\n",
       "      <td>U001</td>\n",
       "      <td>0200769623</td>\n",
       "      <td>WAL-MAR associates</td>\n",
       "      <td>2020.0</td>\n",
       "      <td>1.930834e+09</td>\n",
       "      <td>2020-04-28</td>\n",
       "      <td>20200428</td>\n",
       "      <td>20200428</td>\n",
       "      <td>2020-05-13</td>\n",
       "      <td>USD</td>\n",
       "      <td>RV</td>\n",
       "      <td>1.0</td>\n",
       "      <td>2169.3700</td>\n",
       "      <td>20200428.0</td>\n",
       "      <td>NAH4</td>\n",
       "      <td>1.930834e+09</td>\n",
       "      <td>1</td>\n",
       "      <td>12.0</td>\n",
       "      <td>2020-05-25</td>\n",
       "    </tr>\n",
       "    <tr>\n",
       "      <th>44</th>\n",
       "      <td>44</td>\n",
       "      <td>U001</td>\n",
       "      <td>CCU013</td>\n",
       "      <td>KRAFT F corp</td>\n",
       "      <td>2020.0</td>\n",
       "      <td>1.930690e+09</td>\n",
       "      <td>2020-03-23</td>\n",
       "      <td>20200324</td>\n",
       "      <td>20200323</td>\n",
       "      <td>2020-03-23</td>\n",
       "      <td>USD</td>\n",
       "      <td>RV</td>\n",
       "      <td>1.0</td>\n",
       "      <td>55036.8600</td>\n",
       "      <td>20200323.0</td>\n",
       "      <td>NAX2</td>\n",
       "      <td>1.930690e+09</td>\n",
       "      <td>1</td>\n",
       "      <td>-11.0</td>\n",
       "      <td>2020-03-12</td>\n",
       "    </tr>\n",
       "    <tr>\n",
       "      <th>45</th>\n",
       "      <td>45</td>\n",
       "      <td>U001</td>\n",
       "      <td>0200769623</td>\n",
       "      <td>WAL-MAR trust</td>\n",
       "      <td>2020.0</td>\n",
       "      <td>1.930725e+09</td>\n",
       "      <td>2020-03-31</td>\n",
       "      <td>20200331</td>\n",
       "      <td>20200331</td>\n",
       "      <td>2020-04-15</td>\n",
       "      <td>USD</td>\n",
       "      <td>RV</td>\n",
       "      <td>1.0</td>\n",
       "      <td>16401.0600</td>\n",
       "      <td>20200331.0</td>\n",
       "      <td>NAH4</td>\n",
       "      <td>1.930725e+09</td>\n",
       "      <td>1</td>\n",
       "      <td>1.0</td>\n",
       "      <td>2020-04-16</td>\n",
       "    </tr>\n",
       "    <tr>\n",
       "      <th>46</th>\n",
       "      <td>46</td>\n",
       "      <td>U001</td>\n",
       "      <td>0200772670</td>\n",
       "      <td>ASSOCIAT in</td>\n",
       "      <td>2020.0</td>\n",
       "      <td>1.930788e+09</td>\n",
       "      <td>2020-04-14</td>\n",
       "      <td>20200415</td>\n",
       "      <td>20200414</td>\n",
       "      <td>2020-04-29</td>\n",
       "      <td>USD</td>\n",
       "      <td>RV</td>\n",
       "      <td>1.0</td>\n",
       "      <td>81356.9400</td>\n",
       "      <td>20200414.0</td>\n",
       "      <td>NAU5</td>\n",
       "      <td>1.930788e+09</td>\n",
       "      <td>1</td>\n",
       "      <td>-11.0</td>\n",
       "      <td>2020-04-18</td>\n",
       "    </tr>\n",
       "    <tr>\n",
       "      <th>47</th>\n",
       "      <td>47</td>\n",
       "      <td>U001</td>\n",
       "      <td>0200762301</td>\n",
       "      <td>C&amp;S WH</td>\n",
       "      <td>2020.0</td>\n",
       "      <td>1.930759e+09</td>\n",
       "      <td>2020-04-08</td>\n",
       "      <td>20200407</td>\n",
       "      <td>20200408</td>\n",
       "      <td>2020-04-23</td>\n",
       "      <td>USD</td>\n",
       "      <td>RV</td>\n",
       "      <td>1.0</td>\n",
       "      <td>2648.6700</td>\n",
       "      <td>20200408.0</td>\n",
       "      <td>NAC6</td>\n",
       "      <td>1.930759e+09</td>\n",
       "      <td>1</td>\n",
       "      <td>11.0</td>\n",
       "      <td>2020-05-04</td>\n",
       "    </tr>\n",
       "    <tr>\n",
       "      <th>48</th>\n",
       "      <td>48</td>\n",
       "      <td>U001</td>\n",
       "      <td>0200769623</td>\n",
       "      <td>WAL-MAR llc</td>\n",
       "      <td>2020.0</td>\n",
       "      <td>1.930837e+09</td>\n",
       "      <td>2020-04-29</td>\n",
       "      <td>20200429</td>\n",
       "      <td>20200429</td>\n",
       "      <td>2020-05-14</td>\n",
       "      <td>USD</td>\n",
       "      <td>RV</td>\n",
       "      <td>1.0</td>\n",
       "      <td>5601.6700</td>\n",
       "      <td>20200429.0</td>\n",
       "      <td>NAH4</td>\n",
       "      <td>1.930837e+09</td>\n",
       "      <td>1</td>\n",
       "      <td>1.0</td>\n",
       "      <td>2020-05-15</td>\n",
       "    </tr>\n",
       "    <tr>\n",
       "      <th>49</th>\n",
       "      <td>49</td>\n",
       "      <td>U001</td>\n",
       "      <td>0200744019</td>\n",
       "      <td>TARG</td>\n",
       "      <td>2020.0</td>\n",
       "      <td>1.930833e+09</td>\n",
       "      <td>2020-04-29</td>\n",
       "      <td>20200428</td>\n",
       "      <td>20200429</td>\n",
       "      <td>2020-05-14</td>\n",
       "      <td>USD</td>\n",
       "      <td>RV</td>\n",
       "      <td>1.0</td>\n",
       "      <td>4185.6900</td>\n",
       "      <td>20200429.0</td>\n",
       "      <td>NAA8</td>\n",
       "      <td>1.930833e+09</td>\n",
       "      <td>1</td>\n",
       "      <td>1.0</td>\n",
       "      <td>2020-05-15</td>\n",
       "    </tr>\n",
       "  </tbody>\n",
       "</table>\n",
       "</div>"
      ],
      "text/plain": [
       "    key_0 business_code cust_number       name_customer  buisness_year  \\\n",
       "0       0          U001   200706844    WINC corporation         2020.0   \n",
       "1       1          U001  0200729290           KROGER us         2020.0   \n",
       "2       2          U001  0200799538    UNITE foundation         2020.0   \n",
       "3       3          U001  0200714710         SYSCO  corp         2020.0   \n",
       "4       4          U001  0100012707       IR associates         2020.0   \n",
       "5       5          U001  0200769623          WAL-MAR in         2020.0   \n",
       "6       6          U001   200769623            WAL-MAR          2020.0   \n",
       "7       7          U001   200769623     WAL-MAR systems         2020.0   \n",
       "8       8          U001  0200769623            WAL-MAR          2020.0   \n",
       "9       9          U001  0200769623     WAL-MAR systems         2020.0   \n",
       "10     10          CA02  0140104440               SO in         2020.0   \n",
       "11     11          U001  0200749782             KROG us         2020.0   \n",
       "12     12          U001  0200707822           PUBLI llc         2020.0   \n",
       "13     13          U001  0200769623  WAL-MAR associates         2020.0   \n",
       "14     14          U001  0100043936        PAPA JO corp         2020.0   \n",
       "15     15          U001  0200769623          WAL-MAR co         2020.0   \n",
       "16     16          U001  0200772595              SAFEW          2020.0   \n",
       "17     17          U001  0200458131              TIMES          2020.0   \n",
       "18     18          U001  0200020431                DEC          2020.0   \n",
       "19     19          U001  0200772595       SAFEW systems         2020.0   \n",
       "20     20          U001  0200726979          BJ'S  corp         2020.0   \n",
       "21     21          U001  0200769623            WAL-MAR          2020.0   \n",
       "22     22          U001  0200769623          WAL-MAR us         2020.0   \n",
       "23     23          U001  0200777735   NASH  corporation         2020.0   \n",
       "24     24          CA02  0140104409     LOB corporation         2020.0   \n",
       "25     25          CA02  0140104409         LOB systems         2020.0   \n",
       "26     26          U001  0200762301          C&S WH llc         2020.0   \n",
       "27     27          U001  0200794332             COST co         2020.0   \n",
       "28     28          U001  0200712105             WALG us         2020.0   \n",
       "29     29          U001  0200792293   UNIFIE foundation         2020.0   \n",
       "30     30          U001   200769623            WAL-MAR          2020.0   \n",
       "31     31          U001  0200779906   BOZZU corporation         2020.0   \n",
       "32     32          U001  0200434439         BAUGH SU co         2020.0   \n",
       "33     33          U001  0200744019             TARG in         2020.0   \n",
       "34     34          U001   200759878            SA trust         2020.0   \n",
       "35     35          U001  0100031704         DELHAIZE in         2020.0   \n",
       "36     36          CA02  0140104409             LOB llc         2020.0   \n",
       "37     37          U001  0200799367      MCL associates         2020.0   \n",
       "38     38          U001  0200769623        WAL-MAR corp         2020.0   \n",
       "39     39          U001  0200793830              M corp         2020.0   \n",
       "40     40          U001  0200706844             WINC in         2020.0   \n",
       "41     41          U001  0200230690    DECA corporation         2020.0   \n",
       "42     42          U001  0200762301      C&S WH systems         2020.0   \n",
       "43     43          U001  0200769623  WAL-MAR associates         2020.0   \n",
       "44     44          U001      CCU013        KRAFT F corp         2020.0   \n",
       "45     45          U001  0200769623       WAL-MAR trust         2020.0   \n",
       "46     46          U001  0200772670         ASSOCIAT in         2020.0   \n",
       "47     47          U001  0200762301             C&S WH          2020.0   \n",
       "48     48          U001  0200769623         WAL-MAR llc         2020.0   \n",
       "49     49          U001  0200744019               TARG          2020.0   \n",
       "\n",
       "          doc_id posting_date  document_create_date  document_create_date.1  \\\n",
       "0   1.930830e+09   2020-04-29              20200427                20200429   \n",
       "1   1.930840e+09   2020-05-01              20200430                20200501   \n",
       "2   1.930652e+09   2020-03-14              20200314                20200314   \n",
       "3   1.930622e+09   2020-03-09              20200307                20200309   \n",
       "4   1.930714e+09   2020-03-27              20200327                20200327   \n",
       "5   1.930718e+09   2020-03-29              20200329                20200329   \n",
       "6   1.930759e+09   2020-04-08              20200407                20200408   \n",
       "7   1.930892e+09   2020-05-12              20200511                20200512   \n",
       "8   1.930611e+09   2020-03-05              20200306                20200305   \n",
       "9   1.930752e+09   2020-04-06              20200406                20200406   \n",
       "10  2.960623e+09   2020-03-22              20200322                20200322   \n",
       "11  1.930833e+09   2020-04-29              20200428                20200429   \n",
       "12  1.930576e+09   2020-02-28              20200228                20200228   \n",
       "13  1.930729e+09   2020-04-01              20200401                20200401   \n",
       "14  1.930732e+09   2020-04-03              20200402                20200403   \n",
       "15  1.930715e+09   2020-03-29              20200328                20200329   \n",
       "16  1.930856e+09   2020-05-06              20200506                20200506   \n",
       "17  1.930760e+09   2020-04-14              20200407                20200414   \n",
       "18  1.930768e+09   2020-04-09              20200409                20200409   \n",
       "19  1.930670e+09   2020-03-20              20200318                20200320   \n",
       "20  1.930774e+09   2020-04-09              20200410                20200409   \n",
       "21  1.930730e+09   2020-04-01              20200401                20200401   \n",
       "22  1.930646e+09   2020-03-13              20200312                20200313   \n",
       "23  1.930599e+09   2020-03-04              20200304                20200304   \n",
       "24  2.960621e+09   2020-03-17              20200317                20200317   \n",
       "25  2.960627e+09   2020-04-09              20200409                20200409   \n",
       "26  1.930666e+09   2020-03-18              20200318                20200318   \n",
       "27  1.930820e+09   2020-04-28              20200423                20200428   \n",
       "28  1.930803e+09   2020-04-20              20200420                20200420   \n",
       "29  1.930755e+09   2020-04-07              20200406                20200407   \n",
       "30  1.930885e+09   2020-05-10              20200511                20200510   \n",
       "31  1.930617e+09   2020-03-09              20200306                20200309   \n",
       "32  1.930856e+09   2020-05-04              20200504                20200504   \n",
       "33  1.930579e+09   2020-02-28              20200227                20200228   \n",
       "34  1.930701e+09   2020-03-27              20200325                20200327   \n",
       "35  1.930685e+09   2020-03-21              20200321                20200321   \n",
       "36  2.960617e+09   2020-03-03              20200303                20200303   \n",
       "37  1.930764e+09   2020-04-09              20200408                20200409   \n",
       "38  1.930829e+09   2020-04-27              20200427                20200427   \n",
       "39  1.930819e+09   2020-04-24              20200423                20200424   \n",
       "40  1.930706e+09   2020-03-24              20200326                20200324   \n",
       "41  1.930586e+09   2020-03-02              20200302                20200302   \n",
       "42  1.930780e+09   2020-04-14              20200413                20200414   \n",
       "43  1.930834e+09   2020-04-28              20200428                20200428   \n",
       "44  1.930690e+09   2020-03-23              20200324                20200323   \n",
       "45  1.930725e+09   2020-03-31              20200331                20200331   \n",
       "46  1.930788e+09   2020-04-14              20200415                20200414   \n",
       "47  1.930759e+09   2020-04-08              20200407                20200408   \n",
       "48  1.930837e+09   2020-04-29              20200429                20200429   \n",
       "49  1.930833e+09   2020-04-29              20200428                20200429   \n",
       "\n",
       "   due_in_date invoice_currency document type  posting_id  total_open_amount  \\\n",
       "0   2020-05-14              USD            RV         1.0          1891.0100   \n",
       "1   2020-05-16              USD            RV         1.0         34880.5000   \n",
       "2   2020-03-29              USD            RV         1.0         84476.3300   \n",
       "3   2020-04-10              USD            RV         1.0         32378.8600   \n",
       "4   2020-04-26              USD            RV         1.0          1020.0000   \n",
       "5   2020-04-13              USD            RV         1.0         37514.4200   \n",
       "6   2020-04-23              USD            RV         1.0          5711.6800   \n",
       "7   2020-05-27              USD            RV         1.0         56291.1500   \n",
       "8   2020-03-20              USD            RV         1.0         49505.2800   \n",
       "9   2020-04-21              USD            RV         1.0         31705.4900   \n",
       "10  2020-04-04              CAD            RV         1.0        248145.3168   \n",
       "11  2020-05-14              USD            RV         1.0         66215.8300   \n",
       "12  2020-03-14              USD            RV         1.0         23202.2900   \n",
       "13  2020-04-16              USD            RV         1.0         63220.0600   \n",
       "14  2020-04-13              USD            RV         1.0         18135.8800   \n",
       "15  2020-04-13              USD            RV         1.0         12790.1600   \n",
       "16  2020-05-21              USD            RV         1.0        107493.4800   \n",
       "17  2020-04-29              USD            RV         1.0          2843.7700   \n",
       "18  2020-04-24              USD            RV         1.0          5539.9100   \n",
       "19  2020-04-04              USD            RV         1.0         11712.9600   \n",
       "20  2020-04-24              USD            RV         1.0           526.3600   \n",
       "21  2020-04-16              USD            RV         1.0         23644.4700   \n",
       "22  2020-03-28              USD            RV         1.0         68883.8500   \n",
       "23  2020-03-19              USD            RV         1.0         16536.0700   \n",
       "24  2020-04-06              CAD            RV         1.0         22656.7599   \n",
       "25  2020-04-27              CAD            RV         1.0         17203.9608   \n",
       "26  2020-04-02              USD            RV         1.0          9419.6200   \n",
       "27  2020-05-18              USD            RV         1.0         32481.8800   \n",
       "28  2020-05-05              USD            RV         1.0         37894.8500   \n",
       "29  2020-04-22              USD            RV         1.0          7968.5300   \n",
       "30  2020-05-25              USD            RV         1.0         37833.1100   \n",
       "31  2020-03-24              USD            RV         1.0          3311.9100   \n",
       "32  2020-05-19              USD            RV         1.0         59810.4300   \n",
       "33  2020-03-14              USD            RV         1.0        129392.9200   \n",
       "34  2020-04-11              USD            RV         1.0         21337.9200   \n",
       "35  2020-04-05              USD            RV         1.0         69475.8100   \n",
       "36  2020-03-20              CAD            RV         1.0         13000.0791   \n",
       "37  2020-04-24              USD            RV         1.0         95360.0400   \n",
       "38  2020-05-12              USD            RV         1.0          3270.0400   \n",
       "39  2020-05-09              USD            RV         1.0         99245.2400   \n",
       "40  2020-04-08              USD            RV         1.0         64919.4600   \n",
       "41  2020-03-24              USD            RV         1.0          6713.3600   \n",
       "42  2020-04-29              USD            RV         1.0         13077.8200   \n",
       "43  2020-05-13              USD            RV         1.0          2169.3700   \n",
       "44  2020-03-23              USD            RV         1.0         55036.8600   \n",
       "45  2020-04-15              USD            RV         1.0         16401.0600   \n",
       "46  2020-04-29              USD            RV         1.0         81356.9400   \n",
       "47  2020-04-23              USD            RV         1.0          2648.6700   \n",
       "48  2020-05-14              USD            RV         1.0          5601.6700   \n",
       "49  2020-05-14              USD            RV         1.0          4185.6900   \n",
       "\n",
       "    baseline_create_date cust_payment_terms    invoice_id  isOpen  Delay  \\\n",
       "0             20200429.0               NAA8  1.930830e+09       1   15.0   \n",
       "1             20200501.0               NAA8  1.930840e+09       1    1.0   \n",
       "2             20200314.0               NAA8  1.930652e+09       1    8.0   \n",
       "3             20200309.0               NA32  1.930622e+09       1    1.0   \n",
       "4             20200327.0               NAD5  1.930714e+09       1    1.0   \n",
       "5             20200329.0               NAH4  1.930718e+09       1    1.0   \n",
       "6             20200408.0               NAH4  1.930759e+09       1   -6.0   \n",
       "7             20200512.0               NAH4  1.930892e+09       1    1.0   \n",
       "8             20200305.0               NAH4  1.930611e+09       1   -8.0   \n",
       "9             20200406.0               NAH4  1.930752e+09       1    1.0   \n",
       "10            20200325.0               CA10  2.960623e+09       1    1.0   \n",
       "11            20200429.0               NAA8  1.930833e+09       1    1.0   \n",
       "12            20200228.0               NAA8  1.930576e+09       1    1.0   \n",
       "13            20200401.0               NAH4  1.930729e+09       1    5.0   \n",
       "14            20200403.0               NA10  1.930732e+09       1    1.0   \n",
       "15            20200329.0               NAH4  1.930715e+09       1    2.0   \n",
       "16            20200506.0               NAA8  1.930856e+09       1    6.0   \n",
       "17            20200414.0               NAA8  1.930760e+09       1    2.0   \n",
       "18            20200401.0               NAM4  1.930768e+09       1    1.0   \n",
       "19            20200320.0               NAA8  1.930670e+09       1    2.0   \n",
       "20            20200409.0               NAA8  1.930774e+09       1    1.0   \n",
       "21            20200401.0               NAH4  1.930730e+09       1    2.0   \n",
       "22            20200313.0               NAH4  1.930646e+09       1    2.0   \n",
       "23            20200304.0               NAA8  1.930599e+09       1  -10.0   \n",
       "24            20200327.0               CA10  2.960621e+09       1    8.0   \n",
       "25            20200417.0               CA10  2.960627e+09       1    8.0   \n",
       "26            20200318.0               NAC6  1.930666e+09       1    1.0   \n",
       "27            20200428.0               NA84  1.930820e+09       1    1.0   \n",
       "28            20200420.0               NAA8  1.930803e+09       1    1.0   \n",
       "29            20200407.0               NAA8  1.930755e+09       1   18.0   \n",
       "30            20200510.0               NAH4  1.930885e+09       1    1.0   \n",
       "31            20200309.0               NAA8  1.930617e+09       1    3.0   \n",
       "32            20200504.0               NAA8  1.930856e+09       1    6.0   \n",
       "33            20200228.0               NAA8  1.930579e+09       1   -6.0   \n",
       "34            20200327.0               NAH4  1.930701e+09       1   -5.0   \n",
       "35            20200321.0               NAA8  1.930685e+09       1    2.0   \n",
       "36            20200310.0               CA10  2.960617e+09       1    1.0   \n",
       "37            20200409.0               NAA8  1.930764e+09       1  -10.0   \n",
       "38            20200427.0               NAH4  1.930829e+09       1    1.0   \n",
       "39            20200424.0               NAA8  1.930819e+09       1  -11.0   \n",
       "40            20200324.0               NAA8  1.930706e+09       1    1.0   \n",
       "41            20200301.0               NAM4  1.930586e+09       1   -9.0   \n",
       "42            20200414.0               NAC6  1.930780e+09       1  -11.0   \n",
       "43            20200428.0               NAH4  1.930834e+09       1   12.0   \n",
       "44            20200323.0               NAX2  1.930690e+09       1  -11.0   \n",
       "45            20200331.0               NAH4  1.930725e+09       1    1.0   \n",
       "46            20200414.0               NAU5  1.930788e+09       1  -11.0   \n",
       "47            20200408.0               NAC6  1.930759e+09       1   11.0   \n",
       "48            20200429.0               NAH4  1.930837e+09       1    1.0   \n",
       "49            20200429.0               NAA8  1.930833e+09       1    1.0   \n",
       "\n",
       "   predicted_payment_date  \n",
       "0              2020-05-29  \n",
       "1              2020-05-17  \n",
       "2              2020-04-06  \n",
       "3              2020-04-11  \n",
       "4              2020-04-27  \n",
       "5              2020-04-14  \n",
       "6              2020-04-17  \n",
       "7              2020-05-28  \n",
       "8              2020-03-12  \n",
       "9              2020-04-22  \n",
       "10             2020-04-05  \n",
       "11             2020-05-15  \n",
       "12             2020-03-15  \n",
       "13             2020-04-21  \n",
       "14             2020-04-14  \n",
       "15             2020-04-15  \n",
       "16             2020-05-27  \n",
       "17             2020-05-01  \n",
       "18             2020-04-25  \n",
       "19             2020-04-06  \n",
       "20             2020-04-25  \n",
       "21             2020-04-18  \n",
       "22             2020-03-30  \n",
       "23             2020-03-09  \n",
       "24             2020-04-14  \n",
       "25             2020-05-05  \n",
       "26             2020-04-03  \n",
       "27             2020-05-19  \n",
       "28             2020-05-06  \n",
       "29             2020-05-10  \n",
       "30             2020-05-26  \n",
       "31             2020-03-27  \n",
       "32             2020-05-25  \n",
       "33             2020-03-08  \n",
       "34             2020-04-06  \n",
       "35             2020-04-07  \n",
       "36             2020-03-21  \n",
       "37             2020-04-14  \n",
       "38             2020-05-13  \n",
       "39             2020-04-28  \n",
       "40             2020-04-09  \n",
       "41             2020-03-15  \n",
       "42             2020-04-18  \n",
       "43             2020-05-25  \n",
       "44             2020-03-12  \n",
       "45             2020-04-16  \n",
       "46             2020-04-18  \n",
       "47             2020-05-04  \n",
       "48             2020-05-15  \n",
       "49             2020-05-15  "
      ]
     },
     "execution_count": 159,
     "metadata": {},
     "output_type": "execute_result"
    }
   ],
   "source": [
    "Final.head(50)"
   ]
  },
  {
   "cell_type": "code",
   "execution_count": 160,
   "id": "ba046198",
   "metadata": {},
   "outputs": [],
   "source": [
    "bucket=list()"
   ]
  },
  {
   "cell_type": "code",
   "execution_count": 161,
   "id": "026f4ce8",
   "metadata": {},
   "outputs": [],
   "source": [
    "for x in finala:\n",
    "  if x<0:\n",
    "    bucket.append('Paid before due date')\n",
    "  elif x>=0 and x<=15:\n",
    "    bucket.append('0-15 days')\n",
    "  elif x>=16 and x<=30:\n",
    "    bucket.append('16-30 days')\n",
    "  elif x>=31 and x<=45:\n",
    "    bucket.append('31-45 days')\n",
    "  elif x>=46 and x<=60:\n",
    "    bucket.append('46-60 days')\n",
    "  elif x>60:\n",
    "    bucket.append('More than 60 days')"
   ]
  },
  {
   "cell_type": "code",
   "execution_count": 162,
   "id": "2572539b",
   "metadata": {},
   "outputs": [],
   "source": [
    "Final['bucket_of_days']=bucket"
   ]
  },
  {
   "cell_type": "code",
   "execution_count": null,
   "id": "49537281",
   "metadata": {},
   "outputs": [],
   "source": []
  },
  {
   "cell_type": "code",
   "execution_count": 163,
   "id": "dddb9cce",
   "metadata": {},
   "outputs": [],
   "source": [
    "Final.to_csv('final.csv')"
   ]
  },
  {
   "cell_type": "code",
   "execution_count": 164,
   "id": "76c7b40b",
   "metadata": {
    "scrolled": true
   },
   "outputs": [
    {
     "data": {
      "text/html": [
       "<div>\n",
       "<style scoped>\n",
       "    .dataframe tbody tr th:only-of-type {\n",
       "        vertical-align: middle;\n",
       "    }\n",
       "\n",
       "    .dataframe tbody tr th {\n",
       "        vertical-align: top;\n",
       "    }\n",
       "\n",
       "    .dataframe thead th {\n",
       "        text-align: right;\n",
       "    }\n",
       "</style>\n",
       "<table border=\"1\" class=\"dataframe\">\n",
       "  <thead>\n",
       "    <tr style=\"text-align: right;\">\n",
       "      <th></th>\n",
       "      <th>key_0</th>\n",
       "      <th>business_code</th>\n",
       "      <th>cust_number</th>\n",
       "      <th>name_customer</th>\n",
       "      <th>buisness_year</th>\n",
       "      <th>doc_id</th>\n",
       "      <th>posting_date</th>\n",
       "      <th>document_create_date</th>\n",
       "      <th>document_create_date.1</th>\n",
       "      <th>due_in_date</th>\n",
       "      <th>...</th>\n",
       "      <th>document type</th>\n",
       "      <th>posting_id</th>\n",
       "      <th>total_open_amount</th>\n",
       "      <th>baseline_create_date</th>\n",
       "      <th>cust_payment_terms</th>\n",
       "      <th>invoice_id</th>\n",
       "      <th>isOpen</th>\n",
       "      <th>Delay</th>\n",
       "      <th>predicted_payment_date</th>\n",
       "      <th>bucket_of_days</th>\n",
       "    </tr>\n",
       "  </thead>\n",
       "  <tbody>\n",
       "    <tr>\n",
       "      <th>0</th>\n",
       "      <td>0</td>\n",
       "      <td>U001</td>\n",
       "      <td>200706844</td>\n",
       "      <td>WINC corporation</td>\n",
       "      <td>2020.0</td>\n",
       "      <td>1.930830e+09</td>\n",
       "      <td>2020-04-29</td>\n",
       "      <td>20200427</td>\n",
       "      <td>20200429</td>\n",
       "      <td>2020-05-14</td>\n",
       "      <td>...</td>\n",
       "      <td>RV</td>\n",
       "      <td>1.0</td>\n",
       "      <td>1891.01</td>\n",
       "      <td>20200429.0</td>\n",
       "      <td>NAA8</td>\n",
       "      <td>1.930830e+09</td>\n",
       "      <td>1</td>\n",
       "      <td>15.0</td>\n",
       "      <td>2020-05-29</td>\n",
       "      <td>0-15 days</td>\n",
       "    </tr>\n",
       "    <tr>\n",
       "      <th>1</th>\n",
       "      <td>1</td>\n",
       "      <td>U001</td>\n",
       "      <td>0200729290</td>\n",
       "      <td>KROGER us</td>\n",
       "      <td>2020.0</td>\n",
       "      <td>1.930840e+09</td>\n",
       "      <td>2020-05-01</td>\n",
       "      <td>20200430</td>\n",
       "      <td>20200501</td>\n",
       "      <td>2020-05-16</td>\n",
       "      <td>...</td>\n",
       "      <td>RV</td>\n",
       "      <td>1.0</td>\n",
       "      <td>34880.50</td>\n",
       "      <td>20200501.0</td>\n",
       "      <td>NAA8</td>\n",
       "      <td>1.930840e+09</td>\n",
       "      <td>1</td>\n",
       "      <td>1.0</td>\n",
       "      <td>2020-05-17</td>\n",
       "      <td>0-15 days</td>\n",
       "    </tr>\n",
       "    <tr>\n",
       "      <th>2</th>\n",
       "      <td>2</td>\n",
       "      <td>U001</td>\n",
       "      <td>0200799538</td>\n",
       "      <td>UNITE foundation</td>\n",
       "      <td>2020.0</td>\n",
       "      <td>1.930652e+09</td>\n",
       "      <td>2020-03-14</td>\n",
       "      <td>20200314</td>\n",
       "      <td>20200314</td>\n",
       "      <td>2020-03-29</td>\n",
       "      <td>...</td>\n",
       "      <td>RV</td>\n",
       "      <td>1.0</td>\n",
       "      <td>84476.33</td>\n",
       "      <td>20200314.0</td>\n",
       "      <td>NAA8</td>\n",
       "      <td>1.930652e+09</td>\n",
       "      <td>1</td>\n",
       "      <td>8.0</td>\n",
       "      <td>2020-04-06</td>\n",
       "      <td>0-15 days</td>\n",
       "    </tr>\n",
       "    <tr>\n",
       "      <th>3</th>\n",
       "      <td>3</td>\n",
       "      <td>U001</td>\n",
       "      <td>0200714710</td>\n",
       "      <td>SYSCO  corp</td>\n",
       "      <td>2020.0</td>\n",
       "      <td>1.930622e+09</td>\n",
       "      <td>2020-03-09</td>\n",
       "      <td>20200307</td>\n",
       "      <td>20200309</td>\n",
       "      <td>2020-04-10</td>\n",
       "      <td>...</td>\n",
       "      <td>RV</td>\n",
       "      <td>1.0</td>\n",
       "      <td>32378.86</td>\n",
       "      <td>20200309.0</td>\n",
       "      <td>NA32</td>\n",
       "      <td>1.930622e+09</td>\n",
       "      <td>1</td>\n",
       "      <td>1.0</td>\n",
       "      <td>2020-04-11</td>\n",
       "      <td>0-15 days</td>\n",
       "    </tr>\n",
       "    <tr>\n",
       "      <th>4</th>\n",
       "      <td>4</td>\n",
       "      <td>U001</td>\n",
       "      <td>0100012707</td>\n",
       "      <td>IR associates</td>\n",
       "      <td>2020.0</td>\n",
       "      <td>1.930714e+09</td>\n",
       "      <td>2020-03-27</td>\n",
       "      <td>20200327</td>\n",
       "      <td>20200327</td>\n",
       "      <td>2020-04-26</td>\n",
       "      <td>...</td>\n",
       "      <td>RV</td>\n",
       "      <td>1.0</td>\n",
       "      <td>1020.00</td>\n",
       "      <td>20200327.0</td>\n",
       "      <td>NAD5</td>\n",
       "      <td>1.930714e+09</td>\n",
       "      <td>1</td>\n",
       "      <td>1.0</td>\n",
       "      <td>2020-04-27</td>\n",
       "      <td>0-15 days</td>\n",
       "    </tr>\n",
       "  </tbody>\n",
       "</table>\n",
       "<p>5 rows × 21 columns</p>\n",
       "</div>"
      ],
      "text/plain": [
       "   key_0 business_code cust_number     name_customer  buisness_year  \\\n",
       "0      0          U001   200706844  WINC corporation         2020.0   \n",
       "1      1          U001  0200729290         KROGER us         2020.0   \n",
       "2      2          U001  0200799538  UNITE foundation         2020.0   \n",
       "3      3          U001  0200714710       SYSCO  corp         2020.0   \n",
       "4      4          U001  0100012707     IR associates         2020.0   \n",
       "\n",
       "         doc_id posting_date  document_create_date  document_create_date.1  \\\n",
       "0  1.930830e+09   2020-04-29              20200427                20200429   \n",
       "1  1.930840e+09   2020-05-01              20200430                20200501   \n",
       "2  1.930652e+09   2020-03-14              20200314                20200314   \n",
       "3  1.930622e+09   2020-03-09              20200307                20200309   \n",
       "4  1.930714e+09   2020-03-27              20200327                20200327   \n",
       "\n",
       "  due_in_date  ... document type posting_id  total_open_amount  \\\n",
       "0  2020-05-14  ...            RV        1.0            1891.01   \n",
       "1  2020-05-16  ...            RV        1.0           34880.50   \n",
       "2  2020-03-29  ...            RV        1.0           84476.33   \n",
       "3  2020-04-10  ...            RV        1.0           32378.86   \n",
       "4  2020-04-26  ...            RV        1.0            1020.00   \n",
       "\n",
       "   baseline_create_date  cust_payment_terms    invoice_id  isOpen  Delay  \\\n",
       "0            20200429.0                NAA8  1.930830e+09       1   15.0   \n",
       "1            20200501.0                NAA8  1.930840e+09       1    1.0   \n",
       "2            20200314.0                NAA8  1.930652e+09       1    8.0   \n",
       "3            20200309.0                NA32  1.930622e+09       1    1.0   \n",
       "4            20200327.0                NAD5  1.930714e+09       1    1.0   \n",
       "\n",
       "   predicted_payment_date bucket_of_days  \n",
       "0              2020-05-29      0-15 days  \n",
       "1              2020-05-17      0-15 days  \n",
       "2              2020-04-06      0-15 days  \n",
       "3              2020-04-11      0-15 days  \n",
       "4              2020-04-27      0-15 days  \n",
       "\n",
       "[5 rows x 21 columns]"
      ]
     },
     "execution_count": 164,
     "metadata": {},
     "output_type": "execute_result"
    }
   ],
   "source": [
    "Final.head()"
   ]
  },
  {
   "cell_type": "markdown",
   "id": "b7a6f480",
   "metadata": {},
   "source": [
    "## The clear date is predicted"
   ]
  }
 ],
 "metadata": {
  "kernelspec": {
   "display_name": "Python 3",
   "language": "python",
   "name": "python3"
  },
  "language_info": {
   "codemirror_mode": {
    "name": "ipython",
    "version": 3
   },
   "file_extension": ".py",
   "mimetype": "text/x-python",
   "name": "python",
   "nbconvert_exporter": "python",
   "pygments_lexer": "ipython3",
   "version": "3.9.5"
  }
 },
 "nbformat": 4,
 "nbformat_minor": 5
}
